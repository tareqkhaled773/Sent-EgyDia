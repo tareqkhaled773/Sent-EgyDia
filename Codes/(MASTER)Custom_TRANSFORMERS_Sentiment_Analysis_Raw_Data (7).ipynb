{
  "cells": [
    {
      "cell_type": "code",
      "execution_count": null,
      "metadata": {
        "id": "e31LxHWzWFvD"
      },
      "outputs": [],
      "source": [
        "from google.colab import drive\n",
        "drive.mount('/content/drive',force_remount=True) # Mount google drive to load training and testing data"
      ]
    },
    {
      "cell_type": "code",
      "execution_count": null,
      "metadata": {
        "id": "yscm708fGi3m"
      },
      "outputs": [],
      "source": [
        "# This where all the Packages are cached instead or reinstalling them every new runtime\n",
        "PACKAGES_DIR = '/content/drive/My Drive/Master1/pip_cache'\n",
        "\n",
        "# This is where MERGED & PREPROCESSED & CLEANED Dataset is\n",
        "PREPROCESSED_MERGED_DATASET_DIR = '/content/drive/MyDrive/Master1/Sentiment/PREPROCESSED_DATASET/'\n",
        "\n",
        "\n",
        "# This is where the figures are saved\n",
        "FIGURES_DIR = '/content/drive/MyDrive/Master1/Sentiment/FIGURES/FIGURES_2/'\n",
        "\n",
        "\n",
        "TEMPLATES_DIR = '/content/drive/MyDrive/Master1/Sentiment/templates/'\n",
        "\n",
        "\n",
        "\n",
        "  #########################################################################  PYTORCH ##########################################################\n",
        "\n",
        "# Directory where the pytorch models will be saved\n",
        "PY_CUSTOM_CAMEL_MODEL_DIR = '/content/drive/MyDrive/Master1/Sentiment/custom_models/camel/py/model/model_2/'\n",
        "\n",
        "# Directory where the pytorch models will be saved\n",
        "PY_CUSTOM_CAMEL_MIX_MODEL_DIR = '/content/drive/MyDrive/Master1/Sentiment/custom_models/camel_mix/py/model/model_2/'\n",
        "\n",
        "# Directory where the pytorch models will be saved\n",
        "PY_CUSTOM_ALANZI_MODEL_DIR = '/content/drive/MyDrive/Master1/Sentiment/custom_models/alanzi/py/model/'\n",
        "\n",
        "# i change dropout rate from\n",
        "PY_CUSTOM_ALANZI2_MODEL_DIR = '/content/drive/MyDrive/Master1/Sentiment/custom_models/alanzi2/py/model/'\n",
        "\n",
        "# i change dropout rate from\n",
        "PY_CUSTOM_ALANZI3_MODEL_DIR = '/content/drive/MyDrive/Master1/Sentiment/custom_models/alanzi3/py/model/model_2/'\n",
        "\n",
        "\n",
        "# Directory where the pytorch models will be saved\n",
        "PY_CUSTOM_ARABERT_MODEL_DIR = '/content/drive/MyDrive/Master1/Sentiment/custom_models/arabert/py/model/'\n",
        "\n",
        "\n",
        "# Directory where the pytorch models will be saved\n",
        "PY_CUSTOM_MARBERT_MODEL_DIR = '/content/drive/MyDrive/Master1/Sentiment/custom_models/marbert/py/model/model_2/'\n",
        "\n",
        "# Directory where the purely pytorch models will be saved\n",
        "PY_ARABERT_MODEL_DIR = '/content/drive/MyDrive/Master1/Sentiment/models/arabert/py/model/'+\"checkpoint-19302\"\n",
        "\n",
        "# Directory where the pytorch models will be saved\n",
        "\n",
        "PY_ENSEMBLE_MODEL_DIR = '/content/drive/MyDrive/Master1/Sentiment/custom_models/ensemble/'\n",
        "PY_ENSEMBLE_MODEL_DIR1 = '/content/drive/MyDrive/Master1/Sentiment/custom_models/ensemble1/ensemble2/'\n",
        "\n",
        "# Number of Figures\n",
        "FIGURE_COUNTS = 1\n",
        "\n",
        "PY_CUSTOM_Qarib_MODEL_DIR = '/content/drive/MyDrive/Master1/Sentiment/custom_models/qarib/py/model/'\n",
        "PY_CUSTOM_Arab_bert2_MODEL_DIR = '/content/drive/MyDrive/Master1/Sentiment/custom_models/arabbert2/py/model/'\n",
        "PY_CUSTOM_Giga_bert_MODEL_DIR = '/content/drive/MyDrive/Master1/Sentiment/custom_models/gigabert/py/model/'\n",
        "\n"
      ]
    },
    {
      "cell_type": "markdown",
      "metadata": {
        "id": "RMXPLeRuMpd3"
      },
      "source": [
        "# Packages"
      ]
    },
    {
      "cell_type": "code",
      "execution_count": null,
      "metadata": {
        "id": "iVHfaOevIkCL"
      },
      "outputs": [],
      "source": [
        "!pip config set global.cache-dir /content/drive/My\\ Drive/Master1/pip_cache\n",
        "\n",
        "\n",
        "\n",
        "!pip install --cache-dir '/content/drive/My Drive/Master1/pip_cache'  transformers datasets\n",
        "!pip install --cache-dir '/content/drive/My Drive/Master1/pip_cache'  torchinfo\n",
        "!pip install --cache-dir '/content/drive/My Drive/Master1/pip_cache'  evaluate\n",
        "!pip install --cache-dir '/content/drive/My Drive/Master1/pip_cache'  pydot graphviz\n",
        "!pip install --cache-dir '/content/drive/My Drive/Master1/pip_cache'  accelerate\n",
        "\n",
        "\n",
        "\n",
        "# !pip install --cache-dir '/content/drive/My Drive/Bachelor/pip_cache' wordcloud\n",
        "# !pip install --cache-dir '/content/drive/My Drive/Bachelor/pip_cache' ar_wordcloud\n",
        "# !pip install --cache-dir '/content/drive/My Drive/Bachelor/pip_cache' python-bidi\n",
        "# !pip install --cache-dir '/content/drive/My Drive/Bachelor/pip_cache' arabic_reshaper\n",
        "# !pip install --cache-dir '/content/drive/My Drive/Bachelor/pip_cache' arabic-reshaper\n",
        "# !pip install --cache-dir '/content/drive/My Drive/Bachelor/pip_cache' autokeras\n",
        "\n",
        "\n",
        "from IPython.display import clear_output\n",
        "clear_output() # clear output window"
      ]
    },
    {
      "cell_type": "code",
      "execution_count": null,
      "metadata": {
        "id": "mKcoTmNZISdm"
      },
      "outputs": [],
      "source": [
        "# Packages\n",
        "# types in python\n",
        "from typing import List, Tuple ,Dict ,Any , Union\n",
        "import time\n",
        "import string\n",
        "import os\n",
        "import random\n",
        "\n",
        "\n",
        "\n",
        "from collections import Counter\n",
        "\n",
        "\n",
        "# Data Manipulating  & Preprocessing packages\n",
        "import numpy as np\n",
        "from sklearn.preprocessing import LabelEncoder\n",
        "import unicodedata # normlization of arabic letters encoding to be unicoded\n",
        "import pandas as pd\n",
        "pd.set_option('display.max_colwidth', None) # Setting the display option to show the full width of columns in pandas dataframe.\n",
        "\n",
        "\n",
        "\n",
        "\n",
        "# Model\n",
        "from sklearn.linear_model import LogisticRegression\n",
        "import tensorflow as tf\n",
        "from transformers import pipeline\n",
        "import torch\n",
        "\n",
        "\n",
        "\n",
        "# Metrics\n",
        "from sklearn.metrics import roc_auc_score,f1_score,confusion_matrix,roc_curve\n",
        "import evaluate\n",
        "\n",
        "\n",
        "import warnings\n",
        "warnings.simplefilter(action='ignore')\n",
        "warnings.filterwarnings(\"ignore\")\n",
        "\n",
        "# visualization library\n",
        "pd.plotting.register_matplotlib_converters()\n",
        "import matplotlib.pyplot as plt\n",
        "%matplotlib inline\n",
        "import seaborn as sns\n",
        "from wordcloud import WordCloud\n",
        "from pylab import rcParams\n",
        "rcParams['figure.figsize'] = 14, 6\n",
        "\n",
        "# Random Seed\n",
        "RANDOM_SEED=42\n",
        "RANDOM_STATE=42\n",
        "\n",
        "\n",
        "\n",
        "def set_seed(seed=42):\n",
        "  RANDOM_SEED=seed\n",
        "  RANDOM_STATE=seed\n",
        "  random.seed(seed)\n",
        "  np.random.seed(seed)\n",
        "  torch.manual_seed(seed)\n",
        "  torch.cuda.manual_seed(seed)\n",
        "  torch.cuda.manual_seed_all(seed)\n",
        "  torch.backends.cudnn.deterministic=True\n",
        "  torch.backends.cudnn.benchmark = False\n",
        "\n",
        "\n",
        "\n",
        "# Set Matplotlib defaults\n",
        "plt.style.use('ggplot')\n",
        "#plt.style.use(\"seaborn-whitegrid\")\n",
        "plt.rc(\"figure\", autolayout=True)\n",
        "plt.rc(\n",
        "    \"axes\",\n",
        "    labelweight=\"bold\",\n",
        "    labelsize=\"large\",\n",
        "    titleweight=\"bold\",\n",
        "    titlesize=14,\n",
        "    titlepad=10,\n",
        ")\n",
        "\n"
      ]
    },
    {
      "cell_type": "markdown",
      "metadata": {
        "id": "dxcJHYkFpNsE"
      },
      "source": [
        "# Transformers\n",
        "\n",
        "> we will define general constants for Pytorch(Dynamic Computation Graph)"
      ]
    },
    {
      "cell_type": "markdown",
      "metadata": {
        "id": "b9JLrEECf60N"
      },
      "source": [
        "#### Constants"
      ]
    },
    {
      "cell_type": "code",
      "execution_count": null,
      "metadata": {
        "id": "z9IU-PL1WbSK"
      },
      "outputs": [],
      "source": [
        "# CONSTANTS\n",
        "\n",
        "# batch size\n",
        "BATCH_SIZE = 32\n",
        "\n",
        "# number of epochs\n",
        "EPOCHS = 10\n",
        "\n",
        "# max length of sequences\n",
        "MAX_LEN = 80\n",
        "\n",
        "# Learning Rate of the optimizers\n",
        "LEARNING_RATE = 3e-5\n",
        "\n",
        "\n",
        "# Default Epsilon\n",
        "EPSILON =1e-8\n"
      ]
    },
    {
      "cell_type": "markdown",
      "metadata": {
        "id": "CqyzSmBXp-Wb"
      },
      "source": [
        "#### Metrics"
      ]
    },
    {
      "cell_type": "code",
      "execution_count": null,
      "metadata": {
        "id": "z-m6zkzdpPp2"
      },
      "outputs": [],
      "source": [
        "#from datasets import load_metric\n",
        "import evaluate\n",
        "from sklearn.metrics import f1_score, precision_score, recall_score,accuracy_score\n",
        "\n",
        "\n",
        "\n",
        "\n",
        "def compute_metrics(eval_preds:Tuple[np.ndarray, np.ndarray]) -> Dict[str, Any]:\n",
        "  \"\"\"  called each time the model is evaluated on the validation dataset\n",
        "        @returns a dictionary of metrics such as accuracy(glu) , acc_score , F1 score, precision,recall,roc_score and auc_score.\"\"\"\n",
        "  logits, labels = eval_preds\n",
        "  predictions = np.argmax(logits, axis=-1)\n",
        "  # f1-score\n",
        "  f1_macro = f1_score(labels, predictions, average='macro')\n",
        "  f1_weighted = f1_score(labels, predictions, average='weighted')\n",
        "  # precision\n",
        "  precision_macro = precision_score(labels, predictions, average='macro')\n",
        "  precision_weighted = precision_score(labels, predictions, average='weighted')\n",
        "  # recall\n",
        "  recall_macro = recall_score(labels, predictions, average='macro')\n",
        "  recall_weighted = recall_score(labels, predictions, average='weighted')\n",
        "\n",
        "  #acc_score=accuracy_score(labels,predictions)\n",
        "\n",
        "  metric = evaluate.load(\"glue\", \"sst2\")\n",
        "  metrics = metric.compute(predictions=predictions, references=labels)\n",
        "  metrics.update({\n",
        "        \"f1_macro\": f1_macro,\n",
        "        \"f1_weighted\": f1_weighted,\n",
        "        \"precision_macro\": precision_macro,\n",
        "        \"precision_weighted\": precision_weighted,\n",
        "        \"recall_macro\": recall_macro,\n",
        "        \"recall_weighted\": recall_weighted,\n",
        "      #  'accuracy_score':acc_score\n",
        "        })\n",
        "  return metrics\n",
        "\n",
        "\n"
      ]
    },
    {
      "cell_type": "markdown",
      "metadata": {
        "id": "ik2UPFVafvV4"
      },
      "source": [
        "## Transformers using Pytorch"
      ]
    },
    {
      "cell_type": "markdown",
      "metadata": {
        "id": "bmHXoCZSITw_"
      },
      "source": [
        "### Packages"
      ]
    },
    {
      "cell_type": "code",
      "execution_count": null,
      "metadata": {
        "id": "j09cclMHIQHU"
      },
      "outputs": [],
      "source": [
        "from datasets import load_dataset\n",
        "import evaluate\n",
        "from transformers import AutoConfig,AutoTokenizer,TFAutoModelForSequenceClassification, TrainingArguments, Trainer, DataCollatorWithPadding, EarlyStoppingCallback,AutoModelForSequenceClassification\n",
        "import torch\n",
        "import os"
      ]
    },
    {
      "cell_type": "markdown",
      "metadata": {
        "id": "ikHQBnVdfub_"
      },
      "source": [
        "### Clear Previous Sessions"
      ]
    },
    {
      "cell_type": "code",
      "execution_count": null,
      "metadata": {
        "id": "h8fdwDbe0PDe"
      },
      "outputs": [],
      "source": [
        "from keras.backend import clear_session # clears the current Keras session and frees up memory.\n",
        "import gc\n",
        "clear_session()\n",
        "\n",
        "# set the maximum split size to 512 MB\n",
        "max_split_size_mb = 512\n",
        "\n",
        "\n",
        "# Clear PyTorch cache (if using a GPU)\n",
        "if torch.cuda.is_available():\n",
        "    torch.cuda.empty_cache()\n",
        "gc.collect()\n",
        "\n",
        "# Delete existing PyTorch models or variables\n",
        "\n",
        "model = 'dummy'\n",
        "optimizer= 'dummy'\n",
        "tokenizer='dummy'\n",
        "trainer='dummy'\n",
        "del model, optimizer,tokenizer,trainer\n",
        "\n",
        "# set the environment variable\n",
        "#os.environ['PYTORCH_CUDA_ALLOC_CONF'] = f'max_split_size={max_split_size_mb}'\n"
      ]
    },
    {
      "cell_type": "code",
      "execution_count": null,
      "metadata": {
        "id": "7BJvfmhu3K-9"
      },
      "outputs": [],
      "source": [
        "#  check if your system has a compatible NVIDIA G\n",
        "print(torch.cuda.is_available())"
      ]
    },
    {
      "cell_type": "markdown",
      "metadata": {
        "id": "lbEfkWjQoot7"
      },
      "source": [
        "### My Preprocessed Labeled Dataset\n",
        "> Consists of Egyptian and Modern Standard Arabic (MSA) .\n",
        "\n",
        ">\n",
        "```\n",
        "{'LABEL': Value(dtype='int64', id=None),\n",
        " 'TWEET': Value(dtype='string', id=None)}\n",
        "```\n",
        "> Label explaination :\n",
        "\n",
        "```\n",
        "SENTIMENT_TO_ID = {\n",
        "   \"positive\": 0 ,\n",
        "   \"negative\": 1,\n",
        "   \"neutral\": 2,\n",
        "}\n",
        "\n",
        "ID_TO_SENTIMENT = {\n",
        "   0:\"positive\" ,\n",
        "   1:\"negative\" ,\n",
        "   2:\"neutral\",\n",
        "   }\n",
        "```"
      ]
    },
    {
      "cell_type": "code",
      "execution_count": null,
      "metadata": {
        "id": "qsidSelFoot9"
      },
      "outputs": [],
      "source": [
        "SENTIMENT_TO_ID = {\n",
        "   \"positive\": 0 ,\n",
        "   \"negative\": 1,\n",
        "   \"neutral\": 2,\n",
        "}\n",
        "\n",
        "ID_TO_SENTIMENT = {\n",
        "   0:\"positive\" ,\n",
        "   1:\"negative\" ,\n",
        "   2:\"neutral\",\n",
        "}"
      ]
    },
    {
      "cell_type": "code",
      "execution_count": null,
      "metadata": {
        "id": "TcnguBCuoot-"
      },
      "outputs": [],
      "source": [
        "# # Dataset names\n",
        "# TRAIN_DATASET_NAME='TRAIN_DATASET'\n",
        "# VALIDDATION_DATASET_NAME='VALIDATION_DATASET'\n",
        "# TEST_DATASET_NAME='TEST_DATASET'\n",
        "# DATASET_NAME = 'DATASET'\n",
        "\n",
        "# stemmed_data_files = {\"train\": f\"{os.path.join(PREPROCESSED_MERGED_DATASET_DIR , TRAIN_DATASET_NAME + '.csv')}\",\n",
        "#               'validation':f\"{os.path.join(PREPROCESSED_MERGED_DATASET_DIR, VALIDDATION_DATASET_NAME + '.csv' )}\",\n",
        "#               \"test\": f\"{os.path.join(PREPROCESSED_MERGED_DATASET_DIR ,TEST_DATASET_NAME + '.csv')}\",\n",
        "#               #\"dataset\": f\"{PREPROCESSED_MERGED_DATASET_DIR +DATASET_NAME}.csv\",\n",
        "#               }\n",
        "\n",
        "# unstemmed_data_files = {\"train\": f\"{os.path.join(PREPROCESSED_MERGED_DATASET_DIR , 'unstemmed/'+TRAIN_DATASET_NAME + '.csv')}\",\n",
        "#               'validation':f\"{os.path.join(PREPROCESSED_MERGED_DATASET_DIR, 'unstemmed/'+VALIDDATION_DATASET_NAME + '.csv' )}\",\n",
        "#               'test':f\"{os.path.join(PREPROCESSED_MERGED_DATASET_DIR, 'unstemmed/'+ TEST_DATASET_NAME + '.csv' )}\",\n",
        "#               #\"dataset\": f\"{PREPROCESSED_MERGED_DATASET_DIR +DATASET_NAME}.csv\",\n",
        "#               }"
      ]
    },
    {
      "cell_type": "code",
      "execution_count": null,
      "metadata": {
        "id": "UnCgtBvy8KLr"
      },
      "outputs": [],
      "source": [
        "# from datasets import Dataset, DatasetDict\n",
        "# import pandas as pd\n",
        "# import os\n",
        "\n",
        "# # Dataset names\n",
        "# TRAIN_DATASET_NAME = 'TRAIN_DATASET'\n",
        "# VALIDDATION_DATASET_NAME = 'VALIDATION_DATASET'\n",
        "# TEST_DATASET_NAME = 'TEST_DATASET'\n",
        "# DATASET_NAME = 'DATASET'\n",
        "\n",
        "# # Data file paths\n",
        "# stemmed_data_files = {\n",
        "#     \"train\": os.path.join(PREPROCESSED_MERGED_DATASET_DIR, TRAIN_DATASET_NAME + '.csv'),\n",
        "#     \"validation\": os.path.join(PREPROCESSED_MERGED_DATASET_DIR, VALIDDATION_DATASET_NAME + '.csv'),\n",
        "#     \"test\": os.path.join(PREPROCESSED_MERGED_DATASET_DIR, TEST_DATASET_NAME + '.csv'),\n",
        "# }\n",
        "\n",
        "# unstemmed_data_files = {\n",
        "#     \"train\": os.path.join(PREPROCESSED_MERGED_DATASET_DIR, 'unstemmed/' + TRAIN_DATASET_NAME + '.csv'),\n",
        "#     \"validation\": os.path.join(PREPROCESSED_MERGED_DATASET_DIR, 'unstemmed/' + VALIDDATION_DATASET_NAME + '.csv'),\n",
        "#     \"test\": os.path.join(PREPROCESSED_MERGED_DATASET_DIR, 'unstemmed/' + TEST_DATASET_NAME + '.csv'),\n",
        "# }\n",
        "\n",
        "# # Function to convert CSVs to Hugging Face DatasetDict (with 10% sampling)\n",
        "# def load_csv_as_datasetdict(data_files: dict, sample_ratio: float = 0.5) -> DatasetDict:\n",
        "#     # Load each split using pandas\n",
        "#     train_df = pd.read_csv(data_files[\"train\"])\n",
        "#     val_df = pd.read_csv(data_files[\"validation\"])\n",
        "#     test_df = pd.read_csv(data_files[\"test\"])\n",
        "\n",
        "#     # Sample 10% of each split (shuffle first for randomness)\n",
        "#     train_df = train_df.sample(frac=sample_ratio, random_state=42).reset_index(drop=True)\n",
        "#     val_df = val_df.sample(frac=sample_ratio, random_state=42).reset_index(drop=True)\n",
        "#     test_df = test_df.sample(frac=sample_ratio, random_state=42).reset_index(drop=True)\n",
        "\n",
        "#     # Convert to Hugging Face Datasets\n",
        "#     train_dataset = Dataset.from_pandas(train_df)\n",
        "#     val_dataset = Dataset.from_pandas(val_df)\n",
        "#     test_dataset = Dataset.from_pandas(test_df)\n",
        "\n",
        "#     return DatasetDict({\n",
        "#         \"train\": train_dataset,\n",
        "#         \"validation\": val_dataset,\n",
        "#         \"test\": test_dataset\n",
        "#     })\n",
        "\n",
        "# # Load both datasets with 10% of the data\n",
        "# stemmed_dataset = load_csv_as_datasetdict(stemmed_data_files, sample_ratio=0.5)\n",
        "# dataset = load_csv_as_datasetdict(unstemmed_data_files, sample_ratio=0.5)\n",
        "\n",
        "# # Optional: Check sample\n",
        "# print(\" Stemmed Dataset (10%):\", stemmed_dataset)\n",
        "# print(\" Unstemmed Dataset (10%):\", dataset)\n"
      ]
    },
    {
      "cell_type": "code",
      "execution_count": null,
      "metadata": {
        "collapsed": true,
        "id": "dMBBNsHaYkn9"
      },
      "outputs": [],
      "source": [
        "from datasets import Dataset, DatasetDict\n",
        "import pandas as pd\n",
        "import os\n",
        "\n",
        "# Dataset names\n",
        "TRAIN_DATASET_NAME = 'TRAIN_DATASET'\n",
        "VALIDDATION_DATASET_NAME = 'VALIDATION_DATASET'\n",
        "TEST_DATASET_NAME = 'TEST_DATASET'\n",
        "DATASET_NAME = 'DATASET'\n",
        "\n",
        "# Data file paths\n",
        "stemmed_data_files = {\n",
        "    \"train\": os.path.join(PREPROCESSED_MERGED_DATASET_DIR, TRAIN_DATASET_NAME + '.csv'),\n",
        "    \"validation\": os.path.join(PREPROCESSED_MERGED_DATASET_DIR, VALIDDATION_DATASET_NAME + '.csv'),\n",
        "    \"test\": os.path.join(PREPROCESSED_MERGED_DATASET_DIR, TEST_DATASET_NAME + '.csv'),\n",
        "}\n",
        "\n",
        "unstemmed_data_files = {\n",
        "    \"train\": os.path.join(PREPROCESSED_MERGED_DATASET_DIR, 'unstemmed/' + TRAIN_DATASET_NAME + '.csv'),\n",
        "    \"validation\": os.path.join(PREPROCESSED_MERGED_DATASET_DIR, 'unstemmed/' + VALIDDATION_DATASET_NAME + '.csv'),\n",
        "    \"test\": os.path.join(PREPROCESSED_MERGED_DATASET_DIR, 'unstemmed/' + TEST_DATASET_NAME + '.csv'),\n",
        "}\n",
        "\n",
        "# Function to convert CSVs to Hugging Face DatasetDict (with 10% sampling)\n",
        "# def load_csv_as_datasetdict(data_files: dict, sample_ratio: float = 0.5) -> DatasetDict:\n",
        "#     # Load each split using pandas\n",
        "#     train_df = pd.read_csv(data_files[\"train\"])\n",
        "#     val_df = pd.read_csv(data_files[\"validation\"])\n",
        "#     test_df = pd.read_csv(data_files[\"test\"])\n",
        "\n",
        "#     # Sample 10% of each split (shuffle first for randomness)\n",
        "#     train_df = train_df.sample(frac=sample_ratio, random_state=42).reset_index(drop=True)\n",
        "#     val_df = val_df.sample(frac=sample_ratio, random_state=42).reset_index(drop=True)\n",
        "#     test_df = test_df.sample(frac=sample_ratio, random_state=42).reset_index(drop=True)\n",
        "\n",
        "#     # Convert to Hugging Face Datasets\n",
        "#     train_dataset = Dataset.from_pandas(train_df)\n",
        "#     val_dataset = Dataset.from_pandas(val_df)\n",
        "#     test_dataset = Dataset.from_pandas(test_df)\n",
        "\n",
        "#     return DatasetDict({\n",
        "#         \"train\": train_dataset,\n",
        "#         \"validation\": val_dataset,\n",
        "#         \"test\": test_dataset\n",
        "#     })\n",
        "\n",
        "# # Load both datasets with 10% of the data\n",
        "# stemmed_dataset = load_csv_as_datasetdict(stemmed_data_files, sample_ratio=0.5)\n",
        "# dataset = load_csv_as_datasetdict(unstemmed_data_files, sample_ratio=0.5)\n",
        "\n",
        "# # Optional: Check sample\n",
        "# print(\" Stemmed Dataset (10%):\", stemmed_dataset)\n",
        "# print(\" Unstemmed Dataset (10%):\", dataset)\n",
        "\n",
        "\n",
        "#  Function to convert CSVs to Hugging Face DatasetDict\n",
        "def load_csv_as_datasetdict(data_files: dict) -> DatasetDict:\n",
        "    # Load each split using pandas\n",
        "    train_df = pd.read_csv(data_files[\"train\"])\n",
        "    val_df = pd.read_csv(data_files[\"validation\"])\n",
        "    test_df = pd.read_csv(data_files[\"test\"])\n",
        "\n",
        "    # Convert to Hugging Face Datasets\n",
        "    train_dataset = Dataset.from_pandas(train_df)\n",
        "    val_dataset = Dataset.from_pandas(val_df)\n",
        "    test_dataset = Dataset.from_pandas(test_df)\n",
        "\n",
        "    return DatasetDict({\n",
        "        \"train\": train_dataset,\n",
        "        \"validation\": val_dataset,\n",
        "        \"test\": test_dataset\n",
        "    })\n",
        "\n",
        "#  Load both datasets\n",
        "stemmed_dataset = load_csv_as_datasetdict(stemmed_data_files)\n",
        "dataset = load_csv_as_datasetdict(unstemmed_data_files)\n",
        "\n",
        "#  Optional: Check sample\n",
        "print(\" Stemmed Dataset:\", stemmed_dataset)\n",
        "print(\" Unstemmed Dataset:\", dataset)"
      ]
    },
    {
      "cell_type": "code",
      "execution_count": null,
      "metadata": {
        "id": "C8g5mNOToouB"
      },
      "outputs": [],
      "source": [
        "# explore Features\n",
        "dataset['train'].features"
      ]
    },
    {
      "cell_type": "code",
      "execution_count": null,
      "metadata": {
        "id": "FhKRP04voouC"
      },
      "outputs": [],
      "source": [
        "df=pd.DataFrame(dataset['train'])\n",
        "df.sample(5)"
      ]
    },
    {
      "cell_type": "code",
      "execution_count": null,
      "metadata": {
        "id": "lsejNWThIsjN"
      },
      "outputs": [],
      "source": [
        "# prompt: write the code to count samples of each class?\n",
        "\n",
        "# Function to count samples of each class in a dataset split\n",
        "def count_class_samples(dataset_split: Dataset) -> Dict[str, int]:\n",
        "    \"\"\"\n",
        "    Counts the number of samples for each class in a dataset split.\n",
        "\n",
        "    Args:\n",
        "        dataset_split: A Hugging Face Dataset object representing a dataset split.\n",
        "\n",
        "    Returns:\n",
        "        A dictionary where keys are class labels (integers) and values are their counts.\n",
        "    \"\"\"\n",
        "    return dict(Counter(dataset_split['LABEL']))\n",
        "\n",
        "# Count samples for each split in the 'dataset' (unstemmed)\n",
        "train_class_counts = count_class_samples(dataset['train'])\n",
        "validation_class_counts = count_class_samples(dataset['validation'])\n",
        "test_class_counts = count_class_samples(dataset['test'])\n",
        "\n",
        "print(\"Class distribution in training set:\", train_class_counts)\n",
        "print(\"Class distribution in validation set:\", validation_class_counts)\n",
        "print(\"Class distribution in test set:\", test_class_counts)\n",
        "\n",
        "# You can also count for the stemmed dataset if needed\n",
        "# stemmed_train_class_counts = count_class_samples(stemmed_dataset['train'])\n",
        "# print(\"Class distribution in stemmed training set:\", stemmed_train_class_counts)\n"
      ]
    },
    {
      "cell_type": "code",
      "execution_count": null,
      "metadata": {
        "id": "6Su3mGdaeLuo"
      },
      "outputs": [],
      "source": [
        "from nltk.tokenize import TweetTokenizer\n",
        "Tweet_Tokenizer = TweetTokenizer()\n",
        "df['TWEET'].map(lambda tweet: len(Tweet_Tokenizer.tokenize(tweet))).hist(bins = 500)"
      ]
    },
    {
      "cell_type": "markdown",
      "metadata": {
        "id": "Qyec5dCk1V37"
      },
      "source": [
        "#### Data Collator\n",
        "\n",
        "> Dynamic padding means the samples in this batch should all be padded to a length of 67, the maximum length inside the batch. Without dynamic padding, all of the samples would have to be padded to the maximum length in the whole dataset, or the maximum length the model can accept"
      ]
    },
    {
      "cell_type": "code",
      "execution_count": null,
      "metadata": {
        "id": "e0tMDmnWI5jH"
      },
      "outputs": [],
      "source": [
        "from typing import Dict, Tuple\n",
        "from torch.utils.data import DataLoader, Dataset,RandomSampler,SequentialSampler,TensorDataset\n",
        "\n",
        "def data_loader(dataset:Dataset,\n",
        "                tokenizer:AutoTokenizer) -> Tuple[DataLoader, DataLoader,DataLoader]:\n",
        "    # Convert labels data types to torch.Tensor\n",
        "  train_labels = torch.tensor(dataset['train']['LABEL'])\n",
        "  val_labels = torch.tensor(dataset['validation']['LABEL'])\n",
        "  test_labels = torch.tensor(dataset['test']['LABEL'])\n",
        "\n",
        "\n",
        "  train_inputs, train_masks = preprocessing_for_bert(tokenizer = tokenizer,\n",
        "                                                    text_preprocessing_fn = None,\n",
        "                                                    data = dataset['train']['TWEET'])\n",
        "  val_inputs, val_masks = preprocessing_for_bert(tokenizer = tokenizer,\n",
        "                                                text_preprocessing_fn = None,\n",
        "                                                data = dataset['validation']['TWEET'])\n",
        "  test_inputs, test_masks = preprocessing_for_bert(tokenizer = tokenizer,\n",
        "                                                text_preprocessing_fn = None,\n",
        "                                                data = dataset['test']['TWEET'])\n",
        "\n",
        "\n",
        "\n",
        "\n",
        "  # randomly samples elements from a dataset without replacement\n",
        "  # Create the DataLoader for our training set\n",
        "  train_data = TensorDataset(train_inputs, train_masks, train_labels)\n",
        "  # defines the strategy to draw Random samples from the dataset\n",
        "  train_sampler = RandomSampler(train_data)\n",
        "  train_dataloader = DataLoader(\n",
        "      train_data, sampler=train_sampler,  batch_size=BATCH_SIZE , drop_last=True\n",
        "  )\n",
        "\n",
        "  # Create the DataLoader for our validation set\n",
        "  val_data = TensorDataset(val_inputs, val_masks, val_labels)\n",
        "  # samples elements from a given sequence in a sequential order\n",
        "  # defines the strategy to draw Sequential samples from the dataset\n",
        "  eval_sampler = SequentialSampler(val_data)\n",
        "  eval_dataloader = DataLoader(\n",
        "      val_data, sampler=eval_sampler, batch_size=BATCH_SIZE\n",
        "  )\n",
        "  # Create the TensorDataset for our test set\n",
        "  test_dataset = TensorDataset(test_inputs, test_masks, test_labels)\n",
        "\n",
        "\n",
        "  # Create the DataLoader for our test set\n",
        "  test_sampler = SequentialSampler(test_dataset)\n",
        "\n",
        "  test_dataloader = DataLoader(test_dataset, sampler=test_sampler, batch_size=BATCH_SIZE)\n",
        "  del dataset\n",
        "\n",
        "  return train_dataloader , eval_dataloader ,test_dataloader"
      ]
    },
    {
      "cell_type": "markdown",
      "metadata": {
        "id": "LxmOpxKUdcKJ"
      },
      "source": [
        "### Tokenizer"
      ]
    },
    {
      "cell_type": "code",
      "execution_count": null,
      "metadata": {
        "id": "X9ChNcnQdfKt"
      },
      "outputs": [],
      "source": [
        "import torch\n",
        "from transformers import AutoTokenizer\n",
        "from tqdm.auto import tqdm as ProgressBar\n",
        "\n",
        "def preprocessing_for_bert(tokenizer: AutoTokenizer,\n",
        "                           data: np.array ,\n",
        "                           text_preprocessing_fn) -> Tuple[torch.Tensor, torch.Tensor]:\n",
        "    \"\"\"Perform required preprocessing steps for pretrained BERT.\n",
        "    @param    tokenizer (AutoTokenizer): Instance of BERT tokenizer.\n",
        "    @param    data (np.array): Array of texts to be processed.\n",
        "    @param    model_name (str): Name of BERT model used for tokenization.\n",
        "    @param    text_preprocessing_fn: Function to preprocess text data.\n",
        "    @return   input_ids (torch.Tensor): Tensor of token ids to be fed to a model.\n",
        "    @return   attention_masks (torch.Tensor): Tensor of indices specifying which\n",
        "                  tokens should be attended to by the model.\n",
        "   \"\"\"\n",
        "    # Create empty lists to store outputs\n",
        "    input_ids = []\n",
        "    attention_masks = []\n",
        "\n",
        "\n",
        "    # Progress bar for tracking progress\n",
        "    progress_bar = ProgressBar(range(len(data)))\n",
        "\n",
        "    # For every sentence...\n",
        "    for i, sentence in enumerate(data):\n",
        "        # `encode_plus` will:\n",
        "        #    (1) Tokenize the sentence\n",
        "        #    (2) Add the `[CLS]` and `[SEP]` token to the start and end\n",
        "        #    (3) Truncate/Pad sentence to max length\n",
        "        #    (4) Map tokens to their IDs\n",
        "        #    (5) Create attention mask\n",
        "        #    (6) Return a dictionary of outputs\n",
        "        encoded_sent = tokenizer.encode_plus(\n",
        "            text= sentence,  #text_preprocessing_fn(sentence),  # Preprocess sentence\n",
        "            add_special_tokens = True,        # Add `[CLS]` and `[SEP]`\n",
        "            max_length = MAX_LEN,             # Max length to truncate/pad\n",
        "            padding='max_length',\n",
        "            #pad_to_max_length=True,         # Pad sentence to max length\n",
        "            return_attention_mask = True,     # Return attention mask\n",
        "            truncation=True,\n",
        "        )\n",
        "\n",
        "        # Add the outputs to the lists\n",
        "        input_ids.append(encoded_sent.get('input_ids'))\n",
        "        attention_masks.append(encoded_sent.get('attention_mask'))\n",
        "        progress_bar.update(1)\n",
        "\n",
        "    # Convert lists to tensors\n",
        "    input_ids = torch.tensor(input_ids)\n",
        "    attention_masks = torch.tensor(attention_masks)\n",
        "\n",
        "    return input_ids, attention_masks\n"
      ]
    },
    {
      "cell_type": "markdown",
      "metadata": {
        "id": "86RcmAILabTs"
      },
      "source": [
        "### Model Initialization - BertClassifier"
      ]
    },
    {
      "cell_type": "code",
      "execution_count": null,
      "metadata": {
        "id": "3hssP5ACKdGJ"
      },
      "outputs": [],
      "source": [
        "from typing import Optional , Dict\n",
        "import torch\n",
        "import torch.nn as nn\n",
        "from transformers import AutoModel , AutoConfig\n",
        "\n",
        "import pickle\n",
        "\n",
        "def load_model_from_checkpoint(model:nn.Module,save_dir:Optional[str] = None,checkpoint:Optional[str]= None):\n",
        "      \"\"\"\n",
        "      load model from specific checkpoint\n",
        "      \"\"\"\n",
        "      if save_dir is not None and checkpoint is not None:\n",
        "        checkpoint_path = os.path.join(save_dir,checkpoint)\n",
        "        print(f'Loading model from this checkpoint {checkpoint_path}')\n",
        "\n",
        "        checkpoint = torch.load(checkpoint_path,map_location=device)\n",
        "        model.load_state_dict(checkpoint)\n",
        "\n",
        "        print(f'loaded checkpoint of {model.model_name} successfully')\n",
        "      return model\n"
      ]
    },
    {
      "cell_type": "code",
      "execution_count": null,
      "metadata": {
        "id": "xpg1FTkO8mxF"
      },
      "outputs": [],
      "source": [
        "\n",
        "class BertClassifier(nn.Module):\n",
        "    \"\"\"\n",
        "    BERT-based classifier model for binary classification\n",
        "    \"\"\"\n",
        "    def __init__(self, model_name: str,\n",
        "                 freeze_bert: bool = False,\n",
        "                 hidden_size: int = 256,\n",
        "                 num_hidden_layers: int = 2,\n",
        "                 dropout_prob: Optional[float] = None ,\n",
        "                 label2id: Optional[Dict[str,int]] = SENTIMENT_TO_ID,\n",
        "                 id2label: Optional[Dict[int,str]] = ID_TO_SENTIMENT,\n",
        "                 ):\n",
        "        \"\"\"\n",
        "        @param    model_name (str): Name of the pre-trained BERT model to use.\n",
        "        @param    freeze_bert (bool): Set to `True` to freeze BERT layers.\n",
        "        @param    hidden_size (int): Number of hidden units in the classifier layer.\n",
        "        @param    num_hidden_layers (int): Number of hidden layers in the classifier.\n",
        "        @param    dropout_prob (Optional[float]): Dropout probability for the classifier layer.\n",
        "        \"\"\"\n",
        "        super(BertClassifier, self).__init__()\n",
        "        self.model_name = model_name\n",
        "        # Load the configuration\n",
        "        self.load_config(model_name,label2id = label2id ,id2label = id2label )\n",
        "        # Instantiate BERT model\n",
        "        self.bert = AutoModel.from_pretrained(model_name , config = self.config)\n",
        "\n",
        "        # Freeze BERT layers (from updating the weights parameters )if specified\n",
        "        if freeze_bert:\n",
        "            for param in self.bert.parameters():\n",
        "                param.requires_grad = False\n",
        "\n",
        "        # Define classifier layer\n",
        "        layers = []\n",
        "        # holds the number of hidden units in each layer of the BERT model to make it input to the coming layers.\n",
        "        in_features = self.bert.config.hidden_size\n",
        "\n",
        "        for i in range(num_hidden_layers):\n",
        "            #  linear transformation to the input tensor\n",
        "            linear_layer = nn.Linear(in_features, hidden_size)\n",
        "\n",
        "            # initialize weights to keep the variance of the activations and gradients roughly the same across different layers,\n",
        "            # which can help prevent vanishing or exploding gradients during training\n",
        "            nn.init.xavier_uniform_(linear_layer.weight)\n",
        "\n",
        "            # Naming the parameters\n",
        "            # linear_layer.weight.names = ('in_features', 'out_features')\n",
        "            # linear_layer.bias.names = ('out_features',)\n",
        "\n",
        "            layers.append(linear_layer)\n",
        "\n",
        "            #  non-linearity into the model\n",
        "            if i % 5 == 0:\n",
        "              layers.append(nn.LeakyReLU())\n",
        "            elif i % 5 == 1:\n",
        "              layers.append(nn.GELU())\n",
        "            elif i % 5 == 2:\n",
        "              layers.append(nn.ELU())\n",
        "            elif i % 5 == 3:\n",
        "              layers.append(nn.Softmax())\n",
        "\n",
        "            layers.append(nn.LayerNorm(hidden_size))\n",
        "            if  i% 2 == 0 and dropout_prob is not None:\n",
        "              # reduces the risk of over-reliance on specific features that may not generalize well\n",
        "              # randomly sets a fraction of its input units to 0 during each training epoch\n",
        "                layers.append(nn.Dropout(dropout_prob))\n",
        "\n",
        "                dropout_prob = dropout_prob * 2\n",
        "\n",
        "            # in features : 0=>bert 1=>256 2=>128 3=>64\n",
        "            in_features = hidden_size\n",
        "            # hidden sizes : 0=>256 1=>128 2=>64 3=>32\n",
        "            hidden_size = hidden_size // 2\n",
        "\n",
        "\n",
        "        # we have 3 classes\n",
        "        # in features :  3=>64\n",
        "        num_classes = len(label2id) # = 3\n",
        "        layers.append(nn.Linear(in_features, num_classes))\n",
        "        self.classifier = nn.Sequential(*layers)\n",
        "    def load_config(self, model_name:str , id2label : Dict[int,str],label2id : Dict[str,int]):\n",
        "      self.config = AutoConfig.from_pretrained(model_name, num_labels = 3)\n",
        "      self.config.id2label = id2label\n",
        "      self.config.label2id = label2id\n",
        "\n",
        "\n",
        "    def forward(self, input_ids: torch.Tensor, attention_mask: torch.Tensor) -> torch.Tensor:\n",
        "        \"\"\"\n",
        "        Feed input to BERT and the classifier to compute logits.\n",
        "        @param    input_ids (torch.Tensor): an input tensor with shape (batch_size,\n",
        "                      max_length)\n",
        "        @param    attention_mask (torch.Tensor): a tensor that hold attention mask\n",
        "                      information with shape (batch_size, max_length)\n",
        "        @return   logits (torch.Tensor): an output tensor with shape (batch_size,\n",
        "                      num_labels)\n",
        "        \"\"\"\n",
        "        # Feed input to BERT\n",
        "        outputs = self.bert(input_ids=input_ids, attention_mask=attention_mask)\n",
        "\n",
        "        # Extract the last hidden state of the token `[CLS]` for classification task\n",
        "        # outputs[0] = (batch_size, sequence_length, hidden_size)\n",
        "        # [:, 0, :] = selects all elements along the first dimension (batch size), the first element along the second dimension (which corresponds to the CLS token in BERT), and all elements along the third dimension (hidden size)\n",
        "        # final shape = (batch_size, hidden_size)\n",
        "        # [CLS] token is usually used to represent the entire input sequence and used for classification tasks\n",
        "        last_hidden_state_cls = outputs[0][:, 0, :]\n",
        "\n",
        "        # Feed input to classifier to compute logits\n",
        "        logits = self.classifier(last_hidden_state_cls)\n",
        "\n",
        "        return logits\n"
      ]
    },
    {
      "cell_type": "code",
      "execution_count": null,
      "metadata": {
        "id": "wOShh5khbbGX"
      },
      "outputs": [],
      "source": [
        "from torchinfo import summary\n",
        "def save_architecture_design(save_dir:str,model_name:str ,model):\n",
        "  if save_dir is not None:\n",
        "    os.makedirs(save_dir, exist_ok=True)\n",
        "  with open(os.path.join(save_dir,'architecture.txt'), 'w') as file:\n",
        "    print(f'{model_name} \\n' + f'epochs : {EPOCHS}  \\t Batch Size : {BATCH_SIZE} \\n' +str(summary(model)),file = file)"
      ]
    },
    {
      "cell_type": "code",
      "execution_count": null,
      "metadata": {
        "id": "YiEwyv8ZAMYd"
      },
      "outputs": [],
      "source": [
        "def initialize_model(save_dir:str,model_name: str) -> Tuple[BertClassifier,torch.device]:\n",
        "    \"\"\"\n",
        "    Initialize the Bert Classifier, the optimizer and the learning rate scheduler.\n",
        "\n",
        "    Args:\n",
        "        model_name (str): model checkpoint from huggingface\n",
        "\n",
        "    Returns:\n",
        "        Tuple[BertClassifier, AdamW, get_linear_schedule_with_warmup]: A tuple containing the BertClassifier object,\n",
        "        the AdamW optimizer object, and the learning rate scheduler object.\n",
        "    \"\"\"\n",
        "    # Instantiate Bert Classifier\n",
        "    model = BertClassifier(model_name,freeze_bert=False, dropout_prob = 0.25)\n",
        "    # Tell PyTorch to run the model on GPU\n",
        "    if torch.cuda.device_count() > 1:\n",
        "        print(\"Using\", torch.cuda.device_count(), \"GPUs\")\n",
        "        # for parallelizing the training of a neural network across multiple GPUs\n",
        "        model = torch.nn.DataParallel(model)\n",
        "    # If there's a GPU available...\n",
        "    if torch.cuda.is_available():\n",
        "\n",
        "        # Tell PyTorch to use the GPU.\n",
        "        device = torch.device(\"cuda\")\n",
        "\n",
        "        print('There are %d GPU(s) available.' % torch.cuda.device_count())\n",
        "\n",
        "        print('We will use the GPU:', torch.cuda.get_device_name(0))\n",
        "        !nvidia-smi\n",
        "\n",
        "    # If not...\n",
        "    else:\n",
        "        print('No GPU available, using the CPU instead.')\n",
        "        device = torch.device(\"cpu\")\n",
        "    model.to(device)\n",
        "\n",
        "    save_architecture_design(save_dir,model_name,model)\n",
        "    return model , device\n"
      ]
    },
    {
      "cell_type": "code",
      "execution_count": null,
      "metadata": {
        "id": "hKvWV95AGL4c"
      },
      "outputs": [],
      "source": [
        "def evaluate(model: nn.Module, val_dataloader: DataLoader , loss_fn = None) -> Tuple[float, float, float, float, float, float]:\n",
        "    \"\"\"\n",
        "    After the completion of each training epoch, measure the model's performance\n",
        "    on our validation set for a PyTorch model.\n",
        "     Args:\n",
        "        model: A PyTorch model.\n",
        "        val_dataloader: A PyTorch DataLoader for the validation set.\n",
        "        loss_fn : it is the loss function\n",
        "    Returns:\n",
        "        A tuple of floats with the average loss, accuracy, f1_score (weighted and macro), precision,\n",
        "        and recall on the validation set.\n",
        "    \"\"\"\n",
        "    # Put the model into the evaluation mode. The dropout layers are disabled during the evaluation time.\n",
        "    model.eval()\n",
        "\n",
        "    # Tracking variables\n",
        "    val_accuracy = []\n",
        "    val_loss = []\n",
        "    val_f1_weighted = []\n",
        "    val_f1_macro = []\n",
        "    val_precision = []\n",
        "    val_recall = []\n",
        "\n",
        "\n",
        "\n",
        "    with torch.no_grad():\n",
        "      # For each batch in our validation set...\n",
        "      for batch in val_dataloader:\n",
        "          # Load batch to GPU\n",
        "          b_input_ids, b_attn_mask, b_labels = tuple(t.to(device) for t in batch)\n",
        "\n",
        "          # Compute the logits\n",
        "          logits = model(b_input_ids, b_attn_mask)\n",
        "          if model.model_name == 'AraBERT':\n",
        "            logits=logits.logits\n",
        "\n",
        "\n",
        "          # Compute the loss\n",
        "          loss = loss_fn(logits, b_labels)\n",
        "          val_loss.append(loss.item())\n",
        "\n",
        "          # Get the predictions\n",
        "          preds = torch.argmax(logits, dim=1)\n",
        "\n",
        "          # Calculate the accuracy rate\n",
        "          accuracy = (preds == b_labels).cpu().numpy().mean()\n",
        "          val_accuracy.append(accuracy)\n",
        "\n",
        "          # Calculate the f1 score (weighted and macro), precision, and recall\n",
        "          val_f1_weighted.append(f1_score(b_labels.cpu(), preds.cpu(), average='weighted'))\n",
        "          val_f1_macro.append(f1_score(b_labels.cpu(), preds.cpu(), average='macro'))\n",
        "          val_precision.append(precision_score(b_labels.cpu(), preds.cpu(), average='weighted'))\n",
        "          val_recall.append(recall_score(b_labels.cpu(), preds.cpu(), average='weighted'))\n",
        "\n",
        "\n",
        "    # Compute the average accuracy, loss, f1 score (weighted and macro), precision, and recall over the validation set.\n",
        "    val_loss = np.mean(val_loss)\n",
        "    val_accuracy = np.mean(val_accuracy)\n",
        "    val_f1_weighted = np.mean(val_f1_weighted)\n",
        "    val_f1_macro = np.mean(val_f1_macro)\n",
        "    val_precision = np.mean(val_precision)\n",
        "    val_recall = np.mean(val_recall)\n",
        "    return val_loss, val_accuracy, val_f1_weighted, val_f1_macro, val_precision, val_recall\n",
        "\n",
        "\n"
      ]
    },
    {
      "cell_type": "code",
      "execution_count": null,
      "metadata": {
        "id": "OhUDEk_tg074"
      },
      "outputs": [],
      "source": [
        "def evaluate_test(model: nn.Module, test_dataloader: DataLoader ,save_dir:str,device ) -> pd.DataFrame:\n",
        "  loss_fn = nn.CrossEntropyLoss(weight = torch.tensor([1.0,1.0,1.0]).to(device))\n",
        "\n",
        "  test_loss, accuracy, f1_weighted, f1_macro, precision, recall = evaluate(model, test_dataloader,loss_fn)\n",
        "  results = [{'loss':test_loss,\n",
        "                        'accuracy':accuracy,\n",
        "                        'f1_weighted':f1_weighted,\n",
        "                        'f1_macro':f1_macro,\n",
        "                        'precision':precision,\n",
        "                        'recall':recall,\n",
        "                                  }]\n",
        "  results_df = pd.DataFrame(results)\n",
        "  if not os.path.isdir(save_dir):\n",
        "    os.makedirs(save_dir)\n",
        "  model_name = model.model_name\n",
        "  if len(model_name.split('/')) == 2:\n",
        "    model_name = model_name.split('/')[1]\n",
        "\n",
        "  results_path = os.path.join(save_dir, f\"{model_name}.csv\")\n",
        "\n",
        "  # Print performance over the entire training data\n",
        "  print(results_df.head(EPOCHS))\n",
        "  # save the results into csv\n",
        "\n",
        "  results_df.to_csv(results_path)\n",
        "  return results"
      ]
    },
    {
      "cell_type": "code",
      "execution_count": null,
      "metadata": {
        "id": "pvdB2C3xCkyx"
      },
      "outputs": [],
      "source": [
        "import time\n",
        "import torch\n",
        "import torch.nn as nn\n",
        "#from transformers import AdamW, get_linear_schedule_with_warmup\n",
        "from torch.optim import AdamW\n",
        "from transformers import get_linear_schedule_with_warmup\n",
        "from tqdm.auto import tqdm as ProgressBar\n",
        "from tqdm import tqdm\n",
        "from sklearn.metrics import f1_score, precision_score, recall_score\n",
        "\n",
        "\n",
        "\n",
        "\n",
        "def train(model: nn.Module,\n",
        "          train_dataloader: DataLoader,\n",
        "          save_dir:str ,\n",
        "          eval_dataloader: DataLoader,\n",
        "          early_stopping_patience:int = 4,\n",
        "          epochs: int = 4,\n",
        "          log_steps:int = 1000,\n",
        "          checkpoint : Optional[str] = None,\n",
        "          device : torch.device = torch.device(\"cpu\"),\n",
        "          evaluation: bool = False,\n",
        "          ) -> None:\n",
        "    \"\"\"Train the BertClassifier model.\n",
        "    \"\"\"\n",
        "\n",
        "    # Specifying Loss Function\n",
        "    loss_fn = nn.CrossEntropyLoss(weight = torch.tensor([1.0,1.0,1.0]).to(device))\n",
        "\n",
        "    # Create the optimizer\n",
        "    # To update only the trainable parameters\n",
        "    optimizer = AdamW(params = [parameter for parameter in list(model.parameters()) if parameter.requires_grad],\n",
        "                      lr=LEARNING_RATE,    # Default learning rate\n",
        "                      eps=EPSILON,    # Default epsilon value : value added to the denominator of the AdamW update to improve numerical stability\n",
        "                      betas=(0.9, 0.999) # Default betas value : exponential decay rates for the first and second moments of the gradients\n",
        "                      )\n",
        "\n",
        "    # Total number of training steps\n",
        "    total_steps = len(train_dataloader) * epochs\n",
        "    print(f'total steps = {len(train_dataloader)} batches * {epochs} epochs = {total_steps} \\t Batch Size {BATCH_SIZE}')\n",
        "\n",
        "    # Set up the learning rate scheduler\n",
        "    scheduler = get_linear_schedule_with_warmup(optimizer,\n",
        "                                                num_warmup_steps=0, # Default value\n",
        "                                                num_training_steps=total_steps)\n",
        "    # Progress bar for tracking progress\n",
        "    progress_bar = ProgressBar(range(total_steps))\n",
        "\n",
        "    if save_dir is not None:\n",
        "      os.makedirs(save_dir, exist_ok=True)\n",
        "\n",
        "    checkpoint_epoch = 0\n",
        "    if checkpoint is not None:\n",
        "      import pickle\n",
        "      checkpoint_path = os.path.join(save_dir,checkpoint)\n",
        "      #model_checkpoint_file = open(filename, 'rb')\n",
        "      print(f'Loading model from this checkpoint {checkpoint_path}')\n",
        "      #model.load_state_dict(torch.load(filename))\n",
        "      # load the checkpoint\n",
        "      checkpoint = torch.load(checkpoint_path,map_location=device)\n",
        "      model.load_state_dict(checkpoint['model_state_dict'])\n",
        "      optimizer.load_state_dict(checkpoint['optimizer_state_dict'])\n",
        "      checkpoint_epoch = checkpoint['epoch'] + 1\n",
        "      loss = checkpoint['loss']\n",
        "      print(f'loaded checkpoint of epoch {checkpoint_epoch} successfully')\n",
        "      progress_bar.update(len(train_dataloader) * checkpoint_epoch)\n",
        "\n",
        "    # Trainable parameters\n",
        "    model_parameters = [parameter for parameter in list(model.parameters())  if parameter.requires_grad]\n",
        "\n",
        "\n",
        "    best_val_accuracy = 0.0 # initialize best validation accuracy to 0.0\n",
        "    best_model_state_dict = None\n",
        "    best_epoch = 0\n",
        "\n",
        "    results = []\n",
        "\n",
        "    # Start training loop\n",
        "    print(\"Start training...\\n\")\n",
        "    for epoch_i in range(epochs-checkpoint_epoch):\n",
        "        epoch_i+=checkpoint_epoch\n",
        "        # =======================================\n",
        "        #               Training\n",
        "        # =======================================\n",
        "        # Print the header of the result table\n",
        "        print(f\"{'Epoch':^7} | {'Batch':^7} | {'Train Loss':^12} | {'Val Loss':^10} | {'Val Acc':^9} | {'Elapsed':^9}\")\n",
        "        print(\"-\"*70)\n",
        "\n",
        "        # Measure the elapsed time of each epoch\n",
        "        t0_epoch, t0_batch = time.time(), time.time()\n",
        "        # Reset tracking variables at the beginning of each epoch\n",
        "        total_loss, batch_loss, batch_counts = 0, 0, 0\n",
        "\n",
        "        # Put the model into the training mode\n",
        "        model.train()\n",
        "\n",
        "        # For each batch of training data...\n",
        "        for step, batch in enumerate(train_dataloader):\n",
        "            batch_counts +=1\n",
        "            # Load batch to GPU\n",
        "            b_input_ids, b_attn_mask, b_labels = tuple(t.to(device) for t in batch)\n",
        "\n",
        "            # Zero out any previously calculated gradients\n",
        "            model.zero_grad()\n",
        "\n",
        "            # Perform a forward pass. This will return logits of shape (batch_size, num_classes)\n",
        "            logits = model(b_input_ids, b_attn_mask)\n",
        "\n",
        "            # Compute loss\n",
        "            loss = loss_fn(logits, b_labels)\n",
        "            # extract the scalar value of the loss from the tensor and accumulate the loss values\n",
        "            batch_loss += loss.item()\n",
        "            total_loss += loss.item()\n",
        "\n",
        "            # Perform a backward pass to calculate gradients\n",
        "            loss.backward()\n",
        "\n",
        "\n",
        "            # Clip the norm of the gradients to 1.0 to prevent \"exploding gradients\" (gradients become very large)\n",
        "            torch.nn.utils.clip_grad_norm_(model_parameters,\n",
        "                                           max_norm = 1.0,\n",
        "                                           norm_type = 2 # euclidian normalization square root sum of squares\n",
        "                                           )\n",
        "\n",
        "            # updates the model parameters using the computed gradients\n",
        "            optimizer.step()\n",
        "            # updates the learning rate based on the current epoch\n",
        "            scheduler.step()\n",
        "\n",
        "            # Print the loss values and time elapsed for every log_steps batches and the last batch\n",
        "            if (step % log_steps == 0 and step != 0) or (step == len(train_dataloader) - 1):\n",
        "                # Calculate time elapsed for 20 batches\n",
        "                time_elapsed = time.time() - t0_batch\n",
        "\n",
        "                # Print training results\n",
        "                print(f\"{epoch_i + 1:^7} | {step:^7} | {batch_loss / batch_counts:^12.6f} | {'-':^10} | {'-':^9} | {time_elapsed:^9.2f}\")\n",
        "\n",
        "                # Reset batch tracking variables\n",
        "                batch_loss, batch_counts = 0, 0\n",
        "                t0_batch = time.time()\n",
        "            progress_bar.update(1)\n",
        "\n",
        "        # Calculate the average loss over the entire training data\n",
        "        avg_train_loss = total_loss / len(train_dataloader)\n",
        "\n",
        "        print(\"-\"*70)\n",
        "        # =======================================\n",
        "        #               Evaluation\n",
        "        # =======================================\n",
        "        if evaluation == True:# After the completion of each training epoch, measure the model's performance\n",
        "            # on our validation set.\n",
        "            val_loss, val_accuracy, val_f1_weighted, val_f1_macro, val_precision, val_recall = evaluate(model, eval_dataloader,loss_fn=loss_fn)\n",
        "            results = results + [{'epoch': epoch_i ,\n",
        "                                  'avg_train_loss':avg_train_loss,\n",
        "                                  'val_loss':val_loss,\n",
        "                                  'val_accuracy':val_accuracy,\n",
        "                                  'val_f1_weighted':val_f1_weighted,\n",
        "                                  'val_f1_macro':val_f1_macro,\n",
        "                                  'val_precision':val_precision,\n",
        "                                  'val_recall':val_recall,\n",
        "                                  \"time elapsed\":time.time() - t0_epoch\n",
        "                                  }]\n",
        "            results_df = pd.DataFrame(results)\n",
        "            results_path = os.path.join(save_dir, f\"epochs{epoch_i}-results.csv\")\n",
        "            # Print performance over the entire training data\n",
        "            print(results_df.head(EPOCHS))\n",
        "            # save the results into csv\n",
        "            results_df.to_csv(results_path)\n",
        "            print(\"-\"*70)\n",
        "            print(\"\\n\")\n",
        "            if(best_val_accuracy <= val_accuracy):\n",
        "              best_val_accuracy = val_accuracy\n",
        "              best_epoch = epoch_i\n",
        "              torch.save(model.state_dict(), os.path.join(save_dir,\"best_model.pth\"))\n",
        "              best_model_state_dict = model.state_dict()\n",
        "\n",
        "\n",
        "        if save_dir is not None: # saving the checkpoint after each epoch\n",
        "            checkpoint_path = os.path.join(save_dir, f\"checkpoint-epoch-{epoch_i+1}.pt\")\n",
        "            torch.save({\n",
        "            'epoch': epoch_i,\n",
        "            'model_state_dict': model.state_dict(),\n",
        "            'optimizer_state_dict': optimizer.state_dict(),\n",
        "            'loss': loss,\n",
        "            }, checkpoint_path)\n",
        "\n",
        "        if (epoch_i - best_epoch) == early_stopping_patience: # early stopping if there is no improvment in the accuracy\n",
        "          print(f'Early stopping at epoch {epoch_i} best epoch is {best_epoch}')\n",
        "          break\n",
        "\n",
        "\n",
        "    print(\"Training complete!\")\n",
        "    if best_model_state_dict is not None:\n",
        "      print(f\"loading the best model of epoch {best_epoch+1} based on it's best accuracy {best_val_accuracy}\")\n",
        "      model.load_state_dict(best_model_state_dict)\n",
        "\n",
        "\n",
        "\n",
        "    # Print performance over the entire training data\n",
        "    print(results_df.head(len(results)))\n"
      ]
    },
    {
      "cell_type": "markdown",
      "metadata": {
        "id": "1tXKFO_y9_bS"
      },
      "source": [
        "### Evaluation - Test Dataset"
      ]
    },
    {
      "cell_type": "code",
      "execution_count": null,
      "metadata": {
        "id": "gfBbIxW1FTat"
      },
      "outputs": [],
      "source": [
        "df_test = pd.read_csv(f\"{os.path.join(PREPROCESSED_MERGED_DATASET_DIR, 'unstemmed/'+ TEST_DATASET_NAME + '.csv' )}\")\n",
        "\n"
      ]
    },
    {
      "cell_type": "code",
      "execution_count": null,
      "metadata": {
        "id": "RPoyoj2I9IkA"
      },
      "outputs": [],
      "source": [
        "# df_test = dataset[\"test\"].to_pandas()\n"
      ]
    },
    {
      "cell_type": "code",
      "execution_count": null,
      "metadata": {
        "id": "lcwsUP3L-GeZ"
      },
      "outputs": [],
      "source": [
        "import torch\n",
        "from torch import nn\n",
        "import torch.nn.functional as F\n",
        "from torch.utils.data import DataLoader, Dataset\n",
        "from typing import Tuple, List\n",
        "\n",
        "from tqdm.auto import tqdm as ProgressBar\n",
        "\n",
        "\n",
        "def bert_predict(model: nn.Module, test_dataloader: DataLoader,device) -> Tuple[List[float],List[float]]:\n",
        "    \"\"\"Perform a forward pass on the trained BERT model to predict probabilities\n",
        "    on the test set.\n",
        "\n",
        "    Args:\n",
        "        model (nn.Module): The trained BERT model.\n",
        "        test_dataloader (DataLoader): The test data loader.\n",
        "\n",
        "    Returns:\n",
        "        List[float]: The predicted probabilities for each class.\n",
        "    \"\"\"\n",
        "  # Put the model into the evaluation mode. The dropout layers are disabled during the test time.\n",
        "    model.eval()\n",
        "\n",
        "    all_logits = []\n",
        "    # Progress bar for tracking progress\n",
        "    progress_bar = ProgressBar(range(len(test_dataloader)))\n",
        "\n",
        "    # For each batch in our test set...\n",
        "    for batch in test_dataloader:\n",
        "        # Load batch to GPU\n",
        "        b_input_ids, b_attn_mask = tuple(sample.to(device) for sample in batch)[:2]\n",
        "\n",
        "        # Compute logits\n",
        "        with torch.no_grad():\n",
        "            logits = model(b_input_ids, b_attn_mask)\n",
        "        all_logits.append(logits)\n",
        "        progress_bar.update(1)\n",
        "\n",
        "\n",
        "    # Concatenate logits from each batch\n",
        "    all_logits = torch.cat(all_logits, dim=0)\n",
        "\n",
        "    # Apply softmax to calculate probabilities\n",
        "    probs = F.softmax(all_logits, dim=1).cpu().numpy()\n",
        "    tensor = torch.from_numpy(probs)\n",
        "    ytest = torch.max(tensor, dim=1)\n",
        "    return tensor,ytest\n"
      ]
    },
    {
      "cell_type": "code",
      "execution_count": null,
      "metadata": {
        "id": "2owVmHlPH5yA"
      },
      "outputs": [],
      "source": [
        "import torch\n",
        "from torch import nn\n",
        "import torch.nn.functional as F\n",
        "from torch.utils.data import DataLoader, Dataset\n",
        "from typing import Tuple, List\n",
        "\n",
        "from tqdm.auto import tqdm as ProgressBar\n",
        "\n",
        "\n",
        "def ensemble_bert_predict(models: List[nn.Module], test_dataloader: DataLoader, device,save_dir:str, contribution_percentages: Optional[List[float]] = None,is_accuracy:Optional[bool]=True) -> Tuple[List[float], List[float],pd.DataFrame,List[float]]:\n",
        "    \"\"\"Perform a forward pass on a list of trained BERT models to predict probabilities\n",
        "    on the test set and ensemble the predictions using weighted averaging based on contribution percentages.\n",
        "\n",
        "    Args:\n",
        "        models (List[nn.Module]): The list of trained BERT models.\n",
        "        test_dataloader (DataLoader): The test data loader.\n",
        "        device: The device to perform the inference on (e.g. 'cpu' or 'cuda').\n",
        "        contribution_percentages (List[float], optional): The contribution percentages for each model in the ensemble.\n",
        "            This should be a list of floats that sum up to 1, representing the weights of each model in the ensemble.\n",
        "            If not provided, equal contribution percentages will be used for all models. Defaults to None.\n",
        "\n",
        "    Returns:\n",
        "        Tuple[List[float], List[float]]: The ensembled predicted probabilities for each class.\n",
        "    \"\"\"\n",
        "    df_path=os.path.join(save_dir,\"Models'_Accuracies.csv\")\n",
        "    if os.path.exists(df_path):\n",
        "      print('successfully loaded accuracies')\n",
        "      df= pd.read_csv(df_path)\n",
        "      contribution_percentages = df['contribution_percentage'].tolist()\n",
        "      accuracies = df['accuracy'].tolist()\n",
        "\n",
        "\n",
        "    if (contribution_percentages is None or len(models) != len(contribution_percentages)) and is_accuracy:\n",
        "        # Calculate contribution percentages based on accuracy of each model\n",
        "        accuracies = []\n",
        "\n",
        "\n",
        "        print('calculating accuracies ...')\n",
        "        for model in models:\n",
        "            # Put the model into the evaluation mode. The dropout layers are disabled during the test time.\n",
        "            model.eval()\n",
        "\n",
        "            correct = 0\n",
        "            total = 0\n",
        "            # Progress bar for tracking progress\n",
        "            progress_bar = ProgressBar(range(len(test_dataloader)))\n",
        "\n",
        "            # For each batch in our test set...\n",
        "            for batch in test_dataloader:\n",
        "                # Load batch to device\n",
        "                b_input_ids, b_attn_mask = tuple(sample.to(device) for sample in batch)[:2]\n",
        "\n",
        "                # Compute logits\n",
        "                with torch.no_grad():\n",
        "                    logits = model(b_input_ids, b_attn_mask)\n",
        "                 # Calculate accuracy\n",
        "                if model.model_name == 'AraBERT':\n",
        "                  predicted = torch.argmax(logits.logits, 1)\n",
        "                else:\n",
        "                  _, predicted = torch.max(logits.data, 1)\n",
        "                total += b_input_ids.size(0)\n",
        "                correct += (predicted == batch[-1].to(device)).sum().item()\n",
        "                progress_bar.update(1)\n",
        "\n",
        "            accuracy = correct / total\n",
        "            accuracies.append(accuracy)\n",
        "\n",
        "        # Normalize accuracies to get contribution percentages\n",
        "        total_accuracy = sum(accuracies)\n",
        "        contribution_percentages = [round(accuracy / total_accuracy,2) for accuracy in accuracies]\n",
        "        print(contribution_percentages)\n",
        "    elif contribution_percentages is None and not is_accuracy:\n",
        "      contribution_percentages = [round(1/len(models),2)] * len(models)\n",
        "\n",
        "    assert len(models) == len(contribution_percentages), \"Number of models must be equal to number of contribution percentages.\"\n",
        "    #assert sum(contribution_percentages) == 1, \"Contribution percentages must sum up to 1.\"\n",
        "    if save_dir:\n",
        "      data = []\n",
        "      for i,contribution_percentage in enumerate(contribution_percentages):\n",
        "        data =data + [\n",
        "                {'name':models[i].model_name,\n",
        "                'contribution_percentage':contribution_percentage,\n",
        "                 'accuracy':accuracies[i] if is_accuracy else contribution_percentage,\n",
        "                }\n",
        "                  ]\n",
        "      df = pd.DataFrame(data)\n",
        "      df.to_csv(df_path)\n",
        "      print(f\"Saved Models' Accuracies in {df_path}\")\n",
        "\n",
        "    # Put the models into the evaluation mode. The dropout layers are disabled during the test time.\n",
        "    for model in models:\n",
        "        model.eval()\n",
        "\n",
        "    all_logits = []\n",
        "    # Progress bar for tracking progress\n",
        "    progress_bar = ProgressBar(range(len(test_dataloader)))\n",
        "    print('computing logits ...')\n",
        "\n",
        "    # For each batch in our test set...\n",
        "    for batch in test_dataloader:\n",
        "        # Load batch to device (to extract the first two elements from the tuple, which correspond to b_input_ids and b_attn_mask)\n",
        "        b_input_ids, b_attn_mask = tuple(sample.to(device) for sample in batch)[:2]\n",
        "\n",
        "        # Compute logits for each model\n",
        "        batch_logits = []\n",
        "        for i, model in enumerate(models):\n",
        "            with torch.no_grad():\n",
        "                logits = model(b_input_ids, b_attn_mask)\n",
        "                if model.model_name == 'AraBERT':\n",
        "                  logits = logits.logits\n",
        "\n",
        "            #batch_logits.append(contribution_percentages[i] * F.softmax(logits, dim=1))  # Weighted contribution of each model's logits softmaxed\n",
        "            batch_logits.append(contribution_percentages[i] * torch.tanh(logits))  # Weighted contribution of each model's logits with Tanh normalization\n",
        "\n",
        "        # Average logits across models\n",
        "        avg_logits = sum(batch_logits)\n",
        "        all_logits.append(avg_logits)\n",
        "        progress_bar.update(1)\n",
        "\n",
        "    # Concatenate logits from each batch\n",
        "    all_logits = torch.cat(all_logits, dim=0)\n",
        "\n",
        "    # Apply softmax to calculate probabilities\n",
        "    probs = F.softmax(all_logits, dim=1).cpu().numpy()\n",
        "    tensor = torch.from_numpy(probs)\n",
        "    ytest = torch.max(tensor, dim=1)\n",
        "\n",
        "    return tensor, ytest, df,contribution_percentages\n"
      ]
    },
    {
      "cell_type": "code",
      "execution_count": null,
      "metadata": {
        "id": "Crx0sNxxxhYE"
      },
      "outputs": [],
      "source": [
        "import torch\n",
        "from torch import nn\n",
        "from typing import List,Tuple\n",
        "from transformers import BertTokenizer\n",
        "\n",
        "def predict_sentiment(models: List[nn.Module], text: str, tokenizer: BertTokenizer, save_dir:str, device) -> Tuple[str,pd.DataFrame]:\n",
        "    input_ids, attention_masks = preprocessing_for_bert(tokenizer, [text], text_preprocessing_fn=None)\n",
        "    # Put the models into evaluation mode. The dropout layers are disabled during the test time.\n",
        "    class_names = ['positive', 'negative', 'neutral']\n",
        "\n",
        "    for model in models:\n",
        "        model.eval()\n",
        "        model.to(device)  # Load model onto the specified device\n",
        "\n",
        "    df_path = os.path.join(save_dir, \"Models'_Accuracies.csv\")\n",
        "    if os.path.exists(df_path):\n",
        "        print('successfully loaded accuracies')\n",
        "        df = pd.read_csv(df_path)\n",
        "        contribution_percentages = df['contribution_percentage'].tolist()\n",
        "        accuracies = df['accuracy'].tolist()\n",
        "    else:\n",
        "      print(\"Models'_Accuracies.csv is needed !!!\")\n",
        "\n",
        "    all_logits = []\n",
        "    model_answers = []  # List to store each model's answers\n",
        "\n",
        "    for i, model in enumerate(models):\n",
        "        with torch.no_grad():\n",
        "            logits = model(input_ids.to(device), attention_mask=attention_masks.to(device))[0]  # Assuming the model takes input_ids and attention_mask as input\n",
        "        all_logits.append(contribution_percentages[i] * logits)  # Weighted contribution of each model's logits\n",
        "         # Convert logits to predicted sentiment for the current model\n",
        "        predicted_sentiment = torch.argmax(logits)\n",
        "        model_answers = model_answers + [class_names[predicted_sentiment]]\n",
        "\n",
        "    # Aggregate the logits from all models\n",
        "    aggregated_logits = torch.stack(all_logits).sum(dim=0)\n",
        "\n",
        "    # Convert logits to predicted sentiment\n",
        "    predicted_sentiment = torch.argmax(aggregated_logits)\n",
        "\n",
        "    # Map the predicted sentiment index to corresponding sentiment label\n",
        "    predicted_sentiment_label = class_names[predicted_sentiment]\n",
        "\n",
        "\n",
        "    # concatenate model answers\n",
        "    df['model_answers'] = model_answers\n",
        "\n",
        "    df_sorted = df.sort_values(by='accuracy', ascending=False)\n",
        "\n",
        "\n",
        "    return predicted_sentiment_label,df_sorted\n"
      ]
    },
    {
      "cell_type": "code",
      "execution_count": null,
      "metadata": {
        "id": "l-zZvv_g_dG8"
      },
      "outputs": [],
      "source": [
        "from sklearn.metrics import confusion_matrix, classification_report\n",
        "\n",
        "def print_classification_report(y_pred:torch.tensor,save_dir:str,title:str):\n",
        "    global df_test\n",
        "    y_true = df_test['LABEL']\n",
        "    y_pred = y_pred.indices\n",
        "\n",
        "\n",
        "    class_names = ['positive', 'negative', 'neutral']\n",
        "    report = classification_report(y_true, y_pred, target_names=class_names, output_dict=True)\n",
        "    report_df = pd.DataFrame(report).transpose()\n",
        "\n",
        "    # Create a heatmap of the classification report\n",
        "    fig, ax = plt.subplots(figsize=(8, 5))\n",
        "    im = ax.imshow(report_df.iloc[:-1, :-1], cmap='YlGnBu')\n",
        "    report_df.to_csv(os.path.join(save_dir,title+\".csv\"))\n",
        "\n",
        "    # Set axis labels and ticks\n",
        "    ax.set_xticks(range(len(class_names)))\n",
        "    ax.set_yticks(range(len(report_df.index[:-1])))\n",
        "    ax.set_xticklabels(class_names, rotation=45, ha=\"right\")\n",
        "    ax.set_yticklabels(report_df.index[:-1])\n",
        "\n",
        "    # Add text labels to the heatmap\n",
        "    for i in range(len(report_df.index[:-1])):\n",
        "        for j in range(len(class_names)):\n",
        "            ax.text(j, i, \"{:.2f}\".format(report_df.iloc[i, j]), ha=\"center\", va=\"center\", color=\"black\")\n",
        "    # Add text labels to the heatmap\n",
        "    # for i in range(len(report_df.index[:-1])):\n",
        "    #     for j in range(len(class_names)):\n",
        "    #         precision = report_df.iloc[i]['precision']\n",
        "    #         recall = report_df.iloc[i]['recall']\n",
        "    #         f1_score = report_df.iloc[i]['f1-score']\n",
        "    #         ax.text(j, i, \"{:.2f}\\n{:.2f}\\n{:.2f}\".format(precision, recall, f1_score), ha=\"center\", va=\"center\", color=\"black\")\n",
        "\n",
        "    # Add colorbar\n",
        "    cbar = ax.figure.colorbar(im, ax=ax)\n",
        "    cbar.ax.set_ylabel('Score', rotation=-90, va=\"bottom\")\n",
        "\n",
        "    # Save the classification report as an image\n",
        "    plt.tight_layout()\n",
        "    plt.title(title)\n",
        "    plt.savefig(os.path.join(save_dir,title),format='png')\n",
        "    plt.show()\n",
        "    print(classification_report(y_true, y_pred, target_names=class_names))\n"
      ]
    },
    {
      "cell_type": "code",
      "execution_count": null,
      "metadata": {
        "id": "XC9RRiTc-9Rv"
      },
      "outputs": [],
      "source": [
        "def show_confusion_matrix(y_pred:torch.tensor,title:str,save_dir:Optional[str] = None):\n",
        "  global df_test\n",
        "  y_true = df_test['LABEL']\n",
        "  y_pred = y_pred.indices\n",
        "\n",
        "  class_names = ['positive', 'negative', 'neutral']\n",
        "  cm = confusion_matrix(y_true,  y_pred)\n",
        "  df_cm = pd.DataFrame(cm, index=class_names, columns=class_names)\n",
        "  hmap = sns.heatmap(df_cm, annot=True, fmt=\"d\", cmap=\"BuPu\")\n",
        "  hmap.yaxis.set_ticklabels(hmap.yaxis.get_ticklabels(), rotation=0, ha='right')\n",
        "  hmap.xaxis.set_ticklabels(hmap.xaxis.get_ticklabels(), rotation=30, ha='right')\n",
        "  plt.ylabel('True sentiment')\n",
        "  plt.xlabel('Predicted sentiment')\n",
        "  plt.title(title)\n",
        "  plt.tight_layout()\n",
        "\n",
        "  if save_dir is not None:\n",
        "    plt.savefig(os.path.join(save_dir,title),format='png')\n",
        "  plt.show()\n",
        "\n"
      ]
    },
    {
      "cell_type": "markdown",
      "metadata": {
        "id": "xSNujt8YE6IN"
      },
      "source": [
        "### CAMEL BERT - (DA)\n",
        "\n",
        "> pretrained on Dialectel only"
      ]
    },
    {
      "cell_type": "code",
      "execution_count": null,
      "metadata": {
        "id": "ZQbj_VwZWI16"
      },
      "outputs": [],
      "source": [
        "CAMEL_DA_model_huggingface_checkpoint='CAMeL-Lab/bert-base-arabic-camelbert-da-sentiment'"
      ]
    },
    {
      "cell_type": "markdown",
      "metadata": {
        "id": "75zNmfSyf_W5"
      },
      "source": [
        "#### Camel-BERT Subword Tokenization"
      ]
    },
    {
      "cell_type": "code",
      "execution_count": null,
      "metadata": {
        "id": "783oyk54f_W6",
        "colab": {
          "base_uri": "https://localhost:8080/",
          "height": 145,
          "referenced_widgets": [
            "622f02d4ffba4e4c8aa02051f674e0d6",
            "8c02385cdcd847c3976f476660c04289",
            "466efba05b1b4d28828ec6360c09804e",
            "a0e34f399e4642f7a8cec64849b70f4b",
            "a8105c5806ba4697a755b937d7101500",
            "ffa9ffda18c5432d876652967f768402",
            "e820b30aea1e4c8cb248a677b549e173",
            "66e6f460940f41b78da78abf5d49563e",
            "9480d55813ca456f8cf876a5482fbfb4",
            "e6f79e9eda07451382518632e2991728",
            "50ef12eaf75d4dbcaa690654822c3728",
            "262cc59e11024eaa9bd29b0e9773ef18",
            "3d1af29a448646d4a1fcb9d3f9c3083c",
            "9f5c1202c2ec4797b4f1178388787ef9",
            "bc01095a541141ebb8ac2d3c86fbddba",
            "1492ce21949541018e7fdb6cde9be899",
            "15e20735f7a84a2a85b2e065f52ade7e",
            "c59cdcf52670499e825ba0471418c580",
            "7b56f750db4245b7865eb8a24ba77183",
            "7982a34d3d664bd18958e7dc9678404e",
            "4559d8cbe83d4be0a5e081adfe282b20",
            "7a8804bdad364cfe905f6f7f830c906c",
            "94724933abce4bb99a0d60c1b730d3d2",
            "25728fda6cdd4558b4f6a36921c29df7",
            "4b9236dc01a9424c8323992231029228",
            "fbfdf72ee4b74f0fa2f4863db195e6b4",
            "78e1b86c56f84b908e1a13512806fa7e",
            "69740b8adea14a5d9c67877be6c68e4e",
            "92ecb167087f4f02a7c3e92cbc3efa52",
            "c0d8d4b760bb4189b8f2e8ede301c191",
            "696ccf9324d54c29a7c5267115ceb59b",
            "19a419de0c1f4056b04a0d48cfb2e029",
            "0b38130a8a2c4bcfae1dc3574dbda7b6",
            "acd9f602090d46c483a866fe23d08b3d",
            "00d6bb8c7d7348af88c5b06a643dbfa9",
            "776ad7e180dc4b67b67bc93a31f783da",
            "43fda779f07a49af9161d4b62a2b6aa6",
            "b4284c6ed9204acba9bb93fb1cca62ae",
            "d895a8e65efc41c3affde6ef6baa6bbd",
            "0ea278e9550a49319f0069a7c918e999",
            "b255fa9e3c2949a9ad49deecf90b20be",
            "77de761b18ac4bcbace2aab330930753",
            "5f2edd4a91794d4abfad366980fd2184",
            "e4d17cd0145c49e1ae35e7a135d6ce95"
          ]
        },
        "outputId": "baef6414-1871-42d3-e1ca-99ad2843332d"
      },
      "outputs": [
        {
          "output_type": "display_data",
          "data": {
            "text/plain": [
              "tokenizer_config.json:   0%|          | 0.00/86.0 [00:00<?, ?B/s]"
            ],
            "application/vnd.jupyter.widget-view+json": {
              "version_major": 2,
              "version_minor": 0,
              "model_id": "622f02d4ffba4e4c8aa02051f674e0d6"
            }
          },
          "metadata": {}
        },
        {
          "output_type": "display_data",
          "data": {
            "text/plain": [
              "config.json:   0%|          | 0.00/841 [00:00<?, ?B/s]"
            ],
            "application/vnd.jupyter.widget-view+json": {
              "version_major": 2,
              "version_minor": 0,
              "model_id": "262cc59e11024eaa9bd29b0e9773ef18"
            }
          },
          "metadata": {}
        },
        {
          "output_type": "display_data",
          "data": {
            "text/plain": [
              "vocab.txt:   0%|          | 0.00/305k [00:00<?, ?B/s]"
            ],
            "application/vnd.jupyter.widget-view+json": {
              "version_major": 2,
              "version_minor": 0,
              "model_id": "94724933abce4bb99a0d60c1b730d3d2"
            }
          },
          "metadata": {}
        },
        {
          "output_type": "display_data",
          "data": {
            "text/plain": [
              "special_tokens_map.json:   0%|          | 0.00/112 [00:00<?, ?B/s]"
            ],
            "application/vnd.jupyter.widget-view+json": {
              "version_major": 2,
              "version_minor": 0,
              "model_id": "acd9f602090d46c483a866fe23d08b3d"
            }
          },
          "metadata": {}
        }
      ],
      "source": [
        "tokenizer = AutoTokenizer.from_pretrained(CAMEL_DA_model_huggingface_checkpoint)"
      ]
    },
    {
      "cell_type": "code",
      "execution_count": null,
      "metadata": {
        "colab": {
          "base_uri": "https://localhost:8080/",
          "height": 113,
          "referenced_widgets": [
            "03d4c40614914867a1f3e10c7fc85a8e",
            "054f034d55ab4693b200a5e8be6175e1",
            "42bf4b36125e43218e2207d91485effd",
            "83d7606b30b9414a84fb003a716a99d4",
            "ef6f50a470fd460aa59f694010293d8c",
            "243a1c4dca6c4a6d8db4aec0a2e1c55c",
            "a0b18f14879a44e4937993c88f5f7335",
            "84132fd61c30457f98d688cb90d2f528",
            "b0a248f8970441b2a094c037d98d25da",
            "4e521e3aaca14fe5943064f3f275ccd5",
            "3cf5e3d92e3e4ee29f15fba319b232b2",
            "58de9aa3b1b644089a1490f1e7c7c3d5",
            "8abd8343ab854def822473ba82a9a573",
            "6323f2c030fa400f896cd1b1ce044b53",
            "f9d35a55bcce4063bace5a4b3e392af3",
            "d37e2c91ccef49379744d10b74a5e86b",
            "cf0568cd129e4700bf5c62422e7287ca",
            "16ccfbe10b67422490244b363fbf7f79",
            "fd310406bbe44b4cab147d085efa7fbe",
            "85820244830b4c30b409bdd37207b6c5",
            "1fa000f927fa4fe38b94b1ea67422922",
            "fb5e0532d7ee4e8c88d72c0fd2192055",
            "63664f530124413f94c4aada2f443fa9",
            "d5dd4f11308045a080cc21bf675dea5e",
            "1766f6a3dd3f46159b2af6b167ae28ba",
            "0e48095c6f224d9aa1c4ddb3c02aa5f1",
            "6c33aef519074f93aad0f27739cb4a07",
            "19f1392d65724005a8bb4e01a186b111",
            "ea564afc76cc4d3592c5fa785dc5e9a6",
            "d32971fecb924b77afc7063ab5ae44d2",
            "c97a44c943104694bb0be7937d61d491",
            "0dd675ec53584e5fa752910374e16ffb",
            "cd959447d892418a9f5553bce9e15cbf"
          ]
        },
        "id": "HOvFNAlkGdLy",
        "outputId": "6f2fbe07-7977-4638-dc1e-072e0a08f573"
      },
      "outputs": [
        {
          "output_type": "display_data",
          "data": {
            "text/plain": [
              "  0%|          | 0/15714 [00:00<?, ?it/s]"
            ],
            "application/vnd.jupyter.widget-view+json": {
              "version_major": 2,
              "version_minor": 0,
              "model_id": "03d4c40614914867a1f3e10c7fc85a8e"
            }
          },
          "metadata": {}
        },
        {
          "output_type": "display_data",
          "data": {
            "text/plain": [
              "  0%|          | 0/5238 [00:00<?, ?it/s]"
            ],
            "application/vnd.jupyter.widget-view+json": {
              "version_major": 2,
              "version_minor": 0,
              "model_id": "58de9aa3b1b644089a1490f1e7c7c3d5"
            }
          },
          "metadata": {}
        },
        {
          "output_type": "display_data",
          "data": {
            "text/plain": [
              "  0%|          | 0/5239 [00:00<?, ?it/s]"
            ],
            "application/vnd.jupyter.widget-view+json": {
              "version_major": 2,
              "version_minor": 0,
              "model_id": "63664f530124413f94c4aada2f443fa9"
            }
          },
          "metadata": {}
        }
      ],
      "source": [
        "PY_DATA_COLLATOR = DataCollatorWithPadding(tokenizer = tokenizer)\n",
        "train_dataloader , eval_dataloader ,test_dataloader  = data_loader(dataset,tokenizer)"
      ]
    },
    {
      "cell_type": "markdown",
      "metadata": {
        "id": "vQDKe5kShgDH"
      },
      "source": [
        "#### Training"
      ]
    },
    {
      "cell_type": "code",
      "execution_count": null,
      "metadata": {
        "colab": {
          "base_uri": "https://localhost:8080/"
        },
        "id": "0pDVBVndske1",
        "outputId": "11218014-e45b-4d61-f382-eaa15e2f3ca5"
      },
      "outputs": [
        {
          "output_type": "stream",
          "name": "stdout",
          "text": [
            "-rw------- 1 root root 1307290453 Jun 18 07:33 /content/drive/MyDrive/Master1/Sentiment/custom_models/camel/py/model/model_2/checkpoint-epoch-5.pt\n",
            "-rw------- 1 root root 1307290453 Jun 18 07:31 /content/drive/MyDrive/Master1/Sentiment/custom_models/camel/py/model/model_2/checkpoint-epoch-4.pt\n",
            "-rw------- 1 root root 1307290453 Jun 18 07:30 /content/drive/MyDrive/Master1/Sentiment/custom_models/camel/py/model/model_2/checkpoint-epoch-3.pt\n",
            "-rw------- 1 root root 1307290453 Jun 18 07:29 /content/drive/MyDrive/Master1/Sentiment/custom_models/camel/py/model/model_2/checkpoint-epoch-2.pt\n",
            "-rw------- 1 root root 1307290453 Jun 18 07:28 /content/drive/MyDrive/Master1/Sentiment/custom_models/camel/py/model/model_2/checkpoint-epoch-1.pt\n",
            "-rw------- 1 root root 1307290453 Jun 11 23:27 /content/drive/MyDrive/Master1/Sentiment/custom_models/camel/py/model/model_2/checkpoint-epoch-6.pt\n"
          ]
        }
      ],
      "source": [
        "# The most recent checkpoint file will be listed at the top.\n",
        "!ls -lt {PY_CUSTOM_CAMEL_MODEL_DIR}checkpoint-*"
      ]
    },
    {
      "cell_type": "code",
      "execution_count": null,
      "metadata": {
        "colab": {
          "base_uri": "https://localhost:8080/",
          "height": 431,
          "referenced_widgets": [
            "6a478a81c0d842a6b987508165a790bb",
            "c5d76cf859e34c30b98316aab5892271",
            "42ed4d9fd86648e1b4b663fa7bd4fc1a",
            "d661ecfa32fa464da7d39bbe0482e9a8",
            "2a19bc7b035744f7bb69bc9ef49dd5f8",
            "9bc2f1721efe4b69b8c902f6a6430944",
            "24dd81289e5f4056826c80ff394627e6",
            "67efe34d7a434100b76c4d97370c9fab",
            "1fac6ed4dd2841308659aaddcf9f8d88",
            "b13a6d7e54364aadb9c418351aec7826",
            "0fee31177aa14375872426b8ba55faac"
          ]
        },
        "id": "dmZWZbxdtVZs",
        "outputId": "7fc5db5b-6635-45ea-c14a-995a3552ae74"
      },
      "outputs": [
        {
          "output_type": "display_data",
          "data": {
            "text/plain": [
              "pytorch_model.bin:   0%|          | 0.00/436M [00:00<?, ?B/s]"
            ],
            "application/vnd.jupyter.widget-view+json": {
              "version_major": 2,
              "version_minor": 0,
              "model_id": "6a478a81c0d842a6b987508165a790bb"
            }
          },
          "metadata": {}
        },
        {
          "output_type": "stream",
          "name": "stdout",
          "text": [
            "There are 1 GPU(s) available.\n",
            "We will use the GPU: NVIDIA L4\n",
            "Mon Jun 23 09:26:32 2025       \n",
            "+-----------------------------------------------------------------------------------------+\n",
            "| NVIDIA-SMI 550.54.15              Driver Version: 550.54.15      CUDA Version: 12.4     |\n",
            "|-----------------------------------------+------------------------+----------------------+\n",
            "| GPU  Name                 Persistence-M | Bus-Id          Disp.A | Volatile Uncorr. ECC |\n",
            "| Fan  Temp   Perf          Pwr:Usage/Cap |           Memory-Usage | GPU-Util  Compute M. |\n",
            "|                                         |                        |               MIG M. |\n",
            "|=========================================+========================+======================|\n",
            "|   0  NVIDIA L4                      Off |   00000000:00:03.0 Off |                    0 |\n",
            "| N/A   38C    P8             16W /   72W |       3MiB /  23034MiB |      0%      Default |\n",
            "|                                         |                        |                  N/A |\n",
            "+-----------------------------------------+------------------------+----------------------+\n",
            "                                                                                         \n",
            "+-----------------------------------------------------------------------------------------+\n",
            "| Processes:                                                                              |\n",
            "|  GPU   GI   CI        PID   Type   Process name                              GPU Memory |\n",
            "|        ID   ID                                                               Usage      |\n",
            "|=========================================================================================|\n",
            "|  No running processes found                                                             |\n",
            "+-----------------------------------------------------------------------------------------+\n"
          ]
        }
      ],
      "source": [
        "set_seed(RANDOM_STATE)\n",
        "model , device = initialize_model(save_dir = PY_CUSTOM_CAMEL_MODEL_DIR,model_name = CAMEL_DA_model_huggingface_checkpoint )"
      ]
    },
    {
      "cell_type": "code",
      "execution_count": null,
      "metadata": {
        "colab": {
          "base_uri": "https://localhost:8080/"
        },
        "id": "hAh2fbI7gP1Q",
        "outputId": "9fffb447-4e16-4b5c-d508-4b914605fe3d"
      },
      "outputs": [
        {
          "output_type": "execute_result",
          "data": {
            "text/plain": [
              "=====================================================================================\n",
              "Layer (type:depth-idx)                                       Param #\n",
              "=====================================================================================\n",
              "BertClassifier                                               --\n",
              "├─BertModel: 1-1                                             --\n",
              "│    └─BertEmbeddings: 2-1                                   --\n",
              "│    │    └─Embedding: 3-1                                   23,040,000\n",
              "│    │    └─Embedding: 3-2                                   393,216\n",
              "│    │    └─Embedding: 3-3                                   1,536\n",
              "│    │    └─LayerNorm: 3-4                                   1,536\n",
              "│    │    └─Dropout: 3-5                                     --\n",
              "│    └─BertEncoder: 2-2                                      --\n",
              "│    │    └─ModuleList: 3-6                                  85,054,464\n",
              "│    └─BertPooler: 2-3                                       --\n",
              "│    │    └─Linear: 3-7                                      590,592\n",
              "│    │    └─Tanh: 3-8                                        --\n",
              "├─Sequential: 1-2                                            --\n",
              "│    └─Linear: 2-4                                           196,864\n",
              "│    └─LeakyReLU: 2-5                                        --\n",
              "│    └─LayerNorm: 2-6                                        512\n",
              "│    └─Dropout: 2-7                                          --\n",
              "│    └─Linear: 2-8                                           32,896\n",
              "│    └─GELU: 2-9                                             --\n",
              "│    └─LayerNorm: 2-10                                       256\n",
              "│    └─Linear: 2-11                                          387\n",
              "=====================================================================================\n",
              "Total params: 109,312,259\n",
              "Trainable params: 109,312,259\n",
              "Non-trainable params: 0\n",
              "====================================================================================="
            ]
          },
          "metadata": {},
          "execution_count": 39
        }
      ],
      "source": [
        "from torchinfo import summary\n",
        "summary(model)"
      ]
    },
    {
      "cell_type": "code",
      "execution_count": null,
      "metadata": {
        "colab": {
          "base_uri": "https://localhost:8080/",
          "height": 1000,
          "referenced_widgets": [
            "4b2fb0d313bf4084b6478fc2db2282c1",
            "5e96f18c26b24ab7ad85b5c6e698e182",
            "a51731d56a3a4450b679a26e80ba20c1",
            "674a4e5fff8c48e8becd6e715ae3815a",
            "96a04b7284dd4befb488a80f247806ca",
            "017e6aec58f44becbe4b3c3b45c78fc7",
            "df2202002e1f4934a94a77a313a58fe0",
            "03ed55a0abf645d8a848499796815627",
            "2bc9c0e0e8964073b7cefa8536740bc3",
            "e1c385ba739d4879b77bd1fc8b1938b6",
            "ab825274bbfa46b7a51dc1020ee2ae5a",
            "ddf3664c2c7d44129cb878ed73249294",
            "9c4ff9dfb5f9471a86ced04478239be1",
            "9f2d9769165747cb89f1b5c5f7beeba9",
            "10c34c11f6664a0eb77b6da0c4a3a0ec",
            "e6726e3007b44e6aa27822ff0ce1e025",
            "366c2689dadc46e8be5b4556ae4a2ff1",
            "6176ede71cf5463dbee10b53eab1bdd8",
            "36b4ded2a0a74ac4895d9bd95fa5f8e8",
            "7a64f7608a874086bf575310e5b0986f",
            "dccd72be1b1c426b8e039c58c89ede25",
            "a054fc3dbdee442782c0f6b620ed649c"
          ]
        },
        "id": "__wRcA0jK82n",
        "outputId": "1ecd0524-f1e2-4238-f31b-c360678a3909"
      },
      "outputs": [
        {
          "output_type": "stream",
          "name": "stdout",
          "text": [
            "total steps = 491 batches * 10 epochs = 4910 \t Batch Size 32\n"
          ]
        },
        {
          "output_type": "display_data",
          "data": {
            "text/plain": [
              "  0%|          | 0/4910 [00:00<?, ?it/s]"
            ],
            "application/vnd.jupyter.widget-view+json": {
              "version_major": 2,
              "version_minor": 0,
              "model_id": "4b2fb0d313bf4084b6478fc2db2282c1"
            }
          },
          "metadata": {}
        },
        {
          "output_type": "stream",
          "name": "stdout",
          "text": [
            "Start training...\n",
            "\n",
            " Epoch  |  Batch  |  Train Loss  |  Val Loss  |  Val Acc  |  Elapsed \n",
            "----------------------------------------------------------------------\n"
          ]
        },
        {
          "output_type": "display_data",
          "data": {
            "text/plain": [
              "model.safetensors:   0%|          | 0.00/436M [00:00<?, ?B/s]"
            ],
            "application/vnd.jupyter.widget-view+json": {
              "version_major": 2,
              "version_minor": 0,
              "model_id": "ddf3664c2c7d44129cb878ed73249294"
            }
          },
          "metadata": {}
        },
        {
          "output_type": "stream",
          "name": "stdout",
          "text": [
            "   1    |   490   |   0.556124   |     -      |     -     |   98.10  \n",
            "----------------------------------------------------------------------\n",
            "   epoch  avg_train_loss  val_loss  val_accuracy  val_f1_weighted  \\\n",
            "0      0        0.556124  0.520325      0.789981         0.790464   \n",
            "\n",
            "   val_f1_macro  val_precision  val_recall  time elapsed  \n",
            "0      0.781232       0.813801    0.789981    108.783547  \n",
            "----------------------------------------------------------------------\n",
            "\n",
            "\n",
            " Epoch  |  Batch  |  Train Loss  |  Val Loss  |  Val Acc  |  Elapsed \n",
            "----------------------------------------------------------------------\n",
            "   2    |   490   |   0.311085   |     -      |     -     |  100.37  \n",
            "----------------------------------------------------------------------\n",
            "   epoch  avg_train_loss  val_loss  val_accuracy  val_f1_weighted  \\\n",
            "0      0        0.556124  0.520325      0.789981         0.790464   \n",
            "1      1        0.311085  0.592905      0.791020         0.791276   \n",
            "\n",
            "   val_f1_macro  val_precision  val_recall  time elapsed  \n",
            "0      0.781232       0.813801    0.789981    108.783547  \n",
            "1      0.782709       0.809762    0.791020    111.273149  \n",
            "----------------------------------------------------------------------\n",
            "\n",
            "\n",
            " Epoch  |  Batch  |  Train Loss  |  Val Loss  |  Val Acc  |  Elapsed \n",
            "----------------------------------------------------------------------\n",
            "   3    |   490   |   0.180762   |     -      |     -     |  101.69  \n",
            "----------------------------------------------------------------------\n",
            "   epoch  avg_train_loss  val_loss  val_accuracy  val_f1_weighted  \\\n",
            "0      0        0.556124  0.520325      0.789981         0.790464   \n",
            "1      1        0.311085  0.592905      0.791020         0.791276   \n",
            "2      2        0.180762  0.840924      0.790171         0.789985   \n",
            "\n",
            "   val_f1_macro  val_precision  val_recall  time elapsed  \n",
            "0      0.781232       0.813801    0.789981    108.783547  \n",
            "1      0.782709       0.809762    0.791020    111.273149  \n",
            "2      0.781009       0.805468    0.790171    112.647125  \n",
            "----------------------------------------------------------------------\n",
            "\n",
            "\n",
            " Epoch  |  Batch  |  Train Loss  |  Val Loss  |  Val Acc  |  Elapsed \n",
            "----------------------------------------------------------------------\n",
            "   4    |   490   |   0.126165   |     -      |     -     |  101.91  \n",
            "----------------------------------------------------------------------\n",
            "   epoch  avg_train_loss  val_loss  val_accuracy  val_f1_weighted  \\\n",
            "0      0        0.556124  0.520325      0.789981         0.790464   \n",
            "1      1        0.311085  0.592905      0.791020         0.791276   \n",
            "2      2        0.180762  0.840924      0.790171         0.789985   \n",
            "3      3        0.126165  0.956890      0.785685         0.784795   \n",
            "\n",
            "   val_f1_macro  val_precision  val_recall  time elapsed  \n",
            "0      0.781232       0.813801    0.789981    108.783547  \n",
            "1      0.782709       0.809762    0.791020    111.273149  \n",
            "2      0.781009       0.805468    0.790171    112.647125  \n",
            "3      0.774911       0.801725    0.785685    112.876987  \n",
            "----------------------------------------------------------------------\n",
            "\n",
            "\n",
            " Epoch  |  Batch  |  Train Loss  |  Val Loss  |  Val Acc  |  Elapsed \n",
            "----------------------------------------------------------------------\n",
            "   5    |   490   |   0.092515   |     -      |     -     |  101.94  \n",
            "----------------------------------------------------------------------\n",
            "   epoch  avg_train_loss  val_loss  val_accuracy  val_f1_weighted  \\\n",
            "0      0        0.556124  0.520325      0.789981         0.790464   \n",
            "1      1        0.311085  0.592905      0.791020         0.791276   \n",
            "2      2        0.180762  0.840924      0.790171         0.789985   \n",
            "3      3        0.126165  0.956890      0.785685         0.784795   \n",
            "4      4        0.092515  0.925032      0.787122         0.787235   \n",
            "\n",
            "   val_f1_macro  val_precision  val_recall  time elapsed  \n",
            "0      0.781232       0.813801    0.789981    108.783547  \n",
            "1      0.782709       0.809762    0.791020    111.273149  \n",
            "2      0.781009       0.805468    0.790171    112.647125  \n",
            "3      0.774911       0.801725    0.785685    112.876987  \n",
            "4      0.777331       0.804104    0.787122    112.890288  \n",
            "----------------------------------------------------------------------\n",
            "\n",
            "\n",
            " Epoch  |  Batch  |  Train Loss  |  Val Loss  |  Val Acc  |  Elapsed \n",
            "----------------------------------------------------------------------\n",
            "   6    |   490   |   0.066699   |     -      |     -     |  101.90  \n",
            "----------------------------------------------------------------------\n",
            "   epoch  avg_train_loss  val_loss  val_accuracy  val_f1_weighted  \\\n",
            "0      0        0.556124  0.520325      0.789981         0.790464   \n",
            "1      1        0.311085  0.592905      0.791020         0.791276   \n",
            "2      2        0.180762  0.840924      0.790171         0.789985   \n",
            "3      3        0.126165  0.956890      0.785685         0.784795   \n",
            "4      4        0.092515  0.925032      0.787122         0.787235   \n",
            "5      5        0.066699  1.034987      0.786551         0.785627   \n",
            "\n",
            "   val_f1_macro  val_precision  val_recall  time elapsed  \n",
            "0      0.781232       0.813801    0.789981    108.783547  \n",
            "1      0.782709       0.809762    0.791020    111.273149  \n",
            "2      0.781009       0.805468    0.790171    112.647125  \n",
            "3      0.774911       0.801725    0.785685    112.876987  \n",
            "4      0.777331       0.804104    0.787122    112.890288  \n",
            "5      0.775482       0.803283    0.786551    112.855210  \n",
            "----------------------------------------------------------------------\n",
            "\n",
            "\n",
            "Early stopping at epoch 5 best epoch is 1\n",
            "Training complete!\n",
            "loading the best model of epoch 2 based on it's best accuracy 0.7910199556541021\n",
            "   epoch  avg_train_loss  val_loss  val_accuracy  val_f1_weighted  \\\n",
            "0      0        0.556124  0.520325      0.789981         0.790464   \n",
            "1      1        0.311085  0.592905      0.791020         0.791276   \n",
            "2      2        0.180762  0.840924      0.790171         0.789985   \n",
            "3      3        0.126165  0.956890      0.785685         0.784795   \n",
            "4      4        0.092515  0.925032      0.787122         0.787235   \n",
            "5      5        0.066699  1.034987      0.786551         0.785627   \n",
            "\n",
            "   val_f1_macro  val_precision  val_recall  time elapsed  \n",
            "0      0.781232       0.813801    0.789981    108.783547  \n",
            "1      0.782709       0.809762    0.791020    111.273149  \n",
            "2      0.781009       0.805468    0.790171    112.647125  \n",
            "3      0.774911       0.801725    0.785685    112.876987  \n",
            "4      0.777331       0.804104    0.787122    112.890288  \n",
            "5      0.775482       0.803283    0.786551    112.855210  \n"
          ]
        }
      ],
      "source": [
        "train(model= model,\n",
        "      train_dataloader = train_dataloader,\n",
        "      eval_dataloader = eval_dataloader,\n",
        "      save_dir = PY_CUSTOM_CAMEL_MODEL_DIR,\n",
        "      device = device,\n",
        "      epochs = EPOCHS,\n",
        "      checkpoint = None,  # 'checkpoint-epoch-6.pt',\n",
        "      evaluation = True\n",
        "      )"
      ]
    },
    {
      "cell_type": "markdown",
      "metadata": {
        "id": "bZ1KNNcQ_WJ7"
      },
      "source": [
        "#### Evaluating"
      ]
    },
    {
      "cell_type": "code",
      "execution_count": null,
      "metadata": {
        "id": "-UGBDKt2_WJ9",
        "colab": {
          "base_uri": "https://localhost:8080/",
          "height": 49,
          "referenced_widgets": [
            "06367b4bf7634c08a6965aa7d9fecf36",
            "256b8f66c18246d6a4ed4ed7c04b02c2",
            "c426cc5853af4b33baaa7e99e5aa0ba7",
            "3ca5ce5fb52b48adb9358ab40cacb0b8",
            "1f166067b73d4e398323371152cd8013",
            "eb5c52405d4f4c328b8d7df6ce0f636c",
            "be07124c0f5541a485da7def3c931a7e",
            "6b558e6aaf414e098697a6a1b29d5cc2",
            "7d1abd71fea940db8c29bc2955d59feb",
            "9394cae7413242d1aee728305ebd4680",
            "6f099c07f7654f88a3a052798e02284b"
          ]
        },
        "outputId": "c925d858-a8d7-4a59-adfe-382360417fd2"
      },
      "outputs": [
        {
          "output_type": "display_data",
          "data": {
            "text/plain": [
              "  0%|          | 0/164 [00:00<?, ?it/s]"
            ],
            "application/vnd.jupyter.widget-view+json": {
              "version_major": 2,
              "version_minor": 0,
              "model_id": "06367b4bf7634c08a6965aa7d9fecf36"
            }
          },
          "metadata": {}
        }
      ],
      "source": [
        "tensor , ytest = bert_predict(model, test_dataloader, device)"
      ]
    },
    {
      "cell_type": "code",
      "execution_count": null,
      "metadata": {
        "id": "bEP3Tx6X_WJ_"
      },
      "outputs": [],
      "source": [
        "# print_classification_report(ytest)"
      ]
    },
    {
      "cell_type": "code",
      "execution_count": null,
      "metadata": {
        "id": "z2RI50-ROiWs",
        "colab": {
          "base_uri": "https://localhost:8080/",
          "height": 709
        },
        "outputId": "8b935cc1-eb22-4bbb-bf36-429a26dba4fd"
      },
      "outputs": [
        {
          "output_type": "display_data",
          "data": {
            "text/plain": [
              "<Figure size 800x500 with 2 Axes>"
            ],
            "image/png": "[encoded data removed]"
          },
          "metadata": {}
        },
        {
          "output_type": "stream",
          "name": "stdout",
          "text": [
            "              precision    recall  f1-score   support\n",
            "\n",
            "    positive       0.79      0.86      0.82      1800\n",
            "    negative       0.81      0.78      0.79      1800\n",
            "     neutral       0.79      0.75      0.77      1639\n",
            "\n",
            "    accuracy                           0.80      5239\n",
            "   macro avg       0.80      0.80      0.80      5239\n",
            "weighted avg       0.80      0.80      0.80      5239\n",
            "\n"
          ]
        }
      ],
      "source": [
        "print_classification_report(ytest, PY_CUSTOM_CAMEL_MODEL_DIR, 'Camel-da_classification_report')"
      ]
    },
    {
      "cell_type": "code",
      "execution_count": null,
      "metadata": {
        "colab": {
          "base_uri": "https://localhost:8080/",
          "height": 607
        },
        "id": "9N2IN1Qe_WKA",
        "outputId": "962b956f-aea9-4806-b5ae-b21fc88b743f"
      },
      "outputs": [
        {
          "output_type": "display_data",
          "data": {
            "text/plain": [
              "<Figure size 1400x600 with 2 Axes>"
            ],
            "image/png": "[encoded data removed]"
          },
          "metadata": {}
        }
      ],
      "source": [
        "show_confusion_matrix(ytest,title = 'confusion matrix - CAMEL-DA',save_dir = PY_CUSTOM_CAMEL_MODEL_DIR)"
      ]
    },
    {
      "cell_type": "code",
      "source": [
        "# prompt: now, write the code for print the output result of our model camelbert-da (accuracy, precision, f1score, recall)\n",
        "\n",
        "# Evaluate the model on the test set and get the performance metrics\n",
        "results_df = evaluate_test(model, test_dataloader, PY_CUSTOM_CAMEL_MODEL_DIR, device)\n",
        "\n",
        "# Print the results\n",
        "print(\"\\nPerformance Metrics for CAMEL-DA Model:\")\n",
        "results_df\n"
      ],
      "metadata": {
        "id": "1NfNQLnogonx",
        "colab": {
          "base_uri": "https://localhost:8080/"
        },
        "outputId": "56f5acc9-59fe-4e7a-de21-17650e6f346f"
      },
      "execution_count": null,
      "outputs": [
        {
          "output_type": "stream",
          "name": "stdout",
          "text": [
            "       loss  accuracy  f1_weighted  f1_macro  precision    recall\n",
            "0  0.957866  0.796577     0.795394  0.786419   0.810233  0.796577\n",
            "\n",
            "Performance Metrics for CAMEL-DA Model:\n"
          ]
        },
        {
          "output_type": "execute_result",
          "data": {
            "text/plain": [
              "[{'loss': np.float64(0.957866195589304),\n",
              "  'accuracy': np.float64(0.7965767497348887),\n",
              "  'f1_weighted': np.float64(0.7953942498179056),\n",
              "  'f1_macro': np.float64(0.7864191215669434),\n",
              "  'precision': np.float64(0.810233039802024),\n",
              "  'recall': np.float64(0.7965767497348887)}]"
            ]
          },
          "metadata": {},
          "execution_count": 45
        }
      ]
    },
    {
      "cell_type": "markdown",
      "metadata": {
        "id": "C9pGQrzYcqnj"
      },
      "source": [
        "### CAMEL-BERT-MIX\n",
        "\n",
        "> This model card describes CAMeLBERT-Mix (bert-base-arabic-camelbert-mix), a model pre-trained on a mixture of these variants: MSA, DA, and CA.\n",
        "\n"
      ]
    },
    {
      "cell_type": "code",
      "execution_count": null,
      "metadata": {
        "id": "f0qPhD7bcqnk"
      },
      "outputs": [],
      "source": [
        "CAMEL_MIX_model_huggingface_checkpoint='CAMeL-Lab/bert-base-arabic-camelbert-mix-sentiment'"
      ]
    },
    {
      "cell_type": "markdown",
      "metadata": {
        "id": "XusZn9lKcqnl"
      },
      "source": [
        "#### CAMEL-BERT-MIX Subword Tokenization"
      ]
    },
    {
      "cell_type": "code",
      "execution_count": null,
      "metadata": {
        "id": "3h_gWtv4cqnl"
      },
      "outputs": [],
      "source": [
        "tokenizer = AutoTokenizer.from_pretrained(CAMEL_MIX_model_huggingface_checkpoint)"
      ]
    },
    {
      "cell_type": "code",
      "execution_count": null,
      "metadata": {
        "colab": {
          "base_uri": "https://localhost:8080/",
          "referenced_widgets": [
            "9017d84c960d48b9a13eb6ba5a2a27f1",
            "97f3e5aca1b44ad998e235711357b5c6",
            "b5c11254c3ab4792bbd81a9ee231c9b7",
            "b2bb6f0a13084e2ba04eab1e90849b18",
            "3ff83a05216542d591c57060341972e6",
            "95fda7296e6d4ae098e44637532cf2c7",
            "ad992e9472f3401f99446f0b8e755a6e",
            "ba97cbd03ef54c7bb8d79ad80f6cdd55",
            "951acc08921643cfba3052ec8ab624ef",
            "da78b2afe1b442d0aec6c45489a148d6",
            "09917c4abdd54e4795be93f0f953bd07",
            "fff1349b748346b5b44d9e42c4047d51",
            "17f489b020f64da0aae790d584eae05b",
            "92edfb683f9a49ed98cbe563157e8126",
            "6fe6eecd884a437aa91967c80f24b534",
            "73e25fd903a54f32b15d6392748d7ad5",
            "bfc069cdaa374acc811cb09ba5958fa3",
            "aa4dc9c11e0a4f29adacbde8fb3ae3a1",
            "93175be6d87e4c4ea6525575956fa27b",
            "44ccdbcbed414cb58650ae19f88a4f2e",
            "53e360630060441faa992f1fbe9e5a39",
            "c1bda64c405a4b5c8bf37832532d2756",
            "740b1c93361047c1868ce256a17c3c1c",
            "480992b5a58f49448aab1f74e70964fb",
            "c4fadefd925b44ffb078cba1fbe2cd54",
            "ca8e0cf540c947fb9bbd6a24f62f9f38",
            "e3b7773b5bc446bb996c255b44ecd2fe",
            "9b813340793045d5a712322701e8d4f4",
            "c951c85291ac40479588850c202b3188",
            "f4cf94141da940f99d13a7826fc9db87",
            "ce4ad07c60c0456e93e8a5ba352e31b8",
            "7f4767a9875849c5857f82c5a93e6681",
            "4dd8d0e0d6894930b759bbdfa364966b"
          ]
        },
        "id": "-TVzTmikcqnm",
        "outputId": "9149f2af-4696-42ad-ce99-f1390bfbc8d5"
      },
      "outputs": [
        {
          "output_type": "display_data",
          "data": {
            "text/plain": [
              "  0%|          | 0/15714 [00:00<?, ?it/s]"
            ],
            "application/vnd.jupyter.widget-view+json": {
              "version_major": 2,
              "version_minor": 0,
              "model_id": "9017d84c960d48b9a13eb6ba5a2a27f1"
            }
          },
          "metadata": {}
        },
        {
          "output_type": "display_data",
          "data": {
            "text/plain": [
              "  0%|          | 0/5238 [00:00<?, ?it/s]"
            ],
            "application/vnd.jupyter.widget-view+json": {
              "version_major": 2,
              "version_minor": 0,
              "model_id": "fff1349b748346b5b44d9e42c4047d51"
            }
          },
          "metadata": {}
        },
        {
          "output_type": "display_data",
          "data": {
            "text/plain": [
              "  0%|          | 0/5239 [00:00<?, ?it/s]"
            ],
            "application/vnd.jupyter.widget-view+json": {
              "version_major": 2,
              "version_minor": 0,
              "model_id": "740b1c93361047c1868ce256a17c3c1c"
            }
          },
          "metadata": {}
        }
      ],
      "source": [
        "PY_DATA_COLLATOR = DataCollatorWithPadding(tokenizer = tokenizer)\n",
        "train_dataloader , eval_dataloader ,test_dataloader  = data_loader(dataset,tokenizer)"
      ]
    },
    {
      "cell_type": "markdown",
      "metadata": {
        "id": "JZixI4kUcqnn"
      },
      "source": [
        "#### Training"
      ]
    },
    {
      "cell_type": "code",
      "execution_count": null,
      "metadata": {
        "colab": {
          "base_uri": "https://localhost:8080/"
        },
        "id": "UnUZrANGcqnn",
        "outputId": "f1dab3eb-1610-4ca5-b951-c8c03a04548b"
      },
      "outputs": [
        {
          "output_type": "stream",
          "name": "stdout",
          "text": [
            "-rw------- 1 root root 1307290453 Jun 23 10:06 /content/drive/MyDrive/Master1/Sentiment/custom_models/camel_mix/py/model/model_2/checkpoint-epoch-7.pt\n",
            "-rw------- 1 root root 1307290453 Jun 23 10:04 /content/drive/MyDrive/Master1/Sentiment/custom_models/camel_mix/py/model/model_2/checkpoint-epoch-6.pt\n",
            "-rw------- 1 root root 1307290453 Jun 23 10:02 /content/drive/MyDrive/Master1/Sentiment/custom_models/camel_mix/py/model/model_2/checkpoint-epoch-5.pt\n",
            "-rw------- 1 root root 1307290453 Jun 23 09:59 /content/drive/MyDrive/Master1/Sentiment/custom_models/camel_mix/py/model/model_2/checkpoint-epoch-4.pt\n",
            "-rw------- 1 root root 1307290453 Jun 23 09:57 /content/drive/MyDrive/Master1/Sentiment/custom_models/camel_mix/py/model/model_2/checkpoint-epoch-3.pt\n",
            "-rw------- 1 root root 1307290453 Jun 23 09:54 /content/drive/MyDrive/Master1/Sentiment/custom_models/camel_mix/py/model/model_2/checkpoint-epoch-2.pt\n",
            "-rw------- 1 root root 1307290453 Jun 23 09:52 /content/drive/MyDrive/Master1/Sentiment/custom_models/camel_mix/py/model/model_2/checkpoint-epoch-1.pt\n"
          ]
        }
      ],
      "source": [
        "# The most recent checkpoint file will be listed at the top.\n",
        "!ls -lt {PY_CUSTOM_CAMEL_MIX_MODEL_DIR}checkpoint-*"
      ]
    },
    {
      "cell_type": "code",
      "execution_count": null,
      "metadata": {
        "colab": {
          "base_uri": "https://localhost:8080/"
        },
        "id": "q59YRQQccqno",
        "outputId": "d25d0bd2-1466-4fd0-da88-cbed7d4477c2"
      },
      "outputs": [
        {
          "output_type": "stream",
          "name": "stdout",
          "text": [
            "There are 1 GPU(s) available.\n",
            "We will use the GPU: NVIDIA L4\n",
            "Mon Jun 23 10:29:21 2025       \n",
            "+-----------------------------------------------------------------------------------------+\n",
            "| NVIDIA-SMI 550.54.15              Driver Version: 550.54.15      CUDA Version: 12.4     |\n",
            "|-----------------------------------------+------------------------+----------------------+\n",
            "| GPU  Name                 Persistence-M | Bus-Id          Disp.A | Volatile Uncorr. ECC |\n",
            "| Fan  Temp   Perf          Pwr:Usage/Cap |           Memory-Usage | GPU-Util  Compute M. |\n",
            "|                                         |                        |               MIG M. |\n",
            "|=========================================+========================+======================|\n",
            "|   0  NVIDIA L4                      Off |   00000000:00:03.0 Off |                    0 |\n",
            "| N/A   63C    P0             30W /   72W |    6959MiB /  23034MiB |      0%      Default |\n",
            "|                                         |                        |                  N/A |\n",
            "+-----------------------------------------+------------------------+----------------------+\n",
            "                                                                                         \n",
            "+-----------------------------------------------------------------------------------------+\n",
            "| Processes:                                                                              |\n",
            "|  GPU   GI   CI        PID   Type   Process name                              GPU Memory |\n",
            "|        ID   ID                                                               Usage      |\n",
            "|=========================================================================================|\n",
            "+-----------------------------------------------------------------------------------------+\n"
          ]
        }
      ],
      "source": [
        "set_seed(RANDOM_STATE)\n",
        "model , device = initialize_model(save_dir = PY_CUSTOM_CAMEL_MIX_MODEL_DIR,model_name = CAMEL_MIX_model_huggingface_checkpoint )"
      ]
    },
    {
      "cell_type": "code",
      "execution_count": null,
      "metadata": {
        "colab": {
          "base_uri": "https://localhost:8080/"
        },
        "id": "MLahfFdscqnp",
        "outputId": "942d32ef-6dc4-42ec-ab17-9325a6bba560"
      },
      "outputs": [
        {
          "output_type": "execute_result",
          "data": {
            "text/plain": [
              "=====================================================================================\n",
              "Layer (type:depth-idx)                                       Param #\n",
              "=====================================================================================\n",
              "BertClassifier                                               --\n",
              "├─BertModel: 1-1                                             --\n",
              "│    └─BertEmbeddings: 2-1                                   --\n",
              "│    │    └─Embedding: 3-1                                   23,040,000\n",
              "│    │    └─Embedding: 3-2                                   393,216\n",
              "│    │    └─Embedding: 3-3                                   1,536\n",
              "│    │    └─LayerNorm: 3-4                                   1,536\n",
              "│    │    └─Dropout: 3-5                                     --\n",
              "│    └─BertEncoder: 2-2                                      --\n",
              "│    │    └─ModuleList: 3-6                                  85,054,464\n",
              "│    └─BertPooler: 2-3                                       --\n",
              "│    │    └─Linear: 3-7                                      590,592\n",
              "│    │    └─Tanh: 3-8                                        --\n",
              "├─Sequential: 1-2                                            --\n",
              "│    └─Linear: 2-4                                           196,864\n",
              "│    └─LeakyReLU: 2-5                                        --\n",
              "│    └─LayerNorm: 2-6                                        512\n",
              "│    └─Dropout: 2-7                                          --\n",
              "│    └─Linear: 2-8                                           32,896\n",
              "│    └─GELU: 2-9                                             --\n",
              "│    └─LayerNorm: 2-10                                       256\n",
              "│    └─Linear: 2-11                                          387\n",
              "=====================================================================================\n",
              "Total params: 109,312,259\n",
              "Trainable params: 109,312,259\n",
              "Non-trainable params: 0\n",
              "====================================================================================="
            ]
          },
          "metadata": {},
          "execution_count": 75
        }
      ],
      "source": [
        "from torchinfo import summary\n",
        "summary(model)"
      ]
    },
    {
      "cell_type": "code",
      "execution_count": null,
      "metadata": {
        "colab": {
          "base_uri": "https://localhost:8080/",
          "height": 1000,
          "referenced_widgets": [
            "e16b34e567374fc9b0ba2c5423910250",
            "94ff0154353b47579d732137ce9355a8",
            "7a6df15e09d9402091c7056b452ca63c",
            "38407dcb7331408bac61124f98d14ec8",
            "51214c3fd8ee4e1da89c8ae165312da2",
            "cde555d735b142a883ce7b11b5f0f37b",
            "7b33709da8664ab4b15871f28f9d9b09",
            "1765dd06f0104aab8cd296455928be66",
            "454ee8df85854970864b00918dea0875",
            "ccc833f4de4c412e9346f3c3cc5047e5",
            "709568868440464bae60f661f4b09730"
          ]
        },
        "id": "1vPfyNeZcqnp",
        "outputId": "456115f2-22d4-4b7f-ac04-7d93df6f6d26"
      },
      "outputs": [
        {
          "output_type": "stream",
          "name": "stdout",
          "text": [
            "total steps = 491 batches * 10 epochs = 4910 \t Batch Size 32\n"
          ]
        },
        {
          "output_type": "display_data",
          "data": {
            "text/plain": [
              "  0%|          | 0/4910 [00:00<?, ?it/s]"
            ],
            "application/vnd.jupyter.widget-view+json": {
              "version_major": 2,
              "version_minor": 0,
              "model_id": "e16b34e567374fc9b0ba2c5423910250"
            }
          },
          "metadata": {}
        },
        {
          "output_type": "stream",
          "name": "stdout",
          "text": [
            "Start training...\n",
            "\n",
            " Epoch  |  Batch  |  Train Loss  |  Val Loss  |  Val Acc  |  Elapsed \n",
            "----------------------------------------------------------------------\n",
            "   1    |   490   |   0.541733   |     -      |     -     |  101.18  \n",
            "----------------------------------------------------------------------\n",
            "   epoch  avg_train_loss  val_loss  val_accuracy  val_f1_weighted  \\\n",
            "0      0        0.541733  0.489337      0.802643         0.803201   \n",
            "\n",
            "   val_f1_macro  val_precision  val_recall  time elapsed  \n",
            "0      0.793827       0.819892    0.802643    112.166269  \n",
            "----------------------------------------------------------------------\n",
            "\n",
            "\n",
            " Epoch  |  Batch  |  Train Loss  |  Val Loss  |  Val Acc  |  Elapsed \n",
            "----------------------------------------------------------------------\n",
            "   2    |   490   |   0.310472   |     -      |     -     |  101.77  \n",
            "----------------------------------------------------------------------\n",
            "   epoch  avg_train_loss  val_loss  val_accuracy  val_f1_weighted  \\\n",
            "0      0        0.541733  0.489337      0.802643         0.803201   \n",
            "1      1        0.310472  0.585772      0.801119         0.800761   \n",
            "\n",
            "   val_f1_macro  val_precision  val_recall  time elapsed  \n",
            "0      0.793827       0.819892    0.802643    112.166269  \n",
            "1      0.791638       0.816080    0.801119    112.736795  \n",
            "----------------------------------------------------------------------\n",
            "\n",
            "\n",
            " Epoch  |  Batch  |  Train Loss  |  Val Loss  |  Val Acc  |  Elapsed \n",
            "----------------------------------------------------------------------\n",
            "   3    |   490   |   0.184818   |     -      |     -     |  101.78  \n",
            "----------------------------------------------------------------------\n",
            "   epoch  avg_train_loss  val_loss  val_accuracy  val_f1_weighted  \\\n",
            "0      0        0.541733  0.489337      0.802643         0.803201   \n",
            "1      1        0.310472  0.585772      0.801119         0.800761   \n",
            "2      2        0.184818  0.674501      0.804462         0.804636   \n",
            "\n",
            "   val_f1_macro  val_precision  val_recall  time elapsed  \n",
            "0      0.793827       0.819892    0.802643    112.166269  \n",
            "1      0.791638       0.816080    0.801119    112.736795  \n",
            "2      0.794965       0.820081    0.804462    112.738741  \n",
            "----------------------------------------------------------------------\n",
            "\n",
            "\n",
            " Epoch  |  Batch  |  Train Loss  |  Val Loss  |  Val Acc  |  Elapsed \n",
            "----------------------------------------------------------------------\n",
            "   4    |   490   |   0.119725   |     -      |     -     |  101.83  \n",
            "----------------------------------------------------------------------\n",
            "   epoch  avg_train_loss  val_loss  val_accuracy  val_f1_weighted  \\\n",
            "0      0        0.541733  0.489337      0.802643         0.803201   \n",
            "1      1        0.310472  0.585772      0.801119         0.800761   \n",
            "2      2        0.184818  0.674501      0.804462         0.804636   \n",
            "3      3        0.119725  0.898818      0.790344         0.789359   \n",
            "\n",
            "   val_f1_macro  val_precision  val_recall  time elapsed  \n",
            "0      0.793827       0.819892    0.802643    112.166269  \n",
            "1      0.791638       0.816080    0.801119    112.736795  \n",
            "2      0.794965       0.820081    0.804462    112.738741  \n",
            "3      0.779664       0.805832    0.790344    112.823950  \n",
            "----------------------------------------------------------------------\n",
            "\n",
            "\n",
            " Epoch  |  Batch  |  Train Loss  |  Val Loss  |  Val Acc  |  Elapsed \n",
            "----------------------------------------------------------------------\n",
            "   5    |   490   |   0.090616   |     -      |     -     |  101.79  \n",
            "----------------------------------------------------------------------\n",
            "   epoch  avg_train_loss  val_loss  val_accuracy  val_f1_weighted  \\\n",
            "0      0        0.541733  0.489337      0.802643         0.803201   \n",
            "1      1        0.310472  0.585772      0.801119         0.800761   \n",
            "2      2        0.184818  0.674501      0.804462         0.804636   \n",
            "3      3        0.119725  0.898818      0.790344         0.789359   \n",
            "4      4        0.090616  0.954054      0.797325         0.797457   \n",
            "\n",
            "   val_f1_macro  val_precision  val_recall  time elapsed  \n",
            "0      0.793827       0.819892    0.802643    112.166269  \n",
            "1      0.791638       0.816080    0.801119    112.736795  \n",
            "2      0.794965       0.820081    0.804462    112.738741  \n",
            "3      0.779664       0.805832    0.790344    112.823950  \n",
            "4      0.788342       0.813924    0.797325    112.775835  \n",
            "----------------------------------------------------------------------\n",
            "\n",
            "\n",
            " Epoch  |  Batch  |  Train Loss  |  Val Loss  |  Val Acc  |  Elapsed \n",
            "----------------------------------------------------------------------\n",
            "   6    |   490   |   0.060687   |     -      |     -     |  101.80  \n",
            "----------------------------------------------------------------------\n",
            "   epoch  avg_train_loss  val_loss  val_accuracy  val_f1_weighted  \\\n",
            "0      0        0.541733  0.489337      0.802643         0.803201   \n",
            "1      1        0.310472  0.585772      0.801119         0.800761   \n",
            "2      2        0.184818  0.674501      0.804462         0.804636   \n",
            "3      3        0.119725  0.898818      0.790344         0.789359   \n",
            "4      4        0.090616  0.954054      0.797325         0.797457   \n",
            "5      5        0.060687  0.993121      0.791886         0.791020   \n",
            "\n",
            "   val_f1_macro  val_precision  val_recall  time elapsed  \n",
            "0      0.793827       0.819892    0.802643    112.166269  \n",
            "1      0.791638       0.816080    0.801119    112.736795  \n",
            "2      0.794965       0.820081    0.804462    112.738741  \n",
            "3      0.779664       0.805832    0.790344    112.823950  \n",
            "4      0.788342       0.813924    0.797325    112.775835  \n",
            "5      0.781722       0.808270    0.791886    112.778695  \n",
            "----------------------------------------------------------------------\n",
            "\n",
            "\n",
            " Epoch  |  Batch  |  Train Loss  |  Val Loss  |  Val Acc  |  Elapsed \n",
            "----------------------------------------------------------------------\n",
            "   7    |   490   |   0.048200   |     -      |     -     |  101.78  \n",
            "----------------------------------------------------------------------\n",
            "   epoch  avg_train_loss  val_loss  val_accuracy  val_f1_weighted  \\\n",
            "0      0        0.541733  0.489337      0.802643         0.803201   \n",
            "1      1        0.310472  0.585772      0.801119         0.800761   \n",
            "2      2        0.184818  0.674501      0.804462         0.804636   \n",
            "3      3        0.119725  0.898818      0.790344         0.789359   \n",
            "4      4        0.090616  0.954054      0.797325         0.797457   \n",
            "5      5        0.060687  0.993121      0.791886         0.791020   \n",
            "6      6        0.048200  1.130215      0.799023         0.798168   \n",
            "\n",
            "   val_f1_macro  val_precision  val_recall  time elapsed  \n",
            "0      0.793827       0.819892    0.802643    112.166269  \n",
            "1      0.791638       0.816080    0.801119    112.736795  \n",
            "2      0.794965       0.820081    0.804462    112.738741  \n",
            "3      0.779664       0.805832    0.790344    112.823950  \n",
            "4      0.788342       0.813924    0.797325    112.775835  \n",
            "5      0.781722       0.808270    0.791886    112.778695  \n",
            "6      0.788700       0.815645    0.799023    112.744002  \n",
            "----------------------------------------------------------------------\n",
            "\n",
            "\n",
            "Early stopping at epoch 6 best epoch is 2\n",
            "Training complete!\n",
            "loading the best model of epoch 3 based on it's best accuracy 0.8044623059866962\n",
            "   epoch  avg_train_loss  val_loss  val_accuracy  val_f1_weighted  \\\n",
            "0      0        0.541733  0.489337      0.802643         0.803201   \n",
            "1      1        0.310472  0.585772      0.801119         0.800761   \n",
            "2      2        0.184818  0.674501      0.804462         0.804636   \n",
            "3      3        0.119725  0.898818      0.790344         0.789359   \n",
            "4      4        0.090616  0.954054      0.797325         0.797457   \n",
            "5      5        0.060687  0.993121      0.791886         0.791020   \n",
            "6      6        0.048200  1.130215      0.799023         0.798168   \n",
            "\n",
            "   val_f1_macro  val_precision  val_recall  time elapsed  \n",
            "0      0.793827       0.819892    0.802643    112.166269  \n",
            "1      0.791638       0.816080    0.801119    112.736795  \n",
            "2      0.794965       0.820081    0.804462    112.738741  \n",
            "3      0.779664       0.805832    0.790344    112.823950  \n",
            "4      0.788342       0.813924    0.797325    112.775835  \n",
            "5      0.781722       0.808270    0.791886    112.778695  \n",
            "6      0.788700       0.815645    0.799023    112.744002  \n"
          ]
        }
      ],
      "source": [
        "train(model= model,\n",
        "      train_dataloader = train_dataloader,\n",
        "      eval_dataloader = eval_dataloader,\n",
        "      save_dir = PY_CUSTOM_CAMEL_MIX_MODEL_DIR,\n",
        "      device = device,\n",
        "      epochs = EPOCHS,\n",
        "      checkpoint = None ,#'checkpoint-epoch-7.pt',\n",
        "      evaluation = True\n",
        "      )"
      ]
    },
    {
      "cell_type": "markdown",
      "metadata": {
        "id": "OnJ5ywAYGe13"
      },
      "source": [
        "#### Evaluating"
      ]
    },
    {
      "cell_type": "code",
      "execution_count": null,
      "metadata": {
        "colab": {
          "base_uri": "https://localhost:8080/",
          "height": 49,
          "referenced_widgets": [
            "de004e7f70fe4ba6a83e9071f1d59e85",
            "2e4ab1c6b84a4b9a832c58058c84ac23",
            "3be4ab42b63940bbbe8a8269219b67de",
            "88f8f47db53d48bb86913a65264ab041",
            "e4d6f6b88a264562a153b71abb07b65e",
            "b9b3c6a8c3a0418bb7df680318e6f689",
            "705f56440498419fa3b29f80cc35e079",
            "ea9d450d54a74c3c8624151f5142c8d3",
            "5f4ba5bc11ae42d995af4da5995b75ea",
            "30ac28ab83294141820749c0b9088008",
            "6ffda730149840a19020d17fac605989"
          ]
        },
        "id": "OXtbBujtEPRE",
        "outputId": "5b40b0ca-18ab-4f90-a89b-8c19efbdc7ea"
      },
      "outputs": [
        {
          "output_type": "display_data",
          "data": {
            "text/plain": [
              "  0%|          | 0/164 [00:00<?, ?it/s]"
            ],
            "application/vnd.jupyter.widget-view+json": {
              "version_major": 2,
              "version_minor": 0,
              "model_id": "de004e7f70fe4ba6a83e9071f1d59e85"
            }
          },
          "metadata": {}
        }
      ],
      "source": [
        "tensor , ytest = bert_predict(model, test_dataloader,device)"
      ]
    },
    {
      "cell_type": "code",
      "execution_count": null,
      "metadata": {
        "colab": {
          "base_uri": "https://localhost:8080/",
          "height": 709
        },
        "id": "mn_WKrRFGj16",
        "outputId": "7eba9a58-a5c8-47e7-9bf8-866b2d297ee6"
      },
      "outputs": [
        {
          "output_type": "display_data",
          "data": {
            "text/plain": [
              "<Figure size 800x500 with 2 Axes>"
            ],
            "image/png": "[encoded data removed]"
          },
          "metadata": {}
        },
        {
          "output_type": "stream",
          "name": "stdout",
          "text": [
            "              precision    recall  f1-score   support\n",
            "\n",
            "    positive       0.82      0.84      0.83      1800\n",
            "    negative       0.80      0.82      0.81      1800\n",
            "     neutral       0.81      0.77      0.79      1639\n",
            "\n",
            "    accuracy                           0.81      5239\n",
            "   macro avg       0.81      0.81      0.81      5239\n",
            "weighted avg       0.81      0.81      0.81      5239\n",
            "\n"
          ]
        }
      ],
      "source": [
        "print_classification_report(ytest, PY_CUSTOM_CAMEL_MIX_MODEL_DIR, 'Camel-mix_classification_report')"
      ]
    },
    {
      "cell_type": "code",
      "execution_count": null,
      "metadata": {
        "id": "dN6T0QCGaCyN"
      },
      "outputs": [],
      "source": [
        "# import os\n",
        "\n",
        "# def print_classification_report(y_pred, save_dir='./reports', title='Classification Report'):\n",
        "#   # ... (rest of your function code) ...\n",
        "\n",
        "#   # Create the directory if it doesn't exist\n",
        "#   os.makedirs(save_dir, exist_ok=True)\n",
        "\n",
        "#   report_df.to_csv(os.path.join(save_dir, title + \".csv\"))\n",
        "#   # ... (rest of your function code) ..."
      ]
    },
    {
      "cell_type": "code",
      "execution_count": null,
      "metadata": {
        "id": "okdU3LQOG2Vs",
        "colab": {
          "base_uri": "https://localhost:8080/",
          "height": 607
        },
        "outputId": "6b655eec-69a7-49bd-ebe0-bab1b4350909"
      },
      "outputs": [
        {
          "output_type": "display_data",
          "data": {
            "text/plain": [
              "<Figure size 1400x600 with 2 Axes>"
            ],
            "image/png": "[encoded data removed]"
          },
          "metadata": {}
        }
      ],
      "source": [
        "show_confusion_matrix(ytest,title = 'confusion matrix - CaMelBert Mix',save_dir=PY_CUSTOM_CAMEL_MIX_MODEL_DIR)"
      ]
    },
    {
      "cell_type": "code",
      "source": [
        "# prompt: now, write the code for print the output result of our model camelbert-da (accuracy, precision, f1score, recall)\n",
        "\n",
        "# Evaluate the model on the test set and get the performance metrics\n",
        "results_df = evaluate_test(model, test_dataloader, PY_CUSTOM_CAMEL_MIX_MODEL_DIR, device)\n",
        "\n",
        "# Print the results\n",
        "print(\"\\nPerformance Metrics for CAMEL-MIX Model:\")\n",
        "results_df\n"
      ],
      "metadata": {
        "colab": {
          "base_uri": "https://localhost:8080/"
        },
        "id": "4125Dkt2Mdkl",
        "outputId": "c98e5909-4b56-4b56-dbb5-a7045a1e2e92"
      },
      "execution_count": null,
      "outputs": [
        {
          "output_type": "stream",
          "name": "stdout",
          "text": [
            "       loss  accuracy  f1_weighted  f1_macro  precision    recall\n",
            "0  1.086519  0.807935     0.807047  0.798992   0.820132  0.807935\n",
            "\n",
            "Performance Metrics for CAMEL-MIX Model:\n"
          ]
        },
        {
          "output_type": "execute_result",
          "data": {
            "text/plain": [
              "[{'loss': np.float64(1.0865186785415906),\n",
              "  'accuracy': np.float64(0.8079351139978792),\n",
              "  'f1_weighted': np.float64(0.8070467679216178),\n",
              "  'f1_macro': np.float64(0.7989919919274155),\n",
              "  'precision': np.float64(0.82013230222107),\n",
              "  'recall': np.float64(0.8079351139978792)}]"
            ]
          },
          "metadata": {},
          "execution_count": 81
        }
      ]
    },
    {
      "cell_type": "markdown",
      "metadata": {
        "id": "9hemuWBW7HZo"
      },
      "source": [
        "###qarib"
      ]
    },
    {
      "cell_type": "code",
      "execution_count": null,
      "metadata": {
        "id": "7LrgD1kr6xh_"
      },
      "outputs": [],
      "source": [
        "# qarib_model_huggingface_checkpoint='ahmedabdelali/bert-base-qarib'"
      ]
    },
    {
      "cell_type": "code",
      "execution_count": null,
      "metadata": {
        "colab": {
          "base_uri": "https://localhost:8080/",
          "height": 81,
          "referenced_widgets": [
            "4e9e4bbd3e1d414ba42be10ab05e67ae",
            "d5e31ad32dd4488385b568b4eb4be610",
            "54d95bbc586b4499baff94aed6d4383f",
            "758f0b3f84a04afbab5d85dd8257ac1a",
            "71a6bd637ae0496caa784d3983c1eede",
            "dd741ce266eb454385c600b81d3328d9",
            "f119dc3f6bf647bfa5c5cc97bc242641",
            "0fb07c92b9b24ba9880db4b2897694db",
            "3cfcf6f7f40340b3939eb0c885139bef",
            "d13cd53cca1f4eb7bf8eba167dd66bcf",
            "67c7d0c403f74515b36a466065cfd2b9",
            "4a5f61df65d54188a933a66d69ca141a",
            "9873eff0da644e72b08953159f1e99aa",
            "cc0a62c3484741a1b7240e42158b9ede",
            "a67857149d0b46bfa3ba8bdfd93cdeac",
            "407c2a02664a4b63bf007412366dca6f",
            "1d3d2dd8add940c7974eb393af6ace54",
            "07f3062be5754e268fbcc808e23a7b16",
            "c534136db5dd4884ad135393d11af79c",
            "d48f573ea9494b83b6f4bc9156941b1e",
            "1e5568b2e7944100b47fcccc8c243906",
            "0371be8531094dd9bb795df8af0cc846"
          ]
        },
        "id": "ZYBoDbXr93vM",
        "outputId": "fd2e2b5e-ed0a-4131-c5c6-328164b98e5f"
      },
      "outputs": [
        {
          "data": {
            "application/vnd.jupyter.widget-view+json": {
              "model_id": "4e9e4bbd3e1d414ba42be10ab05e67ae",
              "version_major": 2,
              "version_minor": 0
            },
            "text/plain": [
              "config.json:   0%|          | 0.00/576 [00:00<?, ?B/s]"
            ]
          },
          "metadata": {},
          "output_type": "display_data"
        },
        {
          "data": {
            "application/vnd.jupyter.widget-view+json": {
              "model_id": "4a5f61df65d54188a933a66d69ca141a",
              "version_major": 2,
              "version_minor": 0
            },
            "text/plain": [
              "vocab.txt:   0%|          | 0.00/718k [00:00<?, ?B/s]"
            ]
          },
          "metadata": {},
          "output_type": "display_data"
        }
      ],
      "source": [
        "# tokenizer = AutoTokenizer.from_pretrained(qarib_model_huggingface_checkpoint)"
      ]
    },
    {
      "cell_type": "code",
      "execution_count": null,
      "metadata": {
        "colab": {
          "base_uri": "https://localhost:8080/",
          "height": 113,
          "referenced_widgets": [
            "89c4a51b99fa4faabe880db18dc4ddfb",
            "aa495f911ac74c83ba068a2ba748298a",
            "139537e74f2c4ffbb15155578516f9d5",
            "0729061f724b43549f963231e9a6940e",
            "952d77682e4941bcb1905ea66db4c335",
            "97f8ce17d7fd47e7ba7d953f084e286b",
            "b82771e4dcba48a99186be01e4bbb8f3",
            "5c804cfdf1ad416ca9e565ffb8acff81",
            "0ec2842125ce4d898d7a3f9d1747f070",
            "7e1fa60706e74ba6bd9939d7fd863f08",
            "5aa9a7f64def4d13b88a3a4aee5394e7",
            "7a921208cf2b47d3beba908ce7e1e2a0",
            "c19043b7fba249239361a84bcf7413b9",
            "0922b1c0b8b1437fab35221d1798cd0a",
            "94bb52a0dc664b94ad610e67e7c1e3db",
            "0449bd535cad41b18811c91756763603",
            "99af7d4068f443fca3a7bb26f42ec912",
            "37704160005e4721a24f521ff5b036b7",
            "25dddb21c5894cdb9388ef7efaaccea6",
            "aa82381668b34dd88bfcd05e01d6b90b",
            "f59b4b56fc634f85b98eb9d68849d3d0",
            "347b53986c2c49e5843d20fb6d5eb532",
            "7622d08a301a4163b2130e3fde4a7d03",
            "ca39a9000d0544fe948babeb62a900e1",
            "a51929ffc3e04565b75553c8574bfabf",
            "b6044973a87e420580ec48a45419260d",
            "f31b696e5a9a41998c9693512e44b5e8",
            "377e123c5a1f41aca7d869244acf510f",
            "7e35424792ae4fb3a66d53912b741fa4",
            "5b44ff9c109b4cb88501ad3c4e46f3d8",
            "1d7c39144a4f466c93ef8e4b98a25415",
            "63bbf50fd39b4dfbb8d90694cffdc475",
            "743e82f050334fde88264737fbf09aa0"
          ]
        },
        "id": "xzSue81A98aM",
        "outputId": "cb87d35b-8e4b-49d6-9f6d-db4370ead5e0"
      },
      "outputs": [
        {
          "data": {
            "application/vnd.jupyter.widget-view+json": {
              "model_id": "89c4a51b99fa4faabe880db18dc4ddfb",
              "version_major": 2,
              "version_minor": 0
            },
            "text/plain": [
              "  0%|          | 0/44209 [00:00<?, ?it/s]"
            ]
          },
          "metadata": {},
          "output_type": "display_data"
        },
        {
          "data": {
            "application/vnd.jupyter.widget-view+json": {
              "model_id": "7a921208cf2b47d3beba908ce7e1e2a0",
              "version_major": 2,
              "version_minor": 0
            },
            "text/plain": [
              "  0%|          | 0/11053 [00:00<?, ?it/s]"
            ]
          },
          "metadata": {},
          "output_type": "display_data"
        },
        {
          "data": {
            "application/vnd.jupyter.widget-view+json": {
              "model_id": "7622d08a301a4163b2130e3fde4a7d03",
              "version_major": 2,
              "version_minor": 0
            },
            "text/plain": [
              "  0%|          | 0/11053 [00:00<?, ?it/s]"
            ]
          },
          "metadata": {},
          "output_type": "display_data"
        }
      ],
      "source": [
        "# PY_DATA_COLLATOR = DataCollatorWithPadding(tokenizer = tokenizer)\n",
        "# train_dataloader , eval_dataloader ,test_dataloader  = data_loader(dataset,tokenizer)"
      ]
    },
    {
      "cell_type": "code",
      "execution_count": null,
      "metadata": {
        "colab": {
          "base_uri": "https://localhost:8080/"
        },
        "id": "dCWrnMTF-AZw",
        "outputId": "359e47f1-0698-42aa-9ded-26801d0c0d32"
      },
      "outputs": [
        {
          "name": "stdout",
          "output_type": "stream",
          "text": [
            "ls: cannot access '/content/drive/MyDrive/Master1/Sentiment/custom_models/qarib/py/model/checkpoint-*': No such file or directory\n"
          ]
        }
      ],
      "source": [
        "# The most recent checkpoint file will be listed at the top.\n",
        "!ls -lt {PY_CUSTOM_Qarib_MODEL_DIR}checkpoint-*"
      ]
    },
    {
      "cell_type": "code",
      "execution_count": null,
      "metadata": {
        "colab": {
          "base_uri": "https://localhost:8080/",
          "height": 431,
          "referenced_widgets": [
            "98e496774c29483b8fb3611871573b06",
            "dc1eb34c810443a29cde8ab37d315c8d",
            "b077596f2af442d8b2308c50dd2e96af",
            "25599d9eeb41408fb27e2165305e4c69",
            "2863be4f68fe49c2aa0e3f5de997cb6f",
            "2ce49e79b5f74697b96577a1ca833d41",
            "b4b379aa57f74450b284a1c9cecb1227",
            "14df8de057664362b3f9c20fa5340bfd",
            "74f7d0437b8041bea251303837959f84",
            "25cc03ab153b42ebaa3d53fa9f130058",
            "6e0aa25e4bca43e19f20e8c8edbb965d"
          ]
        },
        "id": "_fuurLfE-vMW",
        "outputId": "cadee986-c6ca-4683-c742-c4e69e17b375"
      },
      "outputs": [
        {
          "data": {
            "application/vnd.jupyter.widget-view+json": {
              "model_id": "98e496774c29483b8fb3611871573b06",
              "version_major": 2,
              "version_minor": 0
            },
            "text/plain": [
              "pytorch_model.bin:   0%|          | 0.00/543M [00:00<?, ?B/s]"
            ]
          },
          "metadata": {},
          "output_type": "display_data"
        },
        {
          "name": "stdout",
          "output_type": "stream",
          "text": [
            "There are 1 GPU(s) available.\n",
            "We will use the GPU: NVIDIA A100-SXM4-40GB\n",
            "Mon Apr 14 06:28:20 2025       \n",
            "+-----------------------------------------------------------------------------------------+\n",
            "| NVIDIA-SMI 550.54.15              Driver Version: 550.54.15      CUDA Version: 12.4     |\n",
            "|-----------------------------------------+------------------------+----------------------+\n",
            "| GPU  Name                 Persistence-M | Bus-Id          Disp.A | Volatile Uncorr. ECC |\n",
            "| Fan  Temp   Perf          Pwr:Usage/Cap |           Memory-Usage | GPU-Util  Compute M. |\n",
            "|                                         |                        |               MIG M. |\n",
            "|=========================================+========================+======================|\n",
            "|   0  NVIDIA A100-SXM4-40GB          Off |   00000000:00:04.0 Off |                    0 |\n",
            "| N/A   31C    P0             42W /  400W |       5MiB /  40960MiB |      0%      Default |\n",
            "|                                         |                        |             Disabled |\n",
            "+-----------------------------------------+------------------------+----------------------+\n",
            "                                                                                         \n",
            "+-----------------------------------------------------------------------------------------+\n",
            "| Processes:                                                                              |\n",
            "|  GPU   GI   CI        PID   Type   Process name                              GPU Memory |\n",
            "|        ID   ID                                                               Usage      |\n",
            "|=========================================================================================|\n",
            "|  No running processes found                                                             |\n",
            "+-----------------------------------------------------------------------------------------+\n"
          ]
        }
      ],
      "source": [
        "# set_seed(RANDOM_STATE)\n",
        "# model , device = initialize_model(save_dir = PY_CUSTOM_Qarib_MODEL_DIR,model_name = qarib_model_huggingface_checkpoint )"
      ]
    },
    {
      "cell_type": "code",
      "execution_count": null,
      "metadata": {
        "colab": {
          "base_uri": "https://localhost:8080/"
        },
        "id": "94cPv37I_Asv",
        "outputId": "a3143b10-15b3-4fcb-c664-07fd54675c3e"
      },
      "outputs": [
        {
          "data": {
            "text/plain": [
              "=====================================================================================\n",
              "Layer (type:depth-idx)                                       Param #\n",
              "=====================================================================================\n",
              "BertClassifier                                               --\n",
              "├─BertModel: 1-1                                             --\n",
              "│    └─BertEmbeddings: 2-1                                   --\n",
              "│    │    └─Embedding: 3-1                                   49,152,000\n",
              "│    │    └─Embedding: 3-2                                   393,216\n",
              "│    │    └─Embedding: 3-3                                   1,536\n",
              "│    │    └─LayerNorm: 3-4                                   1,536\n",
              "│    │    └─Dropout: 3-5                                     --\n",
              "│    └─BertEncoder: 2-2                                      --\n",
              "│    │    └─ModuleList: 3-6                                  85,054,464\n",
              "│    └─BertPooler: 2-3                                       --\n",
              "│    │    └─Linear: 3-7                                      590,592\n",
              "│    │    └─Tanh: 3-8                                        --\n",
              "├─Sequential: 1-2                                            --\n",
              "│    └─Linear: 2-4                                           196,864\n",
              "│    └─LeakyReLU: 2-5                                        --\n",
              "│    └─LayerNorm: 2-6                                        512\n",
              "│    └─Dropout: 2-7                                          --\n",
              "│    └─Linear: 2-8                                           32,896\n",
              "│    └─GELU: 2-9                                             --\n",
              "│    └─LayerNorm: 2-10                                       256\n",
              "│    └─Linear: 2-11                                          387\n",
              "=====================================================================================\n",
              "Total params: 135,424,259\n",
              "Trainable params: 135,424,259\n",
              "Non-trainable params: 0\n",
              "====================================================================================="
            ]
          },
          "execution_count": 80,
          "metadata": {},
          "output_type": "execute_result"
        }
      ],
      "source": [
        "# from torchinfo import summary\n",
        "# summary(model)"
      ]
    },
    {
      "cell_type": "code",
      "execution_count": null,
      "metadata": {
        "colab": {
          "base_uri": "https://localhost:8080/",
          "height": 1000,
          "referenced_widgets": [
            "6e5e7cb6060c4fb7949d30c6d30f4159",
            "f969e94b17c84241bb26c58b7a93cdc0",
            "7daef5f1746e4bd68b8c4090cc9c1a09",
            "283c22209f12431ca96e384427a0951f",
            "09186b2f84ea45a4ad2e130f4c3fff84",
            "db832e3b7ee540a48ecd690f25ec1c3c",
            "931a1def8acc48c184df36aeb99dd880",
            "ab3d28538d7c40f29bcf584ad5a55846",
            "41d97c4e476e4f998b62d284310f958b",
            "c769ded8cfc844d89c2918a25f262201",
            "ce8c268c12054a97a514fe030af78ace"
          ]
        },
        "id": "AH6Zixp1_E1j",
        "outputId": "e50c9e25-1316-4df5-89ca-534589703cb9"
      },
      "outputs": [
        {
          "name": "stdout",
          "output_type": "stream",
          "text": [
            "total steps = 1381 batches * 10 epochs = 13810 \t Batch Size 32\n"
          ]
        },
        {
          "data": {
            "application/vnd.jupyter.widget-view+json": {
              "model_id": "6e5e7cb6060c4fb7949d30c6d30f4159",
              "version_major": 2,
              "version_minor": 0
            },
            "text/plain": [
              "  0%|          | 0/13810 [00:00<?, ?it/s]"
            ]
          },
          "metadata": {},
          "output_type": "display_data"
        },
        {
          "name": "stdout",
          "output_type": "stream",
          "text": [
            "Start training...\n",
            "\n",
            " Epoch  |  Batch  |  Train Loss  |  Val Loss  |  Val Acc  |  Elapsed \n",
            "----------------------------------------------------------------------\n",
            "   1    |  1000   |   0.612079   |     -      |     -     |  101.17  \n",
            "   1    |  1380   |   0.552335   |     -      |     -     |   37.96  \n",
            "----------------------------------------------------------------------\n",
            "   epoch  avg_train_loss  val_loss  val_accuracy  val_f1_weighted  \\\n",
            "0      0        0.595639   0.53545      0.785328         0.784316   \n",
            "\n",
            "   val_f1_macro  val_precision  val_recall  time elapsed  \n",
            "0      0.776516        0.80233    0.785328    151.968023  \n",
            "----------------------------------------------------------------------\n",
            "\n",
            "\n",
            " Epoch  |  Batch  |  Train Loss  |  Val Loss  |  Val Acc  |  Elapsed \n",
            "----------------------------------------------------------------------\n",
            "   2    |  1000   |   0.350990   |     -      |     -     |  100.07  \n",
            "   2    |  1380   |   0.369467   |     -      |     -     |   37.96  \n",
            "----------------------------------------------------------------------\n",
            "   epoch  avg_train_loss  val_loss  val_accuracy  val_f1_weighted  \\\n",
            "0      0        0.595639  0.535450      0.785328         0.784316   \n",
            "1      1        0.356074  0.616235      0.788260         0.788283   \n",
            "\n",
            "   val_f1_macro  val_precision  val_recall  time elapsed  \n",
            "0      0.776516       0.802330    0.785328    151.968023  \n",
            "1      0.780771       0.804482    0.788260    150.832269  \n",
            "----------------------------------------------------------------------\n",
            "\n",
            "\n",
            " Epoch  |  Batch  |  Train Loss  |  Val Loss  |  Val Acc  |  Elapsed \n",
            "----------------------------------------------------------------------\n",
            "   3    |  1000   |   0.199475   |     -      |     -     |  100.12  \n",
            "   3    |  1380   |   0.226788   |     -      |     -     |   37.96  \n",
            "----------------------------------------------------------------------\n",
            "   epoch  avg_train_loss  val_loss  val_accuracy  val_f1_weighted  \\\n",
            "0      0        0.595639  0.535450      0.785328         0.784316   \n",
            "1      1        0.356074  0.616235      0.788260         0.788283   \n",
            "2      2        0.206991  0.713434      0.780229         0.779992   \n",
            "\n",
            "   val_f1_macro  val_precision  val_recall  time elapsed  \n",
            "0      0.776516       0.802330    0.785328    151.968023  \n",
            "1      0.780771       0.804482    0.788260    150.832269  \n",
            "2      0.772231       0.795411    0.780229    150.901054  \n",
            "----------------------------------------------------------------------\n",
            "\n",
            "\n",
            " Epoch  |  Batch  |  Train Loss  |  Val Loss  |  Val Acc  |  Elapsed \n",
            "----------------------------------------------------------------------\n",
            "   4    |  1000   |   0.142487   |     -      |     -     |  100.03  \n",
            "   4    |  1380   |   0.160456   |     -      |     -     |   37.96  \n",
            "----------------------------------------------------------------------\n",
            "   epoch  avg_train_loss  val_loss  val_accuracy  val_f1_weighted  \\\n",
            "0      0        0.595639  0.535450      0.785328         0.784316   \n",
            "1      1        0.356074  0.616235      0.788260         0.788283   \n",
            "2      2        0.206991  0.713434      0.780229         0.779992   \n",
            "3      3        0.147431  0.860746      0.777880         0.777368   \n",
            "\n",
            "   val_f1_macro  val_precision  val_recall  time elapsed  \n",
            "0      0.776516       0.802330    0.785328    151.968023  \n",
            "1      0.780771       0.804482    0.788260    150.832269  \n",
            "2      0.772231       0.795411    0.780229    150.901054  \n",
            "3      0.769958       0.792652    0.777880    150.818193  \n",
            "----------------------------------------------------------------------\n",
            "\n",
            "\n",
            " Epoch  |  Batch  |  Train Loss  |  Val Loss  |  Val Acc  |  Elapsed \n",
            "----------------------------------------------------------------------\n",
            "   5    |  1000   |   0.111175   |     -      |     -     |  100.00  \n",
            "   5    |  1380   |   0.128500   |     -      |     -     |   37.96  \n",
            "----------------------------------------------------------------------\n",
            "   epoch  avg_train_loss  val_loss  val_accuracy  val_f1_weighted  \\\n",
            "0      0        0.595639  0.535450      0.785328         0.784316   \n",
            "1      1        0.356074  0.616235      0.788260         0.788283   \n",
            "2      2        0.206991  0.713434      0.780229         0.779992   \n",
            "3      3        0.147431  0.860746      0.777880         0.777368   \n",
            "4      4        0.115942  1.074192      0.777609         0.777036   \n",
            "\n",
            "   val_f1_macro  val_precision  val_recall  time elapsed  \n",
            "0      0.776516       0.802330    0.785328    151.968023  \n",
            "1      0.780771       0.804482    0.788260    150.832269  \n",
            "2      0.772231       0.795411    0.780229    150.901054  \n",
            "3      0.769958       0.792652    0.777880    150.818193  \n",
            "4      0.770227       0.792251    0.777609    150.773437  \n",
            "----------------------------------------------------------------------\n",
            "\n",
            "\n",
            " Epoch  |  Batch  |  Train Loss  |  Val Loss  |  Val Acc  |  Elapsed \n",
            "----------------------------------------------------------------------\n",
            "   6    |  1000   |   0.088306   |     -      |     -     |  100.06  \n",
            "   6    |  1380   |   0.098625   |     -      |     -     |   37.96  \n",
            "----------------------------------------------------------------------\n",
            "   epoch  avg_train_loss  val_loss  val_accuracy  val_f1_weighted  \\\n",
            "0      0        0.595639  0.535450      0.785328         0.784316   \n",
            "1      1        0.356074  0.616235      0.788260         0.788283   \n",
            "2      2        0.206991  0.713434      0.780229         0.779992   \n",
            "3      3        0.147431  0.860746      0.777880         0.777368   \n",
            "4      4        0.115942  1.074192      0.777609         0.777036   \n",
            "5      5        0.091145  1.176190      0.779187         0.778994   \n",
            "\n",
            "   val_f1_macro  val_precision  val_recall  time elapsed  \n",
            "0      0.776516       0.802330    0.785328    151.968023  \n",
            "1      0.780771       0.804482    0.788260    150.832269  \n",
            "2      0.772231       0.795411    0.780229    150.901054  \n",
            "3      0.769958       0.792652    0.777880    150.818193  \n",
            "4      0.770227       0.792251    0.777609    150.773437  \n",
            "5      0.772106       0.794499    0.779187    150.836024  \n",
            "----------------------------------------------------------------------\n",
            "\n",
            "\n",
            "Early stopping at epoch 5 best epoch is 1\n",
            "Training complete!\n",
            "loading the best model of epoch 2 based on it's best accuracy 0.7882600600266786\n",
            "   epoch  avg_train_loss  val_loss  val_accuracy  val_f1_weighted  \\\n",
            "0      0        0.595639  0.535450      0.785328         0.784316   \n",
            "1      1        0.356074  0.616235      0.788260         0.788283   \n",
            "2      2        0.206991  0.713434      0.780229         0.779992   \n",
            "3      3        0.147431  0.860746      0.777880         0.777368   \n",
            "4      4        0.115942  1.074192      0.777609         0.777036   \n",
            "5      5        0.091145  1.176190      0.779187         0.778994   \n",
            "\n",
            "   val_f1_macro  val_precision  val_recall  time elapsed  \n",
            "0      0.776516       0.802330    0.785328    151.968023  \n",
            "1      0.780771       0.804482    0.788260    150.832269  \n",
            "2      0.772231       0.795411    0.780229    150.901054  \n",
            "3      0.769958       0.792652    0.777880    150.818193  \n",
            "4      0.770227       0.792251    0.777609    150.773437  \n",
            "5      0.772106       0.794499    0.779187    150.836024  \n"
          ]
        }
      ],
      "source": [
        "# train(model= model,\n",
        "#       train_dataloader = train_dataloader,\n",
        "#       eval_dataloader = eval_dataloader,\n",
        "#       save_dir = PY_CUSTOM_Qarib_MODEL_DIR,\n",
        "#       device = device,\n",
        "#       epochs = EPOCHS,\n",
        "#       checkpoint = None ,#'checkpoint-epoch-7.pt',\n",
        "#       evaluation = True\n",
        "#       )"
      ]
    },
    {
      "cell_type": "code",
      "execution_count": null,
      "metadata": {
        "colab": {
          "base_uri": "https://localhost:8080/",
          "height": 49,
          "referenced_widgets": [
            "1a43398a44944ba9a9ee99e83222952f",
            "5d457d5132b74131bbce209f03b4f4e2",
            "703d43eff3614d17b3356c56133c2bd0",
            "638daec9425f4e04baa033b57bb1d8c9",
            "7e16283f24b14de8a2f22d5f6e3a8624",
            "972f3fc8b0184dbfb0645ce8fb3ab949",
            "da4c5d8b875e4ee58e23d94a387daa8a",
            "ae0fb3d16556410fb1c9e455c7e22d62",
            "5ab3fa7e81f549eabe6d68deeff8c5ab",
            "cddd460136ff44319bf2e576bfeec434",
            "ebdb3851827341d2b218a21f397b9e7c"
          ]
        },
        "id": "CfknYcbx_Qjk",
        "outputId": "4b416c1a-6fc0-4aa4-a90b-1d52257e971c"
      },
      "outputs": [
        {
          "data": {
            "application/vnd.jupyter.widget-view+json": {
              "model_id": "1a43398a44944ba9a9ee99e83222952f",
              "version_major": 2,
              "version_minor": 0
            },
            "text/plain": [
              "  0%|          | 0/346 [00:00<?, ?it/s]"
            ]
          },
          "metadata": {},
          "output_type": "display_data"
        }
      ],
      "source": [
        "# tensor , ytest = bert_predict(model, test_dataloader,device)"
      ]
    },
    {
      "cell_type": "code",
      "execution_count": null,
      "metadata": {
        "colab": {
          "base_uri": "https://localhost:8080/",
          "height": 709
        },
        "id": "wQZlHOEo_SZx",
        "outputId": "b6ce3a0c-53e1-49ff-b75f-db68f9d5f805"
      },
      "outputs": [
        {
          "data": {
            "image/png": "[encoded data removed]",
            "text/plain": [
              "<Figure size 800x500 with 2 Axes>"
            ]
          },
          "metadata": {},
          "output_type": "display_data"
        },
        {
          "name": "stdout",
          "output_type": "stream",
          "text": [
            "              precision    recall  f1-score   support\n",
            "\n",
            "    positive       0.80      0.79      0.79      3500\n",
            "    negative       0.79      0.79      0.79      3712\n",
            "     neutral       0.77      0.77      0.77      3841\n",
            "\n",
            "    accuracy                           0.79     11053\n",
            "   macro avg       0.79      0.79      0.79     11053\n",
            "weighted avg       0.79      0.79      0.79     11053\n",
            "\n"
          ]
        }
      ],
      "source": [
        "# print_classification_report(ytest, PY_CUSTOM_Qarib_MODEL_DIR, 'Qarib_classification_report')\n",
        "\n"
      ]
    },
    {
      "cell_type": "code",
      "execution_count": null,
      "metadata": {
        "colab": {
          "base_uri": "https://localhost:8080/",
          "height": 525
        },
        "id": "-3aRSjxn_UFr",
        "outputId": "1db0f78b-fe3b-4e61-f664-e8e2b56b7154"
      },
      "outputs": [
        {
          "data": {
            "image/png": "[encoded data removed]",
            "text/plain": [
              "<Figure size 1400x600 with 2 Axes>"
            ]
          },
          "metadata": {},
          "output_type": "display_data"
        }
      ],
      "source": [
        "# show_confusion_matrix(ytest,title = 'confusion matrix -  Qarib',save_dir=PY_CUSTOM_Qarib_MODEL_DIR)"
      ]
    },
    {
      "cell_type": "markdown",
      "metadata": {
        "id": "yZhjja1uMayD"
      },
      "source": [
        "###Giga_bert"
      ]
    },
    {
      "cell_type": "code",
      "execution_count": null,
      "metadata": {
        "id": "Lx_L1HV4FFf9"
      },
      "outputs": [],
      "source": [
        "# Giga_bert_model_huggingface_checkpoint='lanwuwei/GigaBERT-v3-Arabic-and-English'"
      ]
    },
    {
      "cell_type": "code",
      "execution_count": null,
      "metadata": {
        "colab": {
          "base_uri": "https://localhost:8080/",
          "height": 113,
          "referenced_widgets": [
            "04a3aa4fed794a1199f45ee61ee1199e",
            "36298d8003734d709ff1f70d1148b80d",
            "10b791396d4245afa27aab3b5e6ba69f",
            "0790627db6e9454a8f04c87ff5a041e2",
            "5bb624d2e574489d8477e7afa4b97e51",
            "64807fc641e44d0d83cf48a1091c5bed",
            "455578636c674a5293cc254bb9185136",
            "6d3a88e75b3048239b53752e40cb41e8",
            "9d024084e51147c5966b17b3e143e494",
            "0a2c204d61c74456aab32259079373c3",
            "0686dce4c76d4fe7a6e512083e337713",
            "8755541a5a554faf9c7ac6ec08109a80",
            "e0174aa14cac4725bbd42aba5cd5369d",
            "d5acb075b33849999efa323e206f6b3a",
            "2d2dd44e784343858cee574fff0cc10e",
            "e7ca5ba03ba44b338cc5426af01c76e2",
            "ba6215bd775f4788a1c3cabc4fd358fb",
            "5cf31c31cb7941e4a7bb77f7b6c842b5",
            "5c4a5f56da434d048eefd7c4e73ee1a9",
            "42e4587a9ff24d7b921fd8d0d4ad3237",
            "ec510d12b3674e9885367134409ce25d",
            "fb0f4bd2f66e464096f2c88149db13f0",
            "dc5bf639b819460a8c37c777d4c9952a",
            "0783868911d64f3db18e9a52e4df2549",
            "441b9e41d7ed4ccbab92bf9da77f2c7f",
            "5da5dfc8cd25461ea6da06adef38166c",
            "b5ed72f2de8c44a3900dd5885204768b",
            "50a282d9f6294f21b6a02e1bee605d17",
            "40f6b591932b4e6dbc413132b27bdf37",
            "249f51b66b6a432c9394035d6f1f9501",
            "38c57f19812d40b485744c937022cd56",
            "6205ec5d75294e0980d7a89d32e7c7e3",
            "b786aaa0cef346bbbb5a9e00f439b763"
          ]
        },
        "id": "ZCFrfNlSFQY9",
        "outputId": "0998131a-b1cc-4b1a-c264-8436c2a64665"
      },
      "outputs": [
        {
          "data": {
            "application/vnd.jupyter.widget-view+json": {
              "model_id": "04a3aa4fed794a1199f45ee61ee1199e",
              "version_major": 2,
              "version_minor": 0
            },
            "text/plain": [
              "tokenizer_config.json:   0%|          | 0.00/24.0 [00:00<?, ?B/s]"
            ]
          },
          "metadata": {},
          "output_type": "display_data"
        },
        {
          "data": {
            "application/vnd.jupyter.widget-view+json": {
              "model_id": "8755541a5a554faf9c7ac6ec08109a80",
              "version_major": 2,
              "version_minor": 0
            },
            "text/plain": [
              "vocab.txt:   0%|          | 0.00/458k [00:00<?, ?B/s]"
            ]
          },
          "metadata": {},
          "output_type": "display_data"
        },
        {
          "data": {
            "application/vnd.jupyter.widget-view+json": {
              "model_id": "dc5bf639b819460a8c37c777d4c9952a",
              "version_major": 2,
              "version_minor": 0
            },
            "text/plain": [
              "special_tokens_map.json:   0%|          | 0.00/157 [00:00<?, ?B/s]"
            ]
          },
          "metadata": {},
          "output_type": "display_data"
        }
      ],
      "source": [
        "# tokenizer = AutoTokenizer.from_pretrained(Giga_bert_model_huggingface_checkpoint)"
      ]
    },
    {
      "cell_type": "code",
      "execution_count": null,
      "metadata": {
        "colab": {
          "base_uri": "https://localhost:8080/",
          "height": 113,
          "referenced_widgets": [
            "af8a3a4d12a849b68b35399d9e739f4e",
            "9caccd41b100475fbdb054bde0ec1d69",
            "724399c91b07425fa67e9809bc7e143b",
            "88634630dbe649f7aa4de38d34623c54",
            "1c48679f1a5c4b22bfa6e2f6e9ac07f8",
            "e8818000870940c5ac0ddc578fb7fd28",
            "5ad6b8ef88fa4edd94e9a0e3e96bfe54",
            "5f61035c7fd846d4bbaab9979a2053da",
            "dcc794f2d8d94cef895d978595f61cd4",
            "8a5ed8f4b705418181d0e11dcbbdce1e",
            "b98e87a48e0a4e0088f22c32b0ba4ca9",
            "7bd31135eba54749b8c7672158b3e294",
            "920227d850ec406388d4b602ff60b450",
            "04149ecae81a496ba2bc1eb85f193739",
            "f6d28e504a904339905cb1628bb16578",
            "f5f063d32c924713b24f960e74f8fc54",
            "bf6dde615c7c45c9a132f8627a4787b8",
            "718dabf5d4ec43c1800de536bb8ae2fe",
            "a29793f99ddc4c01a3b904e3a027ffe7",
            "e87a6f815e8b4b558532ad515562e5ab",
            "1bae9157e86942ada7c4184a0efcebe8",
            "d974103cedbe4adcac27a9e8bcd37549",
            "eb5f9ab1e5724bda922f4d8739d27b13",
            "1698fbcc2131417c9a340b090b6e70c0",
            "50c5fdcea37b4e4b801278c7f631a533",
            "f782a35aad8c46559d26103dd35178aa",
            "43371bc95d90459db4d72b61d210f0f8",
            "563a623559f54b86a2ed38f1f9f23d65",
            "524e92ae038c4438a16addfabf84d675",
            "d30c8b950f224bebadefec739fc649ca",
            "c97b3bd000734f10bfb739c8f6cbfec0",
            "5d938e3841da4c36ab1cfc55713eb17c",
            "2dd1ec5b82324b1aad76e240c3583e1d"
          ]
        },
        "id": "i-SY_SuNFS2Z",
        "outputId": "cff9ee34-a36f-4f7c-aa43-85d0d25613eb"
      },
      "outputs": [
        {
          "data": {
            "application/vnd.jupyter.widget-view+json": {
              "model_id": "af8a3a4d12a849b68b35399d9e739f4e",
              "version_major": 2,
              "version_minor": 0
            },
            "text/plain": [
              "  0%|          | 0/44209 [00:00<?, ?it/s]"
            ]
          },
          "metadata": {},
          "output_type": "display_data"
        },
        {
          "data": {
            "application/vnd.jupyter.widget-view+json": {
              "model_id": "7bd31135eba54749b8c7672158b3e294",
              "version_major": 2,
              "version_minor": 0
            },
            "text/plain": [
              "  0%|          | 0/11053 [00:00<?, ?it/s]"
            ]
          },
          "metadata": {},
          "output_type": "display_data"
        },
        {
          "data": {
            "application/vnd.jupyter.widget-view+json": {
              "model_id": "eb5f9ab1e5724bda922f4d8739d27b13",
              "version_major": 2,
              "version_minor": 0
            },
            "text/plain": [
              "  0%|          | 0/11053 [00:00<?, ?it/s]"
            ]
          },
          "metadata": {},
          "output_type": "display_data"
        }
      ],
      "source": [
        "# PY_DATA_COLLATOR = DataCollatorWithPadding(tokenizer = tokenizer)\n",
        "# train_dataloader , eval_dataloader ,test_dataloader  = data_loader(dataset,tokenizer)"
      ]
    },
    {
      "cell_type": "code",
      "execution_count": null,
      "metadata": {
        "colab": {
          "base_uri": "https://localhost:8080/"
        },
        "id": "P0tS49R4FVA2",
        "outputId": "74494278-ee51-41f3-f38c-a803d4a21a17"
      },
      "outputs": [
        {
          "name": "stdout",
          "output_type": "stream",
          "text": [
            "ls: cannot access '/content/drive/MyDrive/Master1/Sentiment/custom_models/gigabert/py/model/checkpoint-*': No such file or directory\n"
          ]
        }
      ],
      "source": [
        "# # The most recent checkpoint file will be listed at the top.\n",
        "# !ls -lt {PY_CUSTOM_Giga_bert_MODEL_DIR}checkpoint-*"
      ]
    },
    {
      "cell_type": "code",
      "execution_count": null,
      "metadata": {
        "colab": {
          "base_uri": "https://localhost:8080/"
        },
        "id": "9mU38LhuFuKp",
        "outputId": "2dad52ee-752e-4964-960f-5671c0acb1da"
      },
      "outputs": [
        {
          "name": "stderr",
          "output_type": "stream",
          "text": [
            "Some weights of the model checkpoint at lanwuwei/GigaBERT-v3-Arabic-and-English were not used when initializing BertModel: ['cls.predictions.bias', 'cls.predictions.decoder.weight', 'cls.predictions.transform.LayerNorm.bias', 'cls.predictions.transform.LayerNorm.weight', 'cls.predictions.transform.dense.bias', 'cls.predictions.transform.dense.weight', 'cls.seq_relationship.bias', 'cls.seq_relationship.weight']\n",
            "- This IS expected if you are initializing BertModel from the checkpoint of a model trained on another task or with another architecture (e.g. initializing a BertForSequenceClassification model from a BertForPreTraining model).\n",
            "- This IS NOT expected if you are initializing BertModel from the checkpoint of a model that you expect to be exactly identical (initializing a BertForSequenceClassification model from a BertForSequenceClassification model).\n"
          ]
        },
        {
          "name": "stdout",
          "output_type": "stream",
          "text": [
            "There are 1 GPU(s) available.\n",
            "We will use the GPU: NVIDIA A100-SXM4-40GB\n",
            "Mon Apr 14 13:35:30 2025       \n",
            "+-----------------------------------------------------------------------------------------+\n",
            "| NVIDIA-SMI 550.54.15              Driver Version: 550.54.15      CUDA Version: 12.4     |\n",
            "|-----------------------------------------+------------------------+----------------------+\n",
            "| GPU  Name                 Persistence-M | Bus-Id          Disp.A | Volatile Uncorr. ECC |\n",
            "| Fan  Temp   Perf          Pwr:Usage/Cap |           Memory-Usage | GPU-Util  Compute M. |\n",
            "|                                         |                        |               MIG M. |\n",
            "|=========================================+========================+======================|\n",
            "|   0  NVIDIA A100-SXM4-40GB          Off |   00000000:00:04.0 Off |                    0 |\n",
            "| N/A   29C    P0             48W /  400W |    6123MiB /  40960MiB |      0%      Default |\n",
            "|                                         |                        |             Disabled |\n",
            "+-----------------------------------------+------------------------+----------------------+\n",
            "                                                                                         \n",
            "+-----------------------------------------------------------------------------------------+\n",
            "| Processes:                                                                              |\n",
            "|  GPU   GI   CI        PID   Type   Process name                              GPU Memory |\n",
            "|        ID   ID                                                               Usage      |\n",
            "|=========================================================================================|\n",
            "+-----------------------------------------------------------------------------------------+\n"
          ]
        }
      ],
      "source": [
        "# set_seed(RANDOM_STATE)\n",
        "# model , device = initialize_model(save_dir = PY_CUSTOM_Giga_bert_MODEL_DIR,model_name = Giga_bert_model_huggingface_checkpoint )"
      ]
    },
    {
      "cell_type": "code",
      "execution_count": null,
      "metadata": {
        "colab": {
          "base_uri": "https://localhost:8080/",
          "height": 1000,
          "referenced_widgets": [
            "cfbf65716899403d864baced1bacba6d",
            "5ac12ea708924941a6b76df0d9e306f4",
            "fd4d127e47dc4c46a2126c3ba20d505b",
            "7701e13730434e17b6221740c27a419d",
            "a9d30506dd7e46c4b9fd701fcb566965",
            "f559e480e4674cf8a8f02624bcf8b2f7",
            "7b4f43ecabf947ee8ab635e5d4f7573c",
            "b4d6c8ce2b5249d3bf9b7db76b2cb85e",
            "6d070bce6b6649188710691719edecb0",
            "397dfedc07a549429caeb90bf80ab01d",
            "346825a17d0a45e5bf942a00b2467834"
          ]
        },
        "id": "CwsTGpATF4Q0",
        "outputId": "4fbe1db7-c25a-44cf-cf10-b416156d0791"
      },
      "outputs": [
        {
          "name": "stdout",
          "output_type": "stream",
          "text": [
            "total steps = 1381 batches * 10 epochs = 13810 \t Batch Size 32\n"
          ]
        },
        {
          "data": {
            "application/vnd.jupyter.widget-view+json": {
              "model_id": "cfbf65716899403d864baced1bacba6d",
              "version_major": 2,
              "version_minor": 0
            },
            "text/plain": [
              "  0%|          | 0/13810 [00:00<?, ?it/s]"
            ]
          },
          "metadata": {},
          "output_type": "display_data"
        },
        {
          "name": "stdout",
          "output_type": "stream",
          "text": [
            "Start training...\n",
            "\n",
            " Epoch  |  Batch  |  Train Loss  |  Val Loss  |  Val Acc  |  Elapsed \n",
            "----------------------------------------------------------------------\n",
            "   1    |  1000   |   0.675319   |     -      |     -     |  100.05  \n",
            "   1    |  1380   |   0.595370   |     -      |     -     |   37.95  \n",
            "----------------------------------------------------------------------\n",
            "   epoch  avg_train_loss  val_loss  val_accuracy  val_f1_weighted  \\\n",
            "0      0         0.65332  0.579273      0.759817         0.757378   \n",
            "\n",
            "   val_f1_macro  val_precision  val_recall  time elapsed  \n",
            "0      0.750018       0.784837    0.759817    150.979016  \n",
            "----------------------------------------------------------------------\n",
            "\n",
            "\n",
            " Epoch  |  Batch  |  Train Loss  |  Val Loss  |  Val Acc  |  Elapsed \n",
            "----------------------------------------------------------------------\n",
            "   2    |  1000   |   0.461008   |     -      |     -     |   99.72  \n",
            "   2    |  1380   |   0.469184   |     -      |     -     |   37.84  \n",
            "----------------------------------------------------------------------\n",
            "   epoch  avg_train_loss  val_loss  val_accuracy  val_f1_weighted  \\\n",
            "0      0        0.653320  0.579273      0.759817         0.757378   \n",
            "1      1        0.463257  0.623507      0.766994         0.766031   \n",
            "\n",
            "   val_f1_macro  val_precision  val_recall  time elapsed  \n",
            "0      0.750018       0.784837    0.759817    150.979016  \n",
            "1      0.758172       0.786399    0.766994    150.484726  \n",
            "----------------------------------------------------------------------\n",
            "\n",
            "\n",
            " Epoch  |  Batch  |  Train Loss  |  Val Loss  |  Val Acc  |  Elapsed \n",
            "----------------------------------------------------------------------\n",
            "   3    |  1000   |   0.307962   |     -      |     -     |   99.74  \n",
            "   3    |  1380   |   0.331051   |     -      |     -     |   37.86  \n",
            "----------------------------------------------------------------------\n",
            "   epoch  avg_train_loss  val_loss  val_accuracy  val_f1_weighted  \\\n",
            "0      0        0.653320  0.579273      0.759817         0.757378   \n",
            "1      1        0.463257  0.623507      0.766994         0.766031   \n",
            "2      2        0.314315  0.682091      0.773226         0.772924   \n",
            "\n",
            "   val_f1_macro  val_precision  val_recall  time elapsed  \n",
            "0      0.750018       0.784837    0.759817    150.979016  \n",
            "1      0.758172       0.786399    0.766994    150.484726  \n",
            "2      0.765950       0.788822    0.773226    150.558982  \n",
            "----------------------------------------------------------------------\n",
            "\n",
            "\n",
            " Epoch  |  Batch  |  Train Loss  |  Val Loss  |  Val Acc  |  Elapsed \n",
            "----------------------------------------------------------------------\n",
            "   4    |  1000   |   0.209092   |     -      |     -     |   99.81  \n",
            "   4    |  1380   |   0.228903   |     -      |     -     |   37.85  \n",
            "----------------------------------------------------------------------\n",
            "   epoch  avg_train_loss  val_loss  val_accuracy  val_f1_weighted  \\\n",
            "0      0        0.653320  0.579273      0.759817         0.757378   \n",
            "1      1        0.463257  0.623507      0.766994         0.766031   \n",
            "2      2        0.314315  0.682091      0.773226         0.772924   \n",
            "3      3        0.214543  0.767662      0.769161         0.768846   \n",
            "\n",
            "   val_f1_macro  val_precision  val_recall  time elapsed  \n",
            "0      0.750018       0.784837    0.759817    150.979016  \n",
            "1      0.758172       0.786399    0.766994    150.484726  \n",
            "2      0.765950       0.788822    0.773226    150.558982  \n",
            "3      0.761024       0.786063    0.769161    150.664855  \n",
            "----------------------------------------------------------------------\n",
            "\n",
            "\n",
            " Epoch  |  Batch  |  Train Loss  |  Val Loss  |  Val Acc  |  Elapsed \n",
            "----------------------------------------------------------------------\n",
            "   5    |  1000   |   0.154795   |     -      |     -     |   99.70  \n",
            "   5    |  1380   |   0.162029   |     -      |     -     |   37.80  \n",
            "----------------------------------------------------------------------\n",
            "   epoch  avg_train_loss  val_loss  val_accuracy  val_f1_weighted  \\\n",
            "0      0        0.653320  0.579273      0.759817         0.757378   \n",
            "1      1        0.463257  0.623507      0.766994         0.766031   \n",
            "2      2        0.314315  0.682091      0.773226         0.772924   \n",
            "3      3        0.214543  0.767662      0.769161         0.768846   \n",
            "4      4        0.156786  0.948500      0.766632         0.766758   \n",
            "\n",
            "   val_f1_macro  val_precision  val_recall  time elapsed  \n",
            "0      0.750018       0.784837    0.759817    150.979016  \n",
            "1      0.758172       0.786399    0.766994    150.484726  \n",
            "2      0.765950       0.788822    0.773226    150.558982  \n",
            "3      0.761024       0.786063    0.769161    150.664855  \n",
            "4      0.758841       0.783635    0.766632    150.434098  \n",
            "----------------------------------------------------------------------\n",
            "\n",
            "\n",
            " Epoch  |  Batch  |  Train Loss  |  Val Loss  |  Val Acc  |  Elapsed \n",
            "----------------------------------------------------------------------\n",
            "   6    |  1000   |   0.123046   |     -      |     -     |   99.59  \n",
            "   6    |  1380   |   0.135453   |     -      |     -     |   37.80  \n",
            "----------------------------------------------------------------------\n",
            "   epoch  avg_train_loss  val_loss  val_accuracy  val_f1_weighted  \\\n",
            "0      0        0.653320  0.579273      0.759817         0.757378   \n",
            "1      1        0.463257  0.623507      0.766994         0.766031   \n",
            "2      2        0.314315  0.682091      0.773226         0.772924   \n",
            "3      3        0.214543  0.767662      0.769161         0.768846   \n",
            "4      4        0.156786  0.948500      0.766632         0.766758   \n",
            "5      5        0.126460  1.017541      0.766229         0.765776   \n",
            "\n",
            "   val_f1_macro  val_precision  val_recall  time elapsed  \n",
            "0      0.750018       0.784837    0.759817    150.979016  \n",
            "1      0.758172       0.786399    0.766994    150.484726  \n",
            "2      0.765950       0.788822    0.773226    150.558982  \n",
            "3      0.761024       0.786063    0.769161    150.664855  \n",
            "4      0.758841       0.783635    0.766632    150.434098  \n",
            "5      0.758807       0.782932    0.766229    150.354153  \n",
            "----------------------------------------------------------------------\n",
            "\n",
            "\n",
            " Epoch  |  Batch  |  Train Loss  |  Val Loss  |  Val Acc  |  Elapsed \n",
            "----------------------------------------------------------------------\n",
            "   7    |  1000   |   0.097721   |     -      |     -     |   99.61  \n",
            "   7    |  1380   |   0.099178   |     -      |     -     |   37.82  \n",
            "----------------------------------------------------------------------\n",
            "   epoch  avg_train_loss  val_loss  val_accuracy  val_f1_weighted  \\\n",
            "0      0        0.653320  0.579273      0.759817         0.757378   \n",
            "1      1        0.463257  0.623507      0.766994         0.766031   \n",
            "2      2        0.314315  0.682091      0.773226         0.772924   \n",
            "3      3        0.214543  0.767662      0.769161         0.768846   \n",
            "4      4        0.156786  0.948500      0.766632         0.766758   \n",
            "5      5        0.126460  1.017541      0.766229         0.765776   \n",
            "6      6        0.098122  1.187563      0.766549         0.766370   \n",
            "\n",
            "   val_f1_macro  val_precision  val_recall  time elapsed  \n",
            "0      0.750018       0.784837    0.759817    150.979016  \n",
            "1      0.758172       0.786399    0.766994    150.484726  \n",
            "2      0.765950       0.788822    0.773226    150.558982  \n",
            "3      0.761024       0.786063    0.769161    150.664855  \n",
            "4      0.758841       0.783635    0.766632    150.434098  \n",
            "5      0.758807       0.782932    0.766229    150.354153  \n",
            "6      0.758773       0.783497    0.766549    150.354591  \n",
            "----------------------------------------------------------------------\n",
            "\n",
            "\n",
            "Early stopping at epoch 6 best epoch is 2\n",
            "Training complete!\n",
            "loading the best model of epoch 3 based on it's best accuracy 0.7732256002667852\n",
            "   epoch  avg_train_loss  val_loss  val_accuracy  val_f1_weighted  \\\n",
            "0      0        0.653320  0.579273      0.759817         0.757378   \n",
            "1      1        0.463257  0.623507      0.766994         0.766031   \n",
            "2      2        0.314315  0.682091      0.773226         0.772924   \n",
            "3      3        0.214543  0.767662      0.769161         0.768846   \n",
            "4      4        0.156786  0.948500      0.766632         0.766758   \n",
            "5      5        0.126460  1.017541      0.766229         0.765776   \n",
            "6      6        0.098122  1.187563      0.766549         0.766370   \n",
            "\n",
            "   val_f1_macro  val_precision  val_recall  time elapsed  \n",
            "0      0.750018       0.784837    0.759817    150.979016  \n",
            "1      0.758172       0.786399    0.766994    150.484726  \n",
            "2      0.765950       0.788822    0.773226    150.558982  \n",
            "3      0.761024       0.786063    0.769161    150.664855  \n",
            "4      0.758841       0.783635    0.766632    150.434098  \n",
            "5      0.758807       0.782932    0.766229    150.354153  \n",
            "6      0.758773       0.783497    0.766549    150.354591  \n"
          ]
        }
      ],
      "source": [
        "# train(model= model,\n",
        "#       train_dataloader = train_dataloader,\n",
        "#       eval_dataloader = eval_dataloader,\n",
        "#       save_dir = PY_CUSTOM_Arab_bert2_MODEL_DIR,\n",
        "#       device = device,\n",
        "#       epochs = EPOCHS,\n",
        "#       checkpoint = None ,#'checkpoint-epoch-7.pt',\n",
        "#       evaluation = True\n",
        "#       )"
      ]
    },
    {
      "cell_type": "code",
      "execution_count": null,
      "metadata": {
        "colab": {
          "base_uri": "https://localhost:8080/",
          "height": 49,
          "referenced_widgets": [
            "57b10e555a20441bbe152fb12fe8f860",
            "2aa776938e3e4091b8e77ef7bcd29fcb",
            "1e003672576d46389cca7df68526ae3f",
            "d99757ba9daa4347a01d82e4dfd56205",
            "20abcbf38a9d429eadc584c5d03f969f",
            "98bf637a5f9e490687475db1874cc2fc",
            "de7c12b723fe40a58f67e03147a9959d",
            "78f579f868c84ddfbacd355ffc984b9a",
            "62b6ce6a1f4b40ca803028e0f7697d1b",
            "8a0c1095ee8f4bd6975e921f0992ab73",
            "fcf4503caeae45c09e2f1ae74cbe1720"
          ]
        },
        "id": "ni-dyE4CF7V1",
        "outputId": "8e19ea00-db33-4050-e1dc-973829818090"
      },
      "outputs": [
        {
          "data": {
            "application/vnd.jupyter.widget-view+json": {
              "model_id": "57b10e555a20441bbe152fb12fe8f860",
              "version_major": 2,
              "version_minor": 0
            },
            "text/plain": [
              "  0%|          | 0/346 [00:00<?, ?it/s]"
            ]
          },
          "metadata": {},
          "output_type": "display_data"
        }
      ],
      "source": [
        "# tensor , ytest = bert_predict(model, test_dataloader,device)"
      ]
    },
    {
      "cell_type": "code",
      "execution_count": null,
      "metadata": {
        "colab": {
          "base_uri": "https://localhost:8080/",
          "height": 709
        },
        "id": "FB3V5xCaF81T",
        "outputId": "056df0c4-1a70-440b-9d09-35631710fc0f"
      },
      "outputs": [
        {
          "data": {
            "image/png": "[encoded data removed]",
            "text/plain": [
              "<Figure size 800x500 with 2 Axes>"
            ]
          },
          "metadata": {},
          "output_type": "display_data"
        },
        {
          "name": "stdout",
          "output_type": "stream",
          "text": [
            "              precision    recall  f1-score   support\n",
            "\n",
            "    positive       0.76      0.79      0.78      3500\n",
            "    negative       0.78      0.75      0.76      3712\n",
            "     neutral       0.76      0.76      0.76      3841\n",
            "\n",
            "    accuracy                           0.77     11053\n",
            "   macro avg       0.77      0.77      0.77     11053\n",
            "weighted avg       0.77      0.77      0.77     11053\n",
            "\n"
          ]
        }
      ],
      "source": [
        "# print_classification_report(ytest, PY_CUSTOM_Giga_bert_MODEL_DIR, 'Qarib_classification_report')\n"
      ]
    },
    {
      "cell_type": "code",
      "execution_count": null,
      "metadata": {
        "colab": {
          "base_uri": "https://localhost:8080/"
        },
        "id": "t1OGoWmrF2xR",
        "outputId": "b1b7215b-3b50-4e96-8f57-ad51a9442039"
      },
      "outputs": [
        {
          "data": {
            "text/plain": [
              "=====================================================================================\n",
              "Layer (type:depth-idx)                                       Param #\n",
              "=====================================================================================\n",
              "BertClassifier                                               --\n",
              "├─BertModel: 1-1                                             --\n",
              "│    └─BertEmbeddings: 2-1                                   --\n",
              "│    │    └─Embedding: 3-1                                   38,400,000\n",
              "│    │    └─Embedding: 3-2                                   393,216\n",
              "│    │    └─Embedding: 3-3                                   1,536\n",
              "│    │    └─LayerNorm: 3-4                                   1,536\n",
              "│    │    └─Dropout: 3-5                                     --\n",
              "│    └─BertEncoder: 2-2                                      --\n",
              "│    │    └─ModuleList: 3-6                                  85,054,464\n",
              "│    └─BertPooler: 2-3                                       --\n",
              "│    │    └─Linear: 3-7                                      590,592\n",
              "│    │    └─Tanh: 3-8                                        --\n",
              "├─Sequential: 1-2                                            --\n",
              "│    └─Linear: 2-4                                           196,864\n",
              "│    └─LeakyReLU: 2-5                                        --\n",
              "│    └─LayerNorm: 2-6                                        512\n",
              "│    └─Dropout: 2-7                                          --\n",
              "│    └─Linear: 2-8                                           32,896\n",
              "│    └─GELU: 2-9                                             --\n",
              "│    └─LayerNorm: 2-10                                       256\n",
              "│    └─Linear: 2-11                                          387\n",
              "=====================================================================================\n",
              "Total params: 124,672,259\n",
              "Trainable params: 124,672,259\n",
              "Non-trainable params: 0\n",
              "====================================================================================="
            ]
          },
          "execution_count": 77,
          "metadata": {},
          "output_type": "execute_result"
        }
      ],
      "source": [
        "# from torchinfo import summary\n",
        "# summary(model)"
      ]
    },
    {
      "cell_type": "markdown",
      "metadata": {
        "id": "1zAuDdxGfRLb"
      },
      "source": [
        "### ALANZI/imamu_arabic_sentimentAnalysis\n",
        "\n",
        "> تم بناء هذا النموذج باستخدام مجموعة بيانات عربيه مصنفه الى ثلاث تصنيفات ( ايجابي ، محايد ، سلبي ) حيث يحتوي كل تصنيف على 30646 نص .\n",
        "\n",
        "> - دقة النموذج ٨٤%\n",
        "\n",
        "\n"
      ]
    },
    {
      "cell_type": "code",
      "execution_count": null,
      "metadata": {
        "id": "rnmCgGLlfRL1"
      },
      "outputs": [],
      "source": [
        "ALANZI_model_huggingface_checkpoint='ALANZI/imamu_arabic_sentimentAnalysis'"
      ]
    },
    {
      "cell_type": "markdown",
      "metadata": {
        "id": "We-OAGwHfRL1"
      },
      "source": [
        "#### ALANZI/imamu_arabic_sentimentAnalysis Subword Tokenization"
      ]
    },
    {
      "cell_type": "code",
      "execution_count": null,
      "metadata": {
        "id": "DwuOPatFfRL2",
        "colab": {
          "base_uri": "https://localhost:8080/",
          "height": 145,
          "referenced_widgets": [
            "617fee8e9ede4d579b00c07cffa7adc6",
            "eb7e6791cd57447c97699bcf42190006",
            "0f1651ff4c6c4ecd83412e69368e0df9",
            "11a356ff86ed4a4c8d4837a02f4a09af",
            "c3668919efa1474194aebea72b7ea0ae",
            "d166e2667a3a4db5a76c9262d428c4db",
            "03100d55eac94a7aaf2c710d0c7f0900",
            "3eeb2a1e5b254856be421f27c9c2c15a",
            "d24b4eb5b0d44e2cb350e120fc620461",
            "9bddea289a0a4d9abbfcee160e7d9fed",
            "98ae362b7c924a04bff969fdc0971265",
            "dccf7492988a4614bb43f4d041ffd779",
            "b037e432501d4ece9d3f39229e9e4f6c",
            "4849f15d2fb94b649a1e5bcafc8705ad",
            "2fdd8b313f6d4a7d840a15820b991e09",
            "d2791f5b7669454386c1c4f0dce2d625",
            "c3ea0fc00cbe4ff480c6a7ceebf65ce7",
            "47fa44c014784de0a4f9fa9b7e27fa4c",
            "4ca970ead3df4b5d9ca6f30acd7b21f4",
            "aa55e7f2a1d743958cf90a50aeac6c1f",
            "fbc83792965748f0923e3436b5f19814",
            "8258cd14c22f4650875206dca4747a7b",
            "3f3cc4396826490f99e0eced4f0f3a07",
            "31d383258ccf4b95bdd3ed9b42f80bb7",
            "8b7fd703dc1d42ba9b856cfcf7d6be45",
            "b67132ceeaba478980b16e40efb3ae1c",
            "1394416efa774e689f182ea2cf6bbba7",
            "48c05b8407cf45e88c02325c1301c124",
            "81d3bbb71cec45b18ca8b83ed6b106af",
            "0be32fa3ee994226a45beca6dbe06333",
            "b6bd777ae38e41b1854f80167079aa3f",
            "d8e43d2c868b48e1bb6b1c917c8fb999",
            "da55aa6c45ef4afd91cd3eacc6583411",
            "f77ec9c8fbcf4bcab07c5c3debdb6239",
            "2387199c18c545c880a6988e7f494a79",
            "0ba0a43c09e447f0ba0c8bacb14019ea",
            "3af2592992d3451b9ef9d0d0f72dd353",
            "714c50f97eea417983fd35dc24b9394d",
            "ad553c8c75a44ac5a2a5e954907808ad",
            "f487facdbbed423394ef19f62e7525b0",
            "67c0ceb7b29447be872a5809cd791fd0",
            "b3019cd1c22f4f0284cb931b60267df0",
            "c82c814fc76a43b39e20ae39966499a0",
            "82b38523cc1449b28e4e1d7ddd8735b4"
          ]
        },
        "outputId": "8d7ed052-24bd-4c0a-9f41-f240dbf0e2b4"
      },
      "outputs": [
        {
          "output_type": "display_data",
          "data": {
            "text/plain": [
              "tokenizer_config.json:   0%|          | 0.00/493 [00:00<?, ?B/s]"
            ],
            "application/vnd.jupyter.widget-view+json": {
              "version_major": 2,
              "version_minor": 0,
              "model_id": "617fee8e9ede4d579b00c07cffa7adc6"
            }
          },
          "metadata": {}
        },
        {
          "output_type": "display_data",
          "data": {
            "text/plain": [
              "vocab.txt:   0%|          | 0.00/305k [00:00<?, ?B/s]"
            ],
            "application/vnd.jupyter.widget-view+json": {
              "version_major": 2,
              "version_minor": 0,
              "model_id": "dccf7492988a4614bb43f4d041ffd779"
            }
          },
          "metadata": {}
        },
        {
          "output_type": "display_data",
          "data": {
            "text/plain": [
              "tokenizer.json:   0%|          | 0.00/776k [00:00<?, ?B/s]"
            ],
            "application/vnd.jupyter.widget-view+json": {
              "version_major": 2,
              "version_minor": 0,
              "model_id": "3f3cc4396826490f99e0eced4f0f3a07"
            }
          },
          "metadata": {}
        },
        {
          "output_type": "display_data",
          "data": {
            "text/plain": [
              "special_tokens_map.json:   0%|          | 0.00/125 [00:00<?, ?B/s]"
            ],
            "application/vnd.jupyter.widget-view+json": {
              "version_major": 2,
              "version_minor": 0,
              "model_id": "f77ec9c8fbcf4bcab07c5c3debdb6239"
            }
          },
          "metadata": {}
        }
      ],
      "source": [
        "tokenizer = AutoTokenizer.from_pretrained(ALANZI_model_huggingface_checkpoint)"
      ]
    },
    {
      "cell_type": "code",
      "execution_count": null,
      "metadata": {
        "colab": {
          "base_uri": "https://localhost:8080/",
          "referenced_widgets": [
            "0ff82927d80449e3a9f9ad71ad014f82",
            "64cb1cd9e3604a3e85c7c4df404c72e0",
            "1dedda43732c4d6797e65e605c85ed0e",
            "ab196fc3838149bfab8348efdc2bb71a",
            "3c9528a4331d497e8ab97f207d7e0e77",
            "72e4f10719a243bbaf2633b89d1f6a9e",
            "c31bb676be3940b2b331bc30c5827b37",
            "b3ab4b22e71843e9b2d0e85dbc46745d",
            "679d511ee4014428b6e30b2d680cf0e7",
            "7114cf668aeb43f99d8a96c08d7de0a6",
            "852efccd986948e2beb1dfd9da8033e2",
            "9016f9ec29194d43a817c47f2715af56",
            "e7a67e977db240979a983a80131ec04d",
            "54e40760cda34859b0f482d6a679f29b",
            "981bf85f826745069edff897b246885a",
            "c067835301834403b7eeffb8206733f7",
            "03d9af12035c435eab32361860d33fdb",
            "ff4795155f5344bd836ba2d93ef26dd4",
            "a1dc378737c14700b2fd14cfefbf3578",
            "d691bcc7f96c4e038521350643d57e35",
            "0d9e92b292304f4480ad1dce1b775e47",
            "ac53986889c844e5b1f65b1864a7245e",
            "3d5cefcb0eca48d8907cfbbde0227436",
            "b9771a3c6b6748a18f860fe014f88e97",
            "9a39a6254aa0498598f7c8b5df0ca810",
            "c2b219735a20473eb375fbbdb62d39a1",
            "3b13ca8fbe0a4ed9b361d9988ad0ce64",
            "0ff80797006e4e38b01456aaa18de8a4",
            "cc01ee93494b4092a9cabf80fe643470",
            "e0acdba7290b49dda102f25c64717c4c",
            "5f6a2261f1bb4f14baaea3ea5c08bf3d",
            "4de7491a2b384bd3932ee674575115a3",
            "73541e2eb6fc4060bd4c0acebcdab22a"
          ]
        },
        "id": "5U-NDbHlfRL2",
        "outputId": "f322baa5-95cd-4ac5-b2e4-a89a84c4a581"
      },
      "outputs": [
        {
          "output_type": "display_data",
          "data": {
            "text/plain": [
              "  0%|          | 0/15714 [00:00<?, ?it/s]"
            ],
            "application/vnd.jupyter.widget-view+json": {
              "version_major": 2,
              "version_minor": 0,
              "model_id": "0ff82927d80449e3a9f9ad71ad014f82"
            }
          },
          "metadata": {}
        },
        {
          "output_type": "display_data",
          "data": {
            "text/plain": [
              "  0%|          | 0/5238 [00:00<?, ?it/s]"
            ],
            "application/vnd.jupyter.widget-view+json": {
              "version_major": 2,
              "version_minor": 0,
              "model_id": "9016f9ec29194d43a817c47f2715af56"
            }
          },
          "metadata": {}
        },
        {
          "output_type": "display_data",
          "data": {
            "text/plain": [
              "  0%|          | 0/5239 [00:00<?, ?it/s]"
            ],
            "application/vnd.jupyter.widget-view+json": {
              "version_major": 2,
              "version_minor": 0,
              "model_id": "3d5cefcb0eca48d8907cfbbde0227436"
            }
          },
          "metadata": {}
        }
      ],
      "source": [
        "PY_DATA_COLLATOR = DataCollatorWithPadding(tokenizer = tokenizer)\n",
        "train_dataloader , eval_dataloader ,test_dataloader  = data_loader(dataset,tokenizer)"
      ]
    },
    {
      "cell_type": "markdown",
      "metadata": {
        "id": "g5QFlzHifRL2"
      },
      "source": [
        "#### Training"
      ]
    },
    {
      "cell_type": "code",
      "execution_count": null,
      "metadata": {
        "colab": {
          "base_uri": "https://localhost:8080/"
        },
        "id": "nqP3YkwEfRL2",
        "outputId": "c8460d46-28a4-45b2-932c-dbc59a58ac22"
      },
      "outputs": [
        {
          "output_type": "stream",
          "name": "stdout",
          "text": [
            "total 10640381\n",
            "-rw------- 1 root root      34937 Jun 18 07:55  alanzi3_classification_report\n",
            "-rw------- 1 root root        479 Jun 18 07:55  alanzi3_classification_report.csv\n",
            "-rw------- 1 root root      38667 Jun 18 07:55 'confusion matrix - Alanzi'\n",
            "-rw------- 1 root root 1307290453 Jun 18 07:54  checkpoint-epoch-8.pt\n",
            "-rw------- 1 root root       1348 Jun 18 07:54  epochs7-results.csv\n",
            "-rw------- 1 root root 1307290453 Jun 18 07:54  checkpoint-epoch-6.pt\n",
            "-rw------- 1 root root 1307290453 Jun 18 07:53  checkpoint-epoch-7.pt\n",
            "-rw------- 1 root root       1192 Jun 18 07:53  epochs6-results.csv\n",
            "-rw------- 1 root root       1037 Jun 18 07:53  epochs5-results.csv\n",
            "-rw------- 1 root root 1307290453 Jun 18 07:53  checkpoint-epoch-5.pt\n",
            "-rw------- 1 root root        883 Jun 18 07:51  epochs4-results.csv\n",
            "-rw------- 1 root root 1307290453 Jun 18 07:51  checkpoint-epoch-4.pt\n",
            "-rw------- 1 root root  437334031 Jun 18 07:50  best_model.pth\n",
            "-rw------- 1 root root        728 Jun 18 07:50  epochs3-results.csv\n",
            "-rw------- 1 root root 1307290453 Jun 18 07:50  checkpoint-epoch-3.pt\n",
            "-rw------- 1 root root        573 Jun 18 07:49  epochs2-results.csv\n",
            "-rw------- 1 root root 1307290453 Jun 18 07:49  checkpoint-epoch-2.pt\n",
            "-rw------- 1 root root        418 Jun 18 07:47  epochs1-results.csv\n",
            "-rw------- 1 root root 1307290453 Jun 18 07:47  checkpoint-epoch-1.pt\n",
            "-rw------- 1 root root        266 Jun 18 07:46  epochs0-results.csv\n",
            "-rw------- 1 root root       2154 Jun 18 07:45  architecture.txt\n",
            "drwx------ 2 root root       4096 Jun 13 13:57  model_3\n"
          ]
        }
      ],
      "source": [
        "# The most recent checkpoint file will be listed at the top.\n",
        "!ls -lt {PY_CUSTOM_ALANZI3_MODEL_DIR}"
      ]
    },
    {
      "cell_type": "code",
      "execution_count": null,
      "metadata": {
        "colab": {
          "base_uri": "https://localhost:8080/",
          "height": 446,
          "referenced_widgets": [
            "9f7ab848abef4d5996a40b582c1a7a4b",
            "4d12c76168ed43638b86dec03503583b",
            "dd74b604374546bfb80ce205411366e2",
            "aeaed5a46b724d4d9084466f89351ab6",
            "1532c057aa2b4e2daad9f7707199bb76",
            "0473e400b2924e58b37e8cb432e49ce3",
            "a9d188fab0ab4aff8cb4111348cabd62",
            "d9cc12125cda4a0085f4fa2032a5300d",
            "aa8c73a8a77645a18524848973dff510",
            "2cbc4f4afbb44a5db4192ad70d76435b",
            "2102ed9667d24346b3601a48656e960c",
            "01cc8cc88f684f529d04bbdc0ac2ca2f",
            "73e491c23bf644d596da93b87c0a225b",
            "b36dc7f9b2c5484dab46b033df0cdcc9",
            "9b03443d38d34e82b5cca61438819227",
            "3d64bb3dba1349a8bfd5f18ad93b6e76",
            "c9e2a6c3b5574de3b6bb086483fcd048",
            "66ca5387e9e4400aae797cf41a4f11b9",
            "9bafe55963e94b80b3491f2e5ae8ff78",
            "585811297b4540e1ad4253d36e30d03a",
            "94c5cc7d3d8b4dcf98de1bf0c3ca1390",
            "263c1f03ec5b4496b6eb68ca27c2d568"
          ]
        },
        "id": "Jtotj1e2fRL3",
        "outputId": "2383141f-cf77-4f78-a6dd-76d69fc963bf"
      },
      "outputs": [
        {
          "output_type": "display_data",
          "data": {
            "text/plain": [
              "config.json:   0%|          | 0.00/959 [00:00<?, ?B/s]"
            ],
            "application/vnd.jupyter.widget-view+json": {
              "version_major": 2,
              "version_minor": 0,
              "model_id": "9f7ab848abef4d5996a40b582c1a7a4b"
            }
          },
          "metadata": {}
        },
        {
          "output_type": "display_data",
          "data": {
            "text/plain": [
              "pytorch_model.bin:   0%|          | 0.00/436M [00:00<?, ?B/s]"
            ],
            "application/vnd.jupyter.widget-view+json": {
              "version_major": 2,
              "version_minor": 0,
              "model_id": "01cc8cc88f684f529d04bbdc0ac2ca2f"
            }
          },
          "metadata": {}
        },
        {
          "output_type": "stream",
          "name": "stdout",
          "text": [
            "There are 1 GPU(s) available.\n",
            "We will use the GPU: NVIDIA L4\n",
            "Mon Jun 23 10:08:51 2025       \n",
            "+-----------------------------------------------------------------------------------------+\n",
            "| NVIDIA-SMI 550.54.15              Driver Version: 550.54.15      CUDA Version: 12.4     |\n",
            "|-----------------------------------------+------------------------+----------------------+\n",
            "| GPU  Name                 Persistence-M | Bus-Id          Disp.A | Volatile Uncorr. ECC |\n",
            "| Fan  Temp   Perf          Pwr:Usage/Cap |           Memory-Usage | GPU-Util  Compute M. |\n",
            "|                                         |                        |               MIG M. |\n",
            "|=========================================+========================+======================|\n",
            "|   0  NVIDIA L4                      Off |   00000000:00:03.0 Off |                    0 |\n",
            "| N/A   72C    P0             33W /   72W |    5233MiB /  23034MiB |      0%      Default |\n",
            "|                                         |                        |                  N/A |\n",
            "+-----------------------------------------+------------------------+----------------------+\n",
            "                                                                                         \n",
            "+-----------------------------------------------------------------------------------------+\n",
            "| Processes:                                                                              |\n",
            "|  GPU   GI   CI        PID   Type   Process name                              GPU Memory |\n",
            "|        ID   ID                                                               Usage      |\n",
            "|=========================================================================================|\n",
            "+-----------------------------------------------------------------------------------------+\n"
          ]
        }
      ],
      "source": [
        "set_seed(RANDOM_STATE)\n",
        "model , device = initialize_model(save_dir = PY_CUSTOM_ALANZI3_MODEL_DIR,model_name = ALANZI_model_huggingface_checkpoint )"
      ]
    },
    {
      "cell_type": "code",
      "execution_count": null,
      "metadata": {
        "colab": {
          "base_uri": "https://localhost:8080/"
        },
        "id": "BwDfrhGEfRL3",
        "outputId": "eca9d5a0-8282-4be2-cadd-6c66009131c6"
      },
      "outputs": [
        {
          "output_type": "execute_result",
          "data": {
            "text/plain": [
              "=====================================================================================\n",
              "Layer (type:depth-idx)                                       Param #\n",
              "=====================================================================================\n",
              "BertClassifier                                               --\n",
              "├─BertModel: 1-1                                             --\n",
              "│    └─BertEmbeddings: 2-1                                   --\n",
              "│    │    └─Embedding: 3-1                                   23,040,000\n",
              "│    │    └─Embedding: 3-2                                   393,216\n",
              "│    │    └─Embedding: 3-3                                   1,536\n",
              "│    │    └─LayerNorm: 3-4                                   1,536\n",
              "│    │    └─Dropout: 3-5                                     --\n",
              "│    └─BertEncoder: 2-2                                      --\n",
              "│    │    └─ModuleList: 3-6                                  85,054,464\n",
              "│    └─BertPooler: 2-3                                       --\n",
              "│    │    └─Linear: 3-7                                      590,592\n",
              "│    │    └─Tanh: 3-8                                        --\n",
              "├─Sequential: 1-2                                            --\n",
              "│    └─Linear: 2-4                                           196,864\n",
              "│    └─LeakyReLU: 2-5                                        --\n",
              "│    └─LayerNorm: 2-6                                        512\n",
              "│    └─Dropout: 2-7                                          --\n",
              "│    └─Linear: 2-8                                           32,896\n",
              "│    └─GELU: 2-9                                             --\n",
              "│    └─LayerNorm: 2-10                                       256\n",
              "│    └─Linear: 2-11                                          387\n",
              "=====================================================================================\n",
              "Total params: 109,312,259\n",
              "Trainable params: 109,312,259\n",
              "Non-trainable params: 0\n",
              "====================================================================================="
            ]
          },
          "metadata": {},
          "execution_count": 62
        }
      ],
      "source": [
        "from torchinfo import summary\n",
        "summary(model)"
      ]
    },
    {
      "cell_type": "code",
      "execution_count": null,
      "metadata": {
        "colab": {
          "base_uri": "https://localhost:8080/",
          "referenced_widgets": [
            "261bb5ff180a4208a469962bcee8d082",
            "a448dc80cdb24b7797ad3ae716974e31",
            "05d67ba916564bdfa007093efaf62409",
            "c17dc79b28f44328bfdd0060b9c6e561",
            "8944971d5d954b8385ebfb2c7ec83de0",
            "06078689cb684a59a2929e5dd376d7f5",
            "50643e3238d1421da49752ab1fb3a42e",
            "e8b72bbe5562472aa0d932dead0d2735",
            "4e793f554c2042b49bceb566e101969e",
            "98b1b5aa3ac54a3d914218a50a4ce23b",
            "c3b3d6aec3d64e1b9dc1f035b8976de0",
            "fcd00c4f71454c66b7337ba0756d2b88",
            "9e3b9410d738471fb044cdb2b2374dda",
            "031f7aea6a0147f0be047ead4bb3922e",
            "9b85fbe2055b40b1acd3194419dc7c1b",
            "66b396d48b5f4d949cf67f801d8339ab",
            "2cc6c07cdb764c0fbb0b6fb5ba00a021",
            "81ad44baa3fa4e6ca16279976b26e831",
            "c6e2be9af3424293afcd4754f6f378ac",
            "4f703d06ea1b4afab109756f66eee303",
            "3ba7e99dd1244954b965a66bd5b1955d",
            "1f2b3c50de8c4f4a81fba301731069cd"
          ]
        },
        "id": "YwDUI0tSfRL3",
        "outputId": "dbad5eda-8982-4f54-9d7c-c15890796230"
      },
      "outputs": [
        {
          "output_type": "stream",
          "name": "stdout",
          "text": [
            "total steps = 491 batches * 10 epochs = 4910 \t Batch Size 32\n"
          ]
        },
        {
          "output_type": "display_data",
          "data": {
            "text/plain": [
              "  0%|          | 0/4910 [00:00<?, ?it/s]"
            ],
            "application/vnd.jupyter.widget-view+json": {
              "version_major": 2,
              "version_minor": 0,
              "model_id": "261bb5ff180a4208a469962bcee8d082"
            }
          },
          "metadata": {}
        },
        {
          "output_type": "stream",
          "name": "stdout",
          "text": [
            "Start training...\n",
            "\n",
            " Epoch  |  Batch  |  Train Loss  |  Val Loss  |  Val Acc  |  Elapsed \n",
            "----------------------------------------------------------------------\n"
          ]
        },
        {
          "output_type": "display_data",
          "data": {
            "text/plain": [
              "model.safetensors:   0%|          | 0.00/436M [00:00<?, ?B/s]"
            ],
            "application/vnd.jupyter.widget-view+json": {
              "version_major": 2,
              "version_minor": 0,
              "model_id": "fcd00c4f71454c66b7337ba0756d2b88"
            }
          },
          "metadata": {}
        },
        {
          "output_type": "stream",
          "name": "stdout",
          "text": [
            "   1    |   490   |   0.639691   |     -      |     -     |  102.10  \n",
            "----------------------------------------------------------------------\n",
            "   epoch  avg_train_loss  val_loss  val_accuracy  val_f1_weighted  \\\n",
            "0      0        0.639691  0.554001      0.766456         0.767302   \n",
            "\n",
            "   val_f1_macro  val_precision  val_recall  time elapsed  \n",
            "0      0.757638       0.800551    0.766456    113.122818  \n",
            "----------------------------------------------------------------------\n",
            "\n",
            "\n",
            " Epoch  |  Batch  |  Train Loss  |  Val Loss  |  Val Acc  |  Elapsed \n",
            "----------------------------------------------------------------------\n",
            "   2    |   490   |   0.377217   |     -      |     -     |  102.09  \n",
            "----------------------------------------------------------------------\n",
            "   epoch  avg_train_loss  val_loss  val_accuracy  val_f1_weighted  \\\n",
            "0      0        0.639691  0.554001      0.766456         0.767302   \n",
            "1      1        0.377217  0.616298      0.784541         0.785178   \n",
            "\n",
            "   val_f1_macro  val_precision  val_recall  time elapsed  \n",
            "0      0.757638       0.800551    0.766456    113.122818  \n",
            "1      0.775598       0.807324    0.784541    113.112174  \n",
            "----------------------------------------------------------------------\n",
            "\n",
            "\n",
            " Epoch  |  Batch  |  Train Loss  |  Val Loss  |  Val Acc  |  Elapsed \n",
            "----------------------------------------------------------------------\n",
            "   3    |   490   |   0.213443   |     -      |     -     |  102.11  \n",
            "----------------------------------------------------------------------\n",
            "   epoch  avg_train_loss  val_loss  val_accuracy  val_f1_weighted  \\\n",
            "0      0        0.639691  0.554001      0.766456         0.767302   \n",
            "1      1        0.377217  0.616298      0.784541         0.785178   \n",
            "2      2        0.213443  0.769530      0.766353         0.767573   \n",
            "\n",
            "   val_f1_macro  val_precision  val_recall  time elapsed  \n",
            "0      0.757638       0.800551    0.766456    113.122818  \n",
            "1      0.775598       0.807324    0.784541    113.112174  \n",
            "2      0.757459       0.789489    0.766353    113.144318  \n",
            "----------------------------------------------------------------------\n",
            "\n",
            "\n",
            " Epoch  |  Batch  |  Train Loss  |  Val Loss  |  Val Acc  |  Elapsed \n",
            "----------------------------------------------------------------------\n",
            "   4    |   490   |   0.136595   |     -      |     -     |  102.05  \n",
            "----------------------------------------------------------------------\n",
            "   epoch  avg_train_loss  val_loss  val_accuracy  val_f1_weighted  \\\n",
            "0      0        0.639691  0.554001      0.766456         0.767302   \n",
            "1      1        0.377217  0.616298      0.784541         0.785178   \n",
            "2      2        0.213443  0.769530      0.766353         0.767573   \n",
            "3      3        0.136595  0.918538      0.777110         0.777363   \n",
            "\n",
            "   val_f1_macro  val_precision  val_recall  time elapsed  \n",
            "0      0.757638       0.800551    0.766456    113.122818  \n",
            "1      0.775598       0.807324    0.784541    113.112174  \n",
            "2      0.757459       0.789489    0.766353    113.144318  \n",
            "3      0.766439       0.793274    0.777110    113.078117  \n",
            "----------------------------------------------------------------------\n",
            "\n",
            "\n",
            " Epoch  |  Batch  |  Train Loss  |  Val Loss  |  Val Acc  |  Elapsed \n",
            "----------------------------------------------------------------------\n",
            "   5    |   490   |   0.103928   |     -      |     -     |  102.08  \n",
            "----------------------------------------------------------------------\n",
            "   epoch  avg_train_loss  val_loss  val_accuracy  val_f1_weighted  \\\n",
            "0      0        0.639691  0.554001      0.766456         0.767302   \n",
            "1      1        0.377217  0.616298      0.784541         0.785178   \n",
            "2      2        0.213443  0.769530      0.766353         0.767573   \n",
            "3      3        0.136595  0.918538      0.777110         0.777363   \n",
            "4      4        0.103928  1.078414      0.772537         0.773413   \n",
            "\n",
            "   val_f1_macro  val_precision  val_recall  time elapsed  \n",
            "0      0.757638       0.800551    0.766456    113.122818  \n",
            "1      0.775598       0.807324    0.784541    113.112174  \n",
            "2      0.757459       0.789489    0.766353    113.144318  \n",
            "3      0.766439       0.793274    0.777110    113.078117  \n",
            "4      0.762562       0.790289    0.772537    113.108857  \n",
            "----------------------------------------------------------------------\n",
            "\n",
            "\n",
            " Epoch  |  Batch  |  Train Loss  |  Val Loss  |  Val Acc  |  Elapsed \n",
            "----------------------------------------------------------------------\n",
            "   6    |   490   |   0.080584   |     -      |     -     |  102.07  \n",
            "----------------------------------------------------------------------\n",
            "   epoch  avg_train_loss  val_loss  val_accuracy  val_f1_weighted  \\\n",
            "0      0        0.639691  0.554001      0.766456         0.767302   \n",
            "1      1        0.377217  0.616298      0.784541         0.785178   \n",
            "2      2        0.213443  0.769530      0.766353         0.767573   \n",
            "3      3        0.136595  0.918538      0.777110         0.777363   \n",
            "4      4        0.103928  1.078414      0.772537         0.773413   \n",
            "5      5        0.080584  1.070289      0.777214         0.777341   \n",
            "\n",
            "   val_f1_macro  val_precision  val_recall  time elapsed  \n",
            "0      0.757638       0.800551    0.766456    113.122818  \n",
            "1      0.775598       0.807324    0.784541    113.112174  \n",
            "2      0.757459       0.789489    0.766353    113.144318  \n",
            "3      0.766439       0.793274    0.777110    113.078117  \n",
            "4      0.762562       0.790289    0.772537    113.108857  \n",
            "5      0.766691       0.792827    0.777214    113.084363  \n",
            "----------------------------------------------------------------------\n",
            "\n",
            "\n",
            "Early stopping at epoch 5 best epoch is 1\n",
            "Training complete!\n",
            "loading the best model of epoch 2 based on it's best accuracy 0.7845412971175167\n",
            "   epoch  avg_train_loss  val_loss  val_accuracy  val_f1_weighted  \\\n",
            "0      0        0.639691  0.554001      0.766456         0.767302   \n",
            "1      1        0.377217  0.616298      0.784541         0.785178   \n",
            "2      2        0.213443  0.769530      0.766353         0.767573   \n",
            "3      3        0.136595  0.918538      0.777110         0.777363   \n",
            "4      4        0.103928  1.078414      0.772537         0.773413   \n",
            "5      5        0.080584  1.070289      0.777214         0.777341   \n",
            "\n",
            "   val_f1_macro  val_precision  val_recall  time elapsed  \n",
            "0      0.757638       0.800551    0.766456    113.122818  \n",
            "1      0.775598       0.807324    0.784541    113.112174  \n",
            "2      0.757459       0.789489    0.766353    113.144318  \n",
            "3      0.766439       0.793274    0.777110    113.078117  \n",
            "4      0.762562       0.790289    0.772537    113.108857  \n",
            "5      0.766691       0.792827    0.777214    113.084363  \n"
          ]
        }
      ],
      "source": [
        "train(model= model,\n",
        "      train_dataloader = train_dataloader,\n",
        "      eval_dataloader = eval_dataloader,\n",
        "      save_dir = PY_CUSTOM_ALANZI3_MODEL_DIR,\n",
        "      device = device,\n",
        "      epochs = EPOCHS,\n",
        "      checkpoint = None, #'checkpoint-epoch-2.pt',\n",
        "      evaluation = True\n",
        "      )"
      ]
    },
    {
      "cell_type": "markdown",
      "metadata": {
        "id": "1SB9zqdVQyof"
      },
      "source": [
        "#### Evaluating"
      ]
    },
    {
      "cell_type": "code",
      "execution_count": null,
      "metadata": {
        "colab": {
          "base_uri": "https://localhost:8080/",
          "height": 49,
          "referenced_widgets": [
            "fd6bfcc2ee6c4a8686ab7efe4080c238",
            "54087a9b2e6a4eaeaf9642def3000268",
            "85e04cad71044181b41099290b43b3b3",
            "bd13b96cf4e44b3dad8a253b57fe86bc",
            "48c6dad637634c7f9228ca3cb46c2813",
            "e4d4839a6e304802bdc3c596b51893f5",
            "bd032d40abab4767bdf646f58cbedabc",
            "81813a2d550c47b3846fbb2f9f087fdb",
            "909e14ae2b7c4fefb8b13650c3c63d0a",
            "1acb1940c6024da6bb2bfb72c3ff416f",
            "5f2767f3fc01452488e89a956774ed33"
          ]
        },
        "id": "SyLKQGQkQyof",
        "outputId": "1b75a28f-b83e-406c-992c-e245115ec345"
      },
      "outputs": [
        {
          "output_type": "display_data",
          "data": {
            "text/plain": [
              "  0%|          | 0/164 [00:00<?, ?it/s]"
            ],
            "application/vnd.jupyter.widget-view+json": {
              "version_major": 2,
              "version_minor": 0,
              "model_id": "fd6bfcc2ee6c4a8686ab7efe4080c238"
            }
          },
          "metadata": {}
        }
      ],
      "source": [
        "tensor , ytest = bert_predict(model, test_dataloader,device)"
      ]
    },
    {
      "cell_type": "code",
      "execution_count": null,
      "metadata": {
        "colab": {
          "base_uri": "https://localhost:8080/",
          "height": 709
        },
        "id": "EB6oukJfQyog",
        "outputId": "bb8c3510-fa08-47fd-c271-28781ce090c5"
      },
      "outputs": [
        {
          "output_type": "display_data",
          "data": {
            "text/plain": [
              "<Figure size 800x500 with 2 Axes>"
            ],
            "image/png": "[encoded data removed]"
          },
          "metadata": {}
        },
        {
          "output_type": "stream",
          "name": "stdout",
          "text": [
            "              precision    recall  f1-score   support\n",
            "\n",
            "    positive       0.79      0.81      0.80      1800\n",
            "    negative       0.78      0.79      0.79      1800\n",
            "     neutral       0.78      0.76      0.77      1639\n",
            "\n",
            "    accuracy                           0.79      5239\n",
            "   macro avg       0.79      0.79      0.79      5239\n",
            "weighted avg       0.79      0.79      0.79      5239\n",
            "\n"
          ]
        }
      ],
      "source": [
        "# Assuming ytest is the output of bert_predict\n",
        "# and you have a directory PY_CUSTOM_ALANZI3_MODEL_DIR to save the report.\n",
        "\n",
        "print_classification_report(ytest, PY_CUSTOM_ALANZI3_MODEL_DIR, 'alanzi3_classification_report')"
      ]
    },
    {
      "cell_type": "code",
      "execution_count": null,
      "metadata": {
        "colab": {
          "base_uri": "https://localhost:8080/",
          "height": 607
        },
        "id": "nMpOTywTQyog",
        "outputId": "8f669de6-0757-4f45-a78b-68bf4fa08a92"
      },
      "outputs": [
        {
          "output_type": "display_data",
          "data": {
            "text/plain": [
              "<Figure size 1400x600 with 2 Axes>"
            ],
            "image/png": "[encoded data removed]"
          },
          "metadata": {}
        }
      ],
      "source": [
        "show_confusion_matrix(ytest,title = 'confusion matrix - Alanzi',save_dir=PY_CUSTOM_ALANZI3_MODEL_DIR)"
      ]
    },
    {
      "cell_type": "code",
      "source": [
        "# prompt: now, write the code for print the output result of our model camelbert-da (accuracy, precision, f1score, recall)\n",
        "\n",
        "# Evaluate the model on the test set and get the performance metrics\n",
        "results_df = evaluate_test(model, test_dataloader, PY_CUSTOM_ALANZI3_MODEL_DIR, device)\n",
        "\n",
        "# Print the results\n",
        "print(\"\\nPerformance Metrics for ALANZI Model:\")\n",
        "results_df\n"
      ],
      "metadata": {
        "colab": {
          "base_uri": "https://localhost:8080/"
        },
        "id": "7q6sX8pqRwhm",
        "outputId": "bd05803d-d314-49f0-a80e-8b20dce063c8"
      },
      "execution_count": null,
      "outputs": [
        {
          "output_type": "stream",
          "name": "stdout",
          "text": [
            "       loss  accuracy  f1_weighted  f1_macro  precision    recall\n",
            "0  1.026059  0.785947     0.786092  0.777559    0.80013  0.785947\n",
            "\n",
            "Performance Metrics for ALANZI Model:\n"
          ]
        },
        {
          "output_type": "execute_result",
          "data": {
            "text/plain": [
              "[{'loss': np.float64(1.0260591270720087),\n",
              "  'accuracy': np.float64(0.7859474416755038),\n",
              "  'f1_weighted': np.float64(0.7860919230921479),\n",
              "  'f1_macro': np.float64(0.7775588362465305),\n",
              "  'precision': np.float64(0.8001301546959666),\n",
              "  'recall': np.float64(0.7859474416755038)}]"
            ]
          },
          "metadata": {},
          "execution_count": 67
        }
      ]
    },
    {
      "cell_type": "markdown",
      "metadata": {
        "id": "MhvyUQlLjqKD"
      },
      "source": [
        "### ARA-BERT"
      ]
    },
    {
      "cell_type": "code",
      "execution_count": null,
      "metadata": {
        "id": "eQOwVckLjqKE"
      },
      "outputs": [],
      "source": [
        "# ARABERT_model_huggingface_checkpoint='aubmindlab/bert-base-arabert'"
      ]
    },
    {
      "cell_type": "markdown",
      "metadata": {
        "id": "p2FiqZoJjqKF"
      },
      "source": [
        "#### ARA-BERT Subword Tokenization"
      ]
    },
    {
      "cell_type": "code",
      "execution_count": null,
      "metadata": {
        "colab": {
          "base_uri": "https://localhost:8080/",
          "height": 317,
          "referenced_widgets": [
            "957fad73f4b142bf980fe02e48b97644",
            "79478d2d7f184aae958cb95860238d53",
            "70862ad5bc3d4aa59f662e9045275746",
            "71d158973fc94a5fadad45b175ff1275",
            "107389afb8734bb9a2fd5d957b69b087"
          ]
        },
        "id": "HtYV0OjzjqKF",
        "outputId": "ae7b9304-47d1-4873-e525-f6284d82e5da"
      },
      "outputs": [
        {
          "data": {
            "application/vnd.jupyter.widget-view+json": {
              "model_id": "957fad73f4b142bf980fe02e48b97644",
              "version_major": 2,
              "version_minor": 0
            },
            "text/plain": [
              "Downloading (…)okenizer_config.json:   0%|          | 0.00/637 [00:00<?, ?B/s]"
            ]
          },
          "metadata": {},
          "output_type": "display_data"
        },
        {
          "data": {
            "application/vnd.jupyter.widget-view+json": {
              "model_id": "79478d2d7f184aae958cb95860238d53",
              "version_major": 2,
              "version_minor": 0
            },
            "text/plain": [
              "Downloading (…)lve/main/config.json:   0%|          | 0.00/578 [00:00<?, ?B/s]"
            ]
          },
          "metadata": {},
          "output_type": "display_data"
        },
        {
          "data": {
            "application/vnd.jupyter.widget-view+json": {
              "model_id": "70862ad5bc3d4aa59f662e9045275746",
              "version_major": 2,
              "version_minor": 0
            },
            "text/plain": [
              "Downloading (…)solve/main/vocab.txt:   0%|          | 0.00/717k [00:00<?, ?B/s]"
            ]
          },
          "metadata": {},
          "output_type": "display_data"
        },
        {
          "data": {
            "application/vnd.jupyter.widget-view+json": {
              "model_id": "71d158973fc94a5fadad45b175ff1275",
              "version_major": 2,
              "version_minor": 0
            },
            "text/plain": [
              "Downloading (…)/main/tokenizer.json:   0%|          | 0.00/2.26M [00:00<?, ?B/s]"
            ]
          },
          "metadata": {},
          "output_type": "display_data"
        },
        {
          "data": {
            "application/vnd.jupyter.widget-view+json": {
              "model_id": "107389afb8734bb9a2fd5d957b69b087",
              "version_major": 2,
              "version_minor": 0
            },
            "text/plain": [
              "Downloading (…)cial_tokens_map.json:   0%|          | 0.00/112 [00:00<?, ?B/s]"
            ]
          },
          "metadata": {},
          "output_type": "display_data"
        }
      ],
      "source": [
        "# tokenizer = AutoTokenizer.from_pretrained(ARABERT_model_huggingface_checkpoint)"
      ]
    },
    {
      "cell_type": "code",
      "execution_count": null,
      "metadata": {
        "colab": {
          "base_uri": "https://localhost:8080/",
          "height": 113,
          "referenced_widgets": [
            "93be3a4744094ab2bfc8b7d0f1b372f3",
            "228b4011f98e47298d802803b4bf71a0",
            "8207e999b7754308b84e528db5bbc5a5"
          ]
        },
        "id": "4WXyt0vKjqKF",
        "outputId": "05e0c336-bc72-4100-821c-d98c3753a9b6"
      },
      "outputs": [
        {
          "data": {
            "application/vnd.jupyter.widget-view+json": {
              "model_id": "93be3a4744094ab2bfc8b7d0f1b372f3",
              "version_major": 2,
              "version_minor": 0
            },
            "text/plain": [
              "  0%|          | 0/44209 [00:00<?, ?it/s]"
            ]
          },
          "metadata": {},
          "output_type": "display_data"
        },
        {
          "data": {
            "application/vnd.jupyter.widget-view+json": {
              "model_id": "228b4011f98e47298d802803b4bf71a0",
              "version_major": 2,
              "version_minor": 0
            },
            "text/plain": [
              "  0%|          | 0/11053 [00:00<?, ?it/s]"
            ]
          },
          "metadata": {},
          "output_type": "display_data"
        },
        {
          "data": {
            "application/vnd.jupyter.widget-view+json": {
              "model_id": "8207e999b7754308b84e528db5bbc5a5",
              "version_major": 2,
              "version_minor": 0
            },
            "text/plain": [
              "  0%|          | 0/11053 [00:00<?, ?it/s]"
            ]
          },
          "metadata": {},
          "output_type": "display_data"
        }
      ],
      "source": [
        "# train_dataloader , eval_dataloader ,test_dataloader  = data_loader(dataset,tokenizer)"
      ]
    },
    {
      "cell_type": "markdown",
      "metadata": {
        "id": "CmL1ykE9jqKG"
      },
      "source": [
        "#### Training"
      ]
    },
    {
      "cell_type": "code",
      "execution_count": null,
      "metadata": {
        "colab": {
          "base_uri": "https://localhost:8080/"
        },
        "id": "-MyEUXY6jqKH",
        "outputId": "cec2c0b3-05a0-4463-cbba-975d525abfb2"
      },
      "outputs": [
        {
          "name": "stdout",
          "output_type": "stream",
          "text": [
            "-rw------- 1 root root 4428658981 May  6 06:39 /content/drive/MyDrive/Bachelor/Sentiment/custom_models/arabert/py/model/checkpoint-epoch-3.pt\n",
            "-rw------- 1 root root 4428658981 May  6 06:05 /content/drive/MyDrive/Bachelor/Sentiment/custom_models/arabert/py/model/checkpoint-epoch-2.pt\n",
            "-rw------- 1 root root 4428658981 May  3 17:31 /content/drive/MyDrive/Bachelor/Sentiment/custom_models/arabert/py/model/checkpoint-epoch-1.pt\n",
            "-rw------- 1 root root 1620584720 Apr 20 04:26 /content/drive/MyDrive/Bachelor/Sentiment/custom_models/arabert/py/model/checkpoint-epoch-7.pt\n",
            "-rw------- 1 root root 1620584720 Apr 20 04:02 /content/drive/MyDrive/Bachelor/Sentiment/custom_models/arabert/py/model/checkpoint-epoch-6.pt\n",
            "-rw------- 1 root root 1620584720 Apr 20 03:39 /content/drive/MyDrive/Bachelor/Sentiment/custom_models/arabert/py/model/checkpoint-epoch-5.pt\n",
            "-rw------- 1 root root 1620584720 Apr 20 03:16 /content/drive/MyDrive/Bachelor/Sentiment/custom_models/arabert/py/model/checkpoint-epoch-4.pt\n"
          ]
        }
      ],
      "source": [
        "# # The most recent checkpoint file will be listed at the top.\n",
        "# !ls -lt {PY_CUSTOM_ARABERT_MODEL_DIR}checkpoint-*"
      ]
    },
    {
      "cell_type": "code",
      "execution_count": null,
      "metadata": {
        "colab": {
          "base_uri": "https://localhost:8080/",
          "height": 514,
          "referenced_widgets": [
            "31c37f6a84274c0396374755c0345515"
          ]
        },
        "id": "mjaEiHpNjqKH",
        "outputId": "a23a1f83-59c1-4110-852f-cdc9fc8c1023"
      },
      "outputs": [
        {
          "data": {
            "application/vnd.jupyter.widget-view+json": {
              "model_id": "31c37f6a84274c0396374755c0345515",
              "version_major": 2,
              "version_minor": 0
            },
            "text/plain": [
              "Downloading pytorch_model.bin:   0%|          | 0.00/543M [00:00<?, ?B/s]"
            ]
          },
          "metadata": {},
          "output_type": "display_data"
        },
        {
          "name": "stderr",
          "output_type": "stream",
          "text": [
            "Some weights of the model checkpoint at aubmindlab/bert-base-arabert were not used when initializing BertModel: ['cls.seq_relationship.weight', 'cls.predictions.bias', 'cls.predictions.transform.LayerNorm.bias', 'cls.predictions.transform.LayerNorm.weight', 'cls.seq_relationship.bias', 'cls.predictions.transform.dense.bias', 'cls.predictions.transform.dense.weight', 'cls.predictions.decoder.weight']\n",
            "- This IS expected if you are initializing BertModel from the checkpoint of a model trained on another task or with another architecture (e.g. initializing a BertForSequenceClassification model from a BertForPreTraining model).\n",
            "- This IS NOT expected if you are initializing BertModel from the checkpoint of a model that you expect to be exactly identical (initializing a BertForSequenceClassification model from a BertForSequenceClassification model).\n"
          ]
        },
        {
          "name": "stdout",
          "output_type": "stream",
          "text": [
            "There are 1 GPU(s) available.\n",
            "We will use the GPU: Tesla T4\n",
            "Sat May  6 07:12:55 2023       \n",
            "+-----------------------------------------------------------------------------+\n",
            "| NVIDIA-SMI 525.85.12    Driver Version: 525.85.12    CUDA Version: 12.0     |\n",
            "|-------------------------------+----------------------+----------------------+\n",
            "| GPU  Name        Persistence-M| Bus-Id        Disp.A | Volatile Uncorr. ECC |\n",
            "| Fan  Temp  Perf  Pwr:Usage/Cap|         Memory-Usage | GPU-Util  Compute M. |\n",
            "|                               |                      |               MIG M. |\n",
            "|===============================+======================+======================|\n",
            "|   0  Tesla T4            Off  | 00000000:00:04.0 Off |                    0 |\n",
            "| N/A   70C    P0    30W /  70W |  11587MiB / 15360MiB |      0%      Default |\n",
            "|                               |                      |                  N/A |\n",
            "+-------------------------------+----------------------+----------------------+\n",
            "                                                                               \n",
            "+-----------------------------------------------------------------------------+\n",
            "| Processes:                                                                  |\n",
            "|  GPU   GI   CI        PID   Type   Process name                  GPU Memory |\n",
            "|        ID   ID                                                   Usage      |\n",
            "|=============================================================================|\n",
            "+-----------------------------------------------------------------------------+\n"
          ]
        }
      ],
      "source": [
        "# set_seed(RANDOM_STATE)\n",
        "# model , device = initialize_model(save_dir = PY_CUSTOM_ARABERT_MODEL_DIR,model_name = ARABERT_model_huggingface_checkpoint )"
      ]
    },
    {
      "cell_type": "code",
      "execution_count": null,
      "metadata": {
        "colab": {
          "base_uri": "https://localhost:8080/"
        },
        "id": "7n-_uaRbjqKH",
        "outputId": "ea2a1919-1408-4af1-e14c-13f6e514b273"
      },
      "outputs": [
        {
          "data": {
            "text/plain": [
              "================================================================================\n",
              "Layer (type:depth-idx)                                  Param #\n",
              "================================================================================\n",
              "BertClassifier                                          --\n",
              "├─BertModel: 1-1                                        --\n",
              "│    └─BertEmbeddings: 2-1                              --\n",
              "│    │    └─Embedding: 3-1                              49,152,000\n",
              "│    │    └─Embedding: 3-2                              393,216\n",
              "│    │    └─Embedding: 3-3                              1,536\n",
              "│    │    └─LayerNorm: 3-4                              1,536\n",
              "│    │    └─Dropout: 3-5                                --\n",
              "│    └─BertEncoder: 2-2                                 --\n",
              "│    │    └─ModuleList: 3-6                             85,054,464\n",
              "│    └─BertPooler: 2-3                                  --\n",
              "│    │    └─Linear: 3-7                                 590,592\n",
              "│    │    └─Tanh: 3-8                                   --\n",
              "├─Sequential: 1-2                                       --\n",
              "│    └─Linear: 2-4                                      196,864\n",
              "│    └─LeakyReLU: 2-5                                   --\n",
              "│    └─LayerNorm: 2-6                                   512\n",
              "│    └─Dropout: 2-7                                     --\n",
              "│    └─Linear: 2-8                                      32,896\n",
              "│    └─GELU: 2-9                                        --\n",
              "│    └─LayerNorm: 2-10                                  256\n",
              "│    └─Linear: 2-11                                     387\n",
              "================================================================================\n",
              "Total params: 135,424,259\n",
              "Trainable params: 135,424,259\n",
              "Non-trainable params: 0\n",
              "================================================================================"
            ]
          },
          "execution_count": 45,
          "metadata": {},
          "output_type": "execute_result"
        }
      ],
      "source": [
        "# from torchinfo import summary\n",
        "# summary(model)"
      ]
    },
    {
      "cell_type": "code",
      "execution_count": null,
      "metadata": {
        "colab": {
          "base_uri": "https://localhost:8080/",
          "height": 1000,
          "referenced_widgets": [
            "22a1f5edd0bd493987f191f789648da1"
          ]
        },
        "id": "EU8LkSnBjqKI",
        "outputId": "83d1361e-05cc-4ba0-b6c9-42102fbdeffb"
      },
      "outputs": [
        {
          "name": "stdout",
          "output_type": "stream",
          "text": [
            "total steps = 1381 batches * 10 epochs = 13810 \t Batch Size 32\n"
          ]
        },
        {
          "data": {
            "application/vnd.jupyter.widget-view+json": {
              "model_id": "22a1f5edd0bd493987f191f789648da1",
              "version_major": 2,
              "version_minor": 0
            },
            "text/plain": [
              "  0%|          | 0/13810 [00:00<?, ?it/s]"
            ]
          },
          "metadata": {},
          "output_type": "display_data"
        },
        {
          "name": "stdout",
          "output_type": "stream",
          "text": [
            "Start training...\n",
            "\n",
            " Epoch  |  Batch  |  Train Loss  |  Val Loss  |  Val Acc  |  Elapsed \n",
            "----------------------------------------------------------------------\n",
            "   1    |  1000   |   1.105903   |     -      |     -     |  421.77  \n",
            "   1    |  1380   |   1.102564   |     -      |     -     |  159.60  \n",
            "----------------------------------------------------------------------\n",
            "   epoch  avg_train_loss  val_loss  val_accuracy  val_f1_weighted  \\\n",
            "0      0        1.104984  1.098155      0.347439         0.184798   \n",
            "\n",
            "   val_f1_macro  val_precision  val_recall  time elapsed  \n",
            "0      0.170027        0.12758    0.347439    626.732201  \n",
            "----------------------------------------------------------------------\n",
            "\n",
            "\n",
            " Epoch  |  Batch  |  Train Loss  |  Val Loss  |  Val Acc  |  Elapsed \n",
            "----------------------------------------------------------------------\n",
            "   2    |  1000   |   1.101131   |     -      |     -     |  420.37  \n",
            "   2    |  1380   |   1.102199   |     -      |     -     |  159.89  \n",
            "----------------------------------------------------------------------\n",
            "   epoch  avg_train_loss  val_loss  val_accuracy  val_f1_weighted  \\\n",
            "0      0        1.104984  1.098155      0.347439         0.184798   \n",
            "1      1        1.101425  1.098382      0.347439         0.184798   \n",
            "\n",
            "   val_f1_macro  val_precision  val_recall  time elapsed  \n",
            "0      0.170027        0.12758    0.347439    626.732201  \n",
            "1      0.170027        0.12758    0.347439    625.523883  \n",
            "----------------------------------------------------------------------\n",
            "\n",
            "\n",
            " Epoch  |  Batch  |  Train Loss  |  Val Loss  |  Val Acc  |  Elapsed \n",
            "----------------------------------------------------------------------\n",
            "   3    |  1000   |   1.099805   |     -      |     -     |  420.14  \n",
            "   3    |  1380   |   1.100085   |     -      |     -     |  159.39  \n",
            "----------------------------------------------------------------------\n",
            "   epoch  avg_train_loss  val_loss  val_accuracy  val_f1_weighted  \\\n",
            "0      0        1.104984  1.098155      0.347439         0.184798   \n",
            "1      1        1.101425  1.098382      0.347439         0.184798   \n",
            "2      2        1.099882  1.098237      0.347439         0.184798   \n",
            "\n",
            "   val_f1_macro  val_precision  val_recall  time elapsed  \n",
            "0      0.170027        0.12758    0.347439    626.732201  \n",
            "1      0.170027        0.12758    0.347439    625.523883  \n",
            "2      0.170027        0.12758    0.347439    624.898316  \n",
            "----------------------------------------------------------------------\n",
            "\n",
            "\n",
            " Epoch  |  Batch  |  Train Loss  |  Val Loss  |  Val Acc  |  Elapsed \n",
            "----------------------------------------------------------------------\n",
            "   4    |  1000   |   1.100079   |     -      |     -     |  418.99  \n",
            "   4    |  1380   |   1.099651   |     -      |     -     |  158.78  \n",
            "----------------------------------------------------------------------\n",
            "   epoch  avg_train_loss  val_loss  val_accuracy  val_f1_weighted  \\\n",
            "0      0        1.104984  1.098155      0.347439         0.184798   \n",
            "1      1        1.101425  1.098382      0.347439         0.184798   \n",
            "2      2        1.099882  1.098237      0.347439         0.184798   \n",
            "3      3        1.099961  1.097986      0.347439         0.184798   \n",
            "\n",
            "   val_f1_macro  val_precision  val_recall  time elapsed  \n",
            "0      0.170027        0.12758    0.347439    626.732201  \n",
            "1      0.170027        0.12758    0.347439    625.523883  \n",
            "2      0.170027        0.12758    0.347439    624.898316  \n",
            "3      0.170027        0.12758    0.347439    623.104331  \n",
            "----------------------------------------------------------------------\n",
            "\n",
            "\n",
            " Epoch  |  Batch  |  Train Loss  |  Val Loss  |  Val Acc  |  Elapsed \n",
            "----------------------------------------------------------------------\n"
          ]
        },
        {
          "data": {
            "text/html": [
              "<pre style=\"white-space:pre;overflow-x:auto;line-height:normal;font-family:Menlo,'DejaVu Sans Mono',consolas,'Courier New',monospace\"><span style=\"color: #800000; text-decoration-color: #800000\">╭─────────────────────────────── </span><span style=\"color: #800000; text-decoration-color: #800000; font-weight: bold\">Traceback </span><span style=\"color: #bf7f7f; text-decoration-color: #bf7f7f; font-weight: bold\">(most recent call last)</span><span style=\"color: #800000; text-decoration-color: #800000\"> ────────────────────────────────╮</span>\n",
              "<span style=\"color: #800000; text-decoration-color: #800000\">│</span> in <span style=\"color: #00ff00; text-decoration-color: #00ff00\">&lt;cell line: 1&gt;</span>:<span style=\"color: #0000ff; text-decoration-color: #0000ff\">1</span>                                                                              <span style=\"color: #800000; text-decoration-color: #800000\">│</span>\n",
              "<span style=\"color: #800000; text-decoration-color: #800000\">│</span> in <span style=\"color: #00ff00; text-decoration-color: #00ff00\">train</span>:<span style=\"color: #0000ff; text-decoration-color: #0000ff\">115</span>                                                                                     <span style=\"color: #800000; text-decoration-color: #800000\">│</span>\n",
              "<span style=\"color: #800000; text-decoration-color: #800000\">│</span>                                                                                                  <span style=\"color: #800000; text-decoration-color: #800000\">│</span>\n",
              "<span style=\"color: #800000; text-decoration-color: #800000\">│</span> <span style=\"color: #bfbf7f; text-decoration-color: #bfbf7f\">/usr/local/lib/python3.10/dist-packages/torch/</span><span style=\"color: #808000; text-decoration-color: #808000; font-weight: bold\">_tensor.py</span>:<span style=\"color: #0000ff; text-decoration-color: #0000ff\">487</span> in <span style=\"color: #00ff00; text-decoration-color: #00ff00\">backward</span>                         <span style=\"color: #800000; text-decoration-color: #800000\">│</span>\n",
              "<span style=\"color: #800000; text-decoration-color: #800000\">│</span>                                                                                                  <span style=\"color: #800000; text-decoration-color: #800000\">│</span>\n",
              "<span style=\"color: #800000; text-decoration-color: #800000\">│</span>   <span style=\"color: #7f7f7f; text-decoration-color: #7f7f7f\"> 484 │   │   │   │   </span>create_graph=create_graph,                                                <span style=\"color: #800000; text-decoration-color: #800000\">│</span>\n",
              "<span style=\"color: #800000; text-decoration-color: #800000\">│</span>   <span style=\"color: #7f7f7f; text-decoration-color: #7f7f7f\"> 485 │   │   │   │   </span>inputs=inputs,                                                            <span style=\"color: #800000; text-decoration-color: #800000\">│</span>\n",
              "<span style=\"color: #800000; text-decoration-color: #800000\">│</span>   <span style=\"color: #7f7f7f; text-decoration-color: #7f7f7f\"> 486 │   │   │   </span>)                                                                             <span style=\"color: #800000; text-decoration-color: #800000\">│</span>\n",
              "<span style=\"color: #800000; text-decoration-color: #800000\">│</span> <span style=\"color: #800000; text-decoration-color: #800000\">❱ </span> 487 <span style=\"color: #7f7f7f; text-decoration-color: #7f7f7f\">│   │   </span>torch.autograd.backward(                                                          <span style=\"color: #800000; text-decoration-color: #800000\">│</span>\n",
              "<span style=\"color: #800000; text-decoration-color: #800000\">│</span>   <span style=\"color: #7f7f7f; text-decoration-color: #7f7f7f\"> 488 │   │   │   </span><span style=\"color: #00ffff; text-decoration-color: #00ffff\">self</span>, gradient, retain_graph, create_graph, inputs=inputs                     <span style=\"color: #800000; text-decoration-color: #800000\">│</span>\n",
              "<span style=\"color: #800000; text-decoration-color: #800000\">│</span>   <span style=\"color: #7f7f7f; text-decoration-color: #7f7f7f\"> 489 │   │   </span>)                                                                                 <span style=\"color: #800000; text-decoration-color: #800000\">│</span>\n",
              "<span style=\"color: #800000; text-decoration-color: #800000\">│</span>   <span style=\"color: #7f7f7f; text-decoration-color: #7f7f7f\"> 490 </span>                                                                                          <span style=\"color: #800000; text-decoration-color: #800000\">│</span>\n",
              "<span style=\"color: #800000; text-decoration-color: #800000\">│</span>                                                                                                  <span style=\"color: #800000; text-decoration-color: #800000\">│</span>\n",
              "<span style=\"color: #800000; text-decoration-color: #800000\">│</span> <span style=\"color: #bfbf7f; text-decoration-color: #bfbf7f\">/usr/local/lib/python3.10/dist-packages/torch/autograd/</span><span style=\"color: #808000; text-decoration-color: #808000; font-weight: bold\">__init__.py</span>:<span style=\"color: #0000ff; text-decoration-color: #0000ff\">200</span> in <span style=\"color: #00ff00; text-decoration-color: #00ff00\">backward</span>               <span style=\"color: #800000; text-decoration-color: #800000\">│</span>\n",
              "<span style=\"color: #800000; text-decoration-color: #800000\">│</span>                                                                                                  <span style=\"color: #800000; text-decoration-color: #800000\">│</span>\n",
              "<span style=\"color: #800000; text-decoration-color: #800000\">│</span>   <span style=\"color: #7f7f7f; text-decoration-color: #7f7f7f\">197 │   # The reason we repeat same the comment below is that</span>                                  <span style=\"color: #800000; text-decoration-color: #800000\">│</span>\n",
              "<span style=\"color: #800000; text-decoration-color: #800000\">│</span>   <span style=\"color: #7f7f7f; text-decoration-color: #7f7f7f\">198 │   # some Python versions print out the first line of a multi-line function</span>               <span style=\"color: #800000; text-decoration-color: #800000\">│</span>\n",
              "<span style=\"color: #800000; text-decoration-color: #800000\">│</span>   <span style=\"color: #7f7f7f; text-decoration-color: #7f7f7f\">199 │   # calls in the traceback and some print out the last line</span>                              <span style=\"color: #800000; text-decoration-color: #800000\">│</span>\n",
              "<span style=\"color: #800000; text-decoration-color: #800000\">│</span> <span style=\"color: #800000; text-decoration-color: #800000\">❱ </span>200 <span style=\"color: #7f7f7f; text-decoration-color: #7f7f7f\">│   </span>Variable._execution_engine.run_backward(  <span style=\"color: #7f7f7f; text-decoration-color: #7f7f7f\"># Calls into the C++ engine to run the bac</span>   <span style=\"color: #800000; text-decoration-color: #800000\">│</span>\n",
              "<span style=\"color: #800000; text-decoration-color: #800000\">│</span>   <span style=\"color: #7f7f7f; text-decoration-color: #7f7f7f\">201 │   │   </span>tensors, grad_tensors_, retain_graph, create_graph, inputs,                        <span style=\"color: #800000; text-decoration-color: #800000\">│</span>\n",
              "<span style=\"color: #800000; text-decoration-color: #800000\">│</span>   <span style=\"color: #7f7f7f; text-decoration-color: #7f7f7f\">202 │   │   </span>allow_unreachable=<span style=\"color: #0000ff; text-decoration-color: #0000ff\">True</span>, accumulate_grad=<span style=\"color: #0000ff; text-decoration-color: #0000ff\">True</span>)  <span style=\"color: #7f7f7f; text-decoration-color: #7f7f7f\"># Calls into the C++ engine to ru</span>   <span style=\"color: #800000; text-decoration-color: #800000\">│</span>\n",
              "<span style=\"color: #800000; text-decoration-color: #800000\">│</span>   <span style=\"color: #7f7f7f; text-decoration-color: #7f7f7f\">203 </span>                                                                                           <span style=\"color: #800000; text-decoration-color: #800000\">│</span>\n",
              "<span style=\"color: #800000; text-decoration-color: #800000\">╰──────────────────────────────────────────────────────────────────────────────────────────────────╯</span>\n",
              "<span style=\"color: #ff0000; text-decoration-color: #ff0000; font-weight: bold\">KeyboardInterrupt</span>\n",
              "</pre>\n"
            ],
            "text/plain": [
              "\u001b[31m╭─\u001b[0m\u001b[31m──────────────────────────────\u001b[0m\u001b[31m \u001b[0m\u001b[1;31mTraceback \u001b[0m\u001b[1;2;31m(most recent call last)\u001b[0m\u001b[31m \u001b[0m\u001b[31m───────────────────────────────\u001b[0m\u001b[31m─╮\u001b[0m\n",
              "\u001b[31m│\u001b[0m in \u001b[92m<cell line: 1>\u001b[0m:\u001b[94m1\u001b[0m                                                                              \u001b[31m│\u001b[0m\n",
              "\u001b[31m│\u001b[0m in \u001b[92mtrain\u001b[0m:\u001b[94m115\u001b[0m                                                                                     \u001b[31m│\u001b[0m\n",
              "\u001b[31m│\u001b[0m                                                                                                  \u001b[31m│\u001b[0m\n",
              "\u001b[31m│\u001b[0m \u001b[2;33m/usr/local/lib/python3.10/dist-packages/torch/\u001b[0m\u001b[1;33m_tensor.py\u001b[0m:\u001b[94m487\u001b[0m in \u001b[92mbackward\u001b[0m                         \u001b[31m│\u001b[0m\n",
              "\u001b[31m│\u001b[0m                                                                                                  \u001b[31m│\u001b[0m\n",
              "\u001b[31m│\u001b[0m   \u001b[2m 484 \u001b[0m\u001b[2m│   │   │   │   \u001b[0mcreate_graph=create_graph,                                                \u001b[31m│\u001b[0m\n",
              "\u001b[31m│\u001b[0m   \u001b[2m 485 \u001b[0m\u001b[2m│   │   │   │   \u001b[0minputs=inputs,                                                            \u001b[31m│\u001b[0m\n",
              "\u001b[31m│\u001b[0m   \u001b[2m 486 \u001b[0m\u001b[2m│   │   │   \u001b[0m)                                                                             \u001b[31m│\u001b[0m\n",
              "\u001b[31m│\u001b[0m \u001b[31m❱ \u001b[0m 487 \u001b[2m│   │   \u001b[0mtorch.autograd.backward(                                                          \u001b[31m│\u001b[0m\n",
              "\u001b[31m│\u001b[0m   \u001b[2m 488 \u001b[0m\u001b[2m│   │   │   \u001b[0m\u001b[96mself\u001b[0m, gradient, retain_graph, create_graph, inputs=inputs                     \u001b[31m│\u001b[0m\n",
              "\u001b[31m│\u001b[0m   \u001b[2m 489 \u001b[0m\u001b[2m│   │   \u001b[0m)                                                                                 \u001b[31m│\u001b[0m\n",
              "\u001b[31m│\u001b[0m   \u001b[2m 490 \u001b[0m                                                                                          \u001b[31m│\u001b[0m\n",
              "\u001b[31m│\u001b[0m                                                                                                  \u001b[31m│\u001b[0m\n",
              "\u001b[31m│\u001b[0m \u001b[2;33m/usr/local/lib/python3.10/dist-packages/torch/autograd/\u001b[0m\u001b[1;33m__init__.py\u001b[0m:\u001b[94m200\u001b[0m in \u001b[92mbackward\u001b[0m               \u001b[31m│\u001b[0m\n",
              "\u001b[31m│\u001b[0m                                                                                                  \u001b[31m│\u001b[0m\n",
              "\u001b[31m│\u001b[0m   \u001b[2m197 \u001b[0m\u001b[2m│   \u001b[0m\u001b[2m# The reason we repeat same the comment below is that\u001b[0m                                  \u001b[31m│\u001b[0m\n",
              "\u001b[31m│\u001b[0m   \u001b[2m198 \u001b[0m\u001b[2m│   \u001b[0m\u001b[2m# some Python versions print out the first line of a multi-line function\u001b[0m               \u001b[31m│\u001b[0m\n",
              "\u001b[31m│\u001b[0m   \u001b[2m199 \u001b[0m\u001b[2m│   \u001b[0m\u001b[2m# calls in the traceback and some print out the last line\u001b[0m                              \u001b[31m│\u001b[0m\n",
              "\u001b[31m│\u001b[0m \u001b[31m❱ \u001b[0m200 \u001b[2m│   \u001b[0mVariable._execution_engine.run_backward(  \u001b[2m# Calls into the C++ engine to run the bac\u001b[0m   \u001b[31m│\u001b[0m\n",
              "\u001b[31m│\u001b[0m   \u001b[2m201 \u001b[0m\u001b[2m│   │   \u001b[0mtensors, grad_tensors_, retain_graph, create_graph, inputs,                        \u001b[31m│\u001b[0m\n",
              "\u001b[31m│\u001b[0m   \u001b[2m202 \u001b[0m\u001b[2m│   │   \u001b[0mallow_unreachable=\u001b[94mTrue\u001b[0m, accumulate_grad=\u001b[94mTrue\u001b[0m)  \u001b[2m# Calls into the C++ engine to ru\u001b[0m   \u001b[31m│\u001b[0m\n",
              "\u001b[31m│\u001b[0m   \u001b[2m203 \u001b[0m                                                                                           \u001b[31m│\u001b[0m\n",
              "\u001b[31m╰──────────────────────────────────────────────────────────────────────────────────────────────────╯\u001b[0m\n",
              "\u001b[1;91mKeyboardInterrupt\u001b[0m\n"
            ]
          },
          "metadata": {},
          "output_type": "display_data"
        }
      ],
      "source": [
        "# train(model= model,\n",
        "#       train_dataloader = train_dataloader,\n",
        "#       eval_dataloader = eval_dataloader,\n",
        "#       save_dir = PY_CUSTOM_ARABERT_MODEL_DIR,\n",
        "#       device = device,\n",
        "#       epochs = EPOCHS,\n",
        "#       checkpoint = None,\n",
        "#       evaluation = True\n",
        "#       )"
      ]
    },
    {
      "cell_type": "markdown",
      "metadata": {
        "id": "TvGvBo6xFXpf"
      },
      "source": [
        "### We considered the one without the classfication layer because it is much better"
      ]
    },
    {
      "cell_type": "code",
      "execution_count": null,
      "metadata": {
        "colab": {
          "base_uri": "https://localhost:8080/",
          "height": 689,
          "referenced_widgets": [
            "2f3030f192284a0ea6f11e0d041a4326",
            "be839fa25e554403a8c876399e8afe6a",
            "3f19acd78ac0433d8024b2094533e637",
            "c230e7709c1a4a8f886080667718442c",
            "fefe82673afb4ffc87196d65f18a1f58",
            "2c582206d77b4eca82747116b9d92f97",
            "a8422ac7b4d34bc3b8c6fec1cdb52663",
            "74d4b81b5dac44b996f04b304180e08c",
            "62a27f890e294f2bb91f261de75947bb",
            "38b6545e493d4a28b183c7a924a78573",
            "fad6139cf419474dbe169f215afa9d3a",
            "0a91aa1b91e9487ba645f49f02243f57",
            "527f9803392248c49c946f40cc79161b",
            "dbfd9c8ababb4a638647aa2fd1dbee8e",
            "a95b13a2f6f94c9899614cc12cfea43f",
            "1691e31950564e83affe6af325090313",
            "7808d43f54b442879a5149c71f9decd3",
            "f6c0c0c5d1b84e818c9b1b9460c1da10",
            "e6c03a9822694841a890c468bf15e13d",
            "1e1a7b52775e48a29a6bccb63bf4d184",
            "c0849afdbdc3475ba1fd70a215dfb732",
            "37b21ae26a194c2ca0f0a62c37635bea",
            "fb21ab7adf024eec8b23f1a6b3ff3a32",
            "cfc3e93a25524db49b95c07224e17fdc",
            "673767541d1b4829a435f8444b414928",
            "fa5bf5811ccb4ec89fd577f193807970",
            "2b9f8e0aea774222b9f3955a8e0c3c8f",
            "6446e34d64414413ab403ec14734850c",
            "f0be95aba66e4821848cdaec53615027",
            "56d86d8fd1bb4e789549d8faa2bd17b5",
            "dc9427c9146d4a7cae81a411993c27db",
            "f42acde8846143e18e65bf8f38fca0d2",
            "6e9ba8f475674ac395b221956254ff68",
            "e23453f1d8de40028a481eb12a52772b",
            "d2d537248a224bae9f96caee2f9d0c4c",
            "cfea942f940f46e4a37567876cb22355",
            "5c581e7e992044eb891da66910be4375",
            "35e2539e17a44fd7a660cf2bd31c9d84",
            "b965a57e09a54b0d8e2088e725f25448",
            "15c34935ffbb4b9cab6ed825d865f30c",
            "72b7103b4db3444e876b69ffbfe0a809",
            "071b656d403d4de1b204e8557774d999",
            "1c9a9f74672449d387b5bdbe0cc3bc04",
            "e2f5739bbd794b5bb77fff3a472e8d3a",
            "de825e2635364df8a1bd82a0def573bc",
            "38307ccf800643e0ae348ee06e64697c",
            "46b16b1a547b4e608331b18fb2259d61",
            "776ff434c2a14f43a879e99066401a49",
            "fdcce8746fd1428a9e3cb0477660fcbc",
            "087350141c794e02a5e3572026d50d7f",
            "5b276d9d2ada49719de5ddd4b8fd7092",
            "ef37dc9edcf24e6bb61e9f97024f4c27",
            "f3c0bb4ad3b84f3fbc143f7b6b4d7a93",
            "2210646963644fe1b12a77da957c2955",
            "3b8bfb30e78f4962bd6fc3af85e15ae5"
          ]
        },
        "id": "Cmg9pt3SExnu",
        "outputId": "f0f10734-5c5c-4c22-9300-ff877c07aec2",
        "collapsed": true
      },
      "outputs": [
        {
          "data": {
            "application/vnd.jupyter.widget-view+json": {
              "model_id": "2f3030f192284a0ea6f11e0d041a4326",
              "version_major": 2,
              "version_minor": 0
            },
            "text/plain": [
              "tokenizer_config.json:   0%|          | 0.00/637 [00:00<?, ?B/s]"
            ]
          },
          "metadata": {},
          "output_type": "display_data"
        },
        {
          "data": {
            "application/vnd.jupyter.widget-view+json": {
              "model_id": "0a91aa1b91e9487ba645f49f02243f57",
              "version_major": 2,
              "version_minor": 0
            },
            "text/plain": [
              "config.json:   0%|          | 0.00/578 [00:00<?, ?B/s]"
            ]
          },
          "metadata": {},
          "output_type": "display_data"
        },
        {
          "data": {
            "application/vnd.jupyter.widget-view+json": {
              "model_id": "fb21ab7adf024eec8b23f1a6b3ff3a32",
              "version_major": 2,
              "version_minor": 0
            },
            "text/plain": [
              "vocab.txt:   0%|          | 0.00/717k [00:00<?, ?B/s]"
            ]
          },
          "metadata": {},
          "output_type": "display_data"
        },
        {
          "data": {
            "application/vnd.jupyter.widget-view+json": {
              "model_id": "e23453f1d8de40028a481eb12a52772b",
              "version_major": 2,
              "version_minor": 0
            },
            "text/plain": [
              "tokenizer.json:   0%|          | 0.00/2.26M [00:00<?, ?B/s]"
            ]
          },
          "metadata": {},
          "output_type": "display_data"
        },
        {
          "data": {
            "application/vnd.jupyter.widget-view+json": {
              "model_id": "de825e2635364df8a1bd82a0def573bc",
              "version_major": 2,
              "version_minor": 0
            },
            "text/plain": [
              "special_tokens_map.json:   0%|          | 0.00/112 [00:00<?, ?B/s]"
            ]
          },
          "metadata": {},
          "output_type": "display_data"
        },
        {
          "ename": "OSError",
          "evalue": "Incorrect path_or_model_id: '/content/drive/MyDrive/Master/Sentiment/models/arabert/py/model/checkpoint-19302'. Please provide either the path to a local folder or the repo_id of a model on the Hub.",
          "output_type": "error",
          "traceback": [
            "\u001b[0;31m---------------------------------------------------------------------------\u001b[0m",
            "\u001b[0;31mHFValidationError\u001b[0m                         Traceback (most recent call last)",
            "\u001b[0;32m/usr/local/lib/python3.11/dist-packages/transformers/utils/hub.py\u001b[0m in \u001b[0;36mcached_file\u001b[0;34m(path_or_repo_id, filename, cache_dir, force_download, resume_download, proxies, token, revision, local_files_only, subfolder, repo_type, user_agent, _raise_exceptions_for_gated_repo, _raise_exceptions_for_missing_entries, _raise_exceptions_for_connection_errors, _commit_hash, **deprecated_kwargs)\u001b[0m\n\u001b[1;32m    341\u001b[0m         \u001b[0;31m# Load from URL or cache if already cached\u001b[0m\u001b[0;34m\u001b[0m\u001b[0;34m\u001b[0m\u001b[0m\n\u001b[0;32m--> 342\u001b[0;31m         resolved_file = hf_hub_download(\n\u001b[0m\u001b[1;32m    343\u001b[0m             \u001b[0mpath_or_repo_id\u001b[0m\u001b[0;34m,\u001b[0m\u001b[0;34m\u001b[0m\u001b[0;34m\u001b[0m\u001b[0m\n",
            "\u001b[0;32m/usr/local/lib/python3.11/dist-packages/huggingface_hub/utils/_validators.py\u001b[0m in \u001b[0;36m_inner_fn\u001b[0;34m(*args, **kwargs)\u001b[0m\n\u001b[1;32m    105\u001b[0m             \u001b[0;32mif\u001b[0m \u001b[0marg_name\u001b[0m \u001b[0;32min\u001b[0m \u001b[0;34m[\u001b[0m\u001b[0;34m\"repo_id\"\u001b[0m\u001b[0;34m,\u001b[0m \u001b[0;34m\"from_id\"\u001b[0m\u001b[0;34m,\u001b[0m \u001b[0;34m\"to_id\"\u001b[0m\u001b[0;34m]\u001b[0m\u001b[0;34m:\u001b[0m\u001b[0;34m\u001b[0m\u001b[0;34m\u001b[0m\u001b[0m\n\u001b[0;32m--> 106\u001b[0;31m                 \u001b[0mvalidate_repo_id\u001b[0m\u001b[0;34m(\u001b[0m\u001b[0marg_value\u001b[0m\u001b[0;34m)\u001b[0m\u001b[0;34m\u001b[0m\u001b[0;34m\u001b[0m\u001b[0m\n\u001b[0m\u001b[1;32m    107\u001b[0m \u001b[0;34m\u001b[0m\u001b[0m\n",
            "\u001b[0;32m/usr/local/lib/python3.11/dist-packages/huggingface_hub/utils/_validators.py\u001b[0m in \u001b[0;36mvalidate_repo_id\u001b[0;34m(repo_id)\u001b[0m\n\u001b[1;32m    153\u001b[0m     \u001b[0;32mif\u001b[0m \u001b[0mrepo_id\u001b[0m\u001b[0;34m.\u001b[0m\u001b[0mcount\u001b[0m\u001b[0;34m(\u001b[0m\u001b[0;34m\"/\"\u001b[0m\u001b[0;34m)\u001b[0m \u001b[0;34m>\u001b[0m \u001b[0;36m1\u001b[0m\u001b[0;34m:\u001b[0m\u001b[0;34m\u001b[0m\u001b[0;34m\u001b[0m\u001b[0m\n\u001b[0;32m--> 154\u001b[0;31m         raise HFValidationError(\n\u001b[0m\u001b[1;32m    155\u001b[0m             \u001b[0;34m\"Repo id must be in the form 'repo_name' or 'namespace/repo_name':\"\u001b[0m\u001b[0;34m\u001b[0m\u001b[0;34m\u001b[0m\u001b[0m\n",
            "\u001b[0;31mHFValidationError\u001b[0m: Repo id must be in the form 'repo_name' or 'namespace/repo_name': '/content/drive/MyDrive/Master/Sentiment/models/arabert/py/model/checkpoint-19302'. Use `repo_type` argument if needed.",
            "\nThe above exception was the direct cause of the following exception:\n",
            "\u001b[0;31mOSError\u001b[0m                                   Traceback (most recent call last)",
            "\u001b[0;32m<ipython-input-44-dd4dda0cb850>\u001b[0m in \u001b[0;36m<cell line: 0>\u001b[0;34m()\u001b[0m\n\u001b[1;32m      3\u001b[0m \u001b[0;31m# Instantiate tokenizer and model\u001b[0m\u001b[0;34m\u001b[0m\u001b[0;34m\u001b[0m\u001b[0m\n\u001b[1;32m      4\u001b[0m \u001b[0mtokenizer\u001b[0m \u001b[0;34m=\u001b[0m \u001b[0mAutoTokenizer\u001b[0m\u001b[0;34m.\u001b[0m\u001b[0mfrom_pretrained\u001b[0m\u001b[0;34m(\u001b[0m\u001b[0;34m'aubmindlab/bert-base-arabert'\u001b[0m\u001b[0;34m)\u001b[0m\u001b[0;34m\u001b[0m\u001b[0;34m\u001b[0m\u001b[0m\n\u001b[0;32m----> 5\u001b[0;31m \u001b[0mmodel\u001b[0m \u001b[0;34m=\u001b[0m \u001b[0mAutoModelForSequenceClassification\u001b[0m\u001b[0;34m.\u001b[0m\u001b[0mfrom_pretrained\u001b[0m\u001b[0;34m(\u001b[0m\u001b[0mPY_ARABERT_MODEL_DIR\u001b[0m \u001b[0;34m)\u001b[0m\u001b[0;34m\u001b[0m\u001b[0;34m\u001b[0m\u001b[0m\n\u001b[0m\u001b[1;32m      6\u001b[0m \u001b[0;34m\u001b[0m\u001b[0m\n\u001b[1;32m      7\u001b[0m \u001b[0msave_architecture_design\u001b[0m\u001b[0;34m(\u001b[0m\u001b[0msave_dir\u001b[0m \u001b[0;34m=\u001b[0m \u001b[0mPY_CUSTOM_ARABERT_MODEL_DIR\u001b[0m\u001b[0;34m,\u001b[0m\u001b[0mmodel_name\u001b[0m\u001b[0;34m=\u001b[0m\u001b[0;34m'AraBERT'\u001b[0m\u001b[0;34m,\u001b[0m\u001b[0mmodel\u001b[0m\u001b[0;34m=\u001b[0m\u001b[0mmodel\u001b[0m\u001b[0;34m)\u001b[0m\u001b[0;34m\u001b[0m\u001b[0;34m\u001b[0m\u001b[0m\n",
            "\u001b[0;32m/usr/local/lib/python3.11/dist-packages/transformers/models/auto/auto_factory.py\u001b[0m in \u001b[0;36mfrom_pretrained\u001b[0;34m(cls, pretrained_model_name_or_path, *model_args, **kwargs)\u001b[0m\n\u001b[1;32m    485\u001b[0m             \u001b[0;32mif\u001b[0m \u001b[0;32mnot\u001b[0m \u001b[0misinstance\u001b[0m\u001b[0;34m(\u001b[0m\u001b[0mconfig\u001b[0m\u001b[0;34m,\u001b[0m \u001b[0mPretrainedConfig\u001b[0m\u001b[0;34m)\u001b[0m\u001b[0;34m:\u001b[0m\u001b[0;34m\u001b[0m\u001b[0;34m\u001b[0m\u001b[0m\n\u001b[1;32m    486\u001b[0m                 \u001b[0;31m# We make a call to the config file first (which may be absent) to get the commit hash as soon as possible\u001b[0m\u001b[0;34m\u001b[0m\u001b[0;34m\u001b[0m\u001b[0m\n\u001b[0;32m--> 487\u001b[0;31m                 resolved_config_file = cached_file(\n\u001b[0m\u001b[1;32m    488\u001b[0m                     \u001b[0mpretrained_model_name_or_path\u001b[0m\u001b[0;34m,\u001b[0m\u001b[0;34m\u001b[0m\u001b[0;34m\u001b[0m\u001b[0m\n\u001b[1;32m    489\u001b[0m                     \u001b[0mCONFIG_NAME\u001b[0m\u001b[0;34m,\u001b[0m\u001b[0;34m\u001b[0m\u001b[0;34m\u001b[0m\u001b[0m\n",
            "\u001b[0;32m/usr/local/lib/python3.11/dist-packages/transformers/utils/hub.py\u001b[0m in \u001b[0;36mcached_file\u001b[0;34m(path_or_repo_id, filename, cache_dir, force_download, resume_download, proxies, token, revision, local_files_only, subfolder, repo_type, user_agent, _raise_exceptions_for_gated_repo, _raise_exceptions_for_missing_entries, _raise_exceptions_for_connection_errors, _commit_hash, **deprecated_kwargs)\u001b[0m\n\u001b[1;32m    406\u001b[0m         \u001b[0;32mraise\u001b[0m \u001b[0mEnvironmentError\u001b[0m\u001b[0;34m(\u001b[0m\u001b[0;34mf\"There was a specific connection error when trying to load {path_or_repo_id}:\\n{err}\"\u001b[0m\u001b[0;34m)\u001b[0m\u001b[0;34m\u001b[0m\u001b[0;34m\u001b[0m\u001b[0m\n\u001b[1;32m    407\u001b[0m     \u001b[0;32mexcept\u001b[0m \u001b[0mHFValidationError\u001b[0m \u001b[0;32mas\u001b[0m \u001b[0me\u001b[0m\u001b[0;34m:\u001b[0m\u001b[0;34m\u001b[0m\u001b[0;34m\u001b[0m\u001b[0m\n\u001b[0;32m--> 408\u001b[0;31m         raise EnvironmentError(\n\u001b[0m\u001b[1;32m    409\u001b[0m             \u001b[0;34mf\"Incorrect path_or_model_id: '{path_or_repo_id}'. Please provide either the path to a local folder or the repo_id of a model on the Hub.\"\u001b[0m\u001b[0;34m\u001b[0m\u001b[0;34m\u001b[0m\u001b[0m\n\u001b[1;32m    410\u001b[0m         ) from e\n",
            "\u001b[0;31mOSError\u001b[0m: Incorrect path_or_model_id: '/content/drive/MyDrive/Master/Sentiment/models/arabert/py/model/checkpoint-19302'. Please provide either the path to a local folder or the repo_id of a model on the Hub."
          ]
        }
      ],
      "source": [
        "# from transformers import AutoTokenizer, AutoModelForSequenceClassification\n",
        "\n",
        "# # Instantiate tokenizer and model\n",
        "# tokenizer = AutoTokenizer.from_pretrained('aubmindlab/bert-base-arabert')\n",
        "# model = AutoModelForSequenceClassification.from_pretrained(PY_ARABERT_MODEL_DIR )\n",
        "\n",
        "# save_architecture_design(save_dir = PY_CUSTOM_ARABERT_MODEL_DIR,model_name='AraBERT',model=model)\n"
      ]
    },
    {
      "cell_type": "code",
      "execution_count": null,
      "metadata": {
        "colab": {
          "base_uri": "https://localhost:8080/"
        },
        "id": "H3nblZuHFeup",
        "outputId": "dd6c72cc-c10e-4c2c-9fc1-f8f496910fa6"
      },
      "outputs": [
        {
          "data": {
            "text/plain": [
              "tensor([[-1.3145,  3.5075, -2.2048]], grad_fn=<AddmmBackward0>)"
            ]
          },
          "execution_count": 161,
          "metadata": {},
          "output_type": "execute_result"
        }
      ],
      "source": [
        "# # Use the loaded model for inference\n",
        "# inputs = tokenizer(\"مش بحبك\", return_tensors=\"pt\")\n",
        "# outputs = model(**inputs)\n",
        "# logits = outputs.logits\n",
        "# logits"
      ]
    },
    {
      "cell_type": "markdown",
      "metadata": {
        "id": "bwWz7xRTnkg1"
      },
      "source": [
        "### MAR-BERTV2 (arabert and marbert)\n",
        "\n",
        "> MARBERT is a large-scale pre-trained masked language model focused on both Dialectal Arabic (DA) and MSA. Arabic has multiple varieties. To train MARBERT, we randomly sample 1B Arabic tweets from a large in-house dataset of about 6B tweets. We only include tweets with at least 3 Arabic words, based on character string matching, regardless whether the tweet has non-Arabic string or not. That is, we do not remove non-Arabic so long as the tweet meets the 3 Arabic word criterion. The dataset makes up 128GB of text (15.6B tokens\n",
        "\n",
        "> Arabic-MARBERT-Sentiment Model is a Sentiment analysis model that was built by fine-tuning the MARBERT model. For the fine-tuning, I used KAUST dataset, which includes 3 labels(positive,negative,and neutral).\n",
        "\n",
        "> [hugging face](https://huggingface.co/Ammar-alhaj-aliarabic-MARBERT-sentiment)\n",
        "> [ARBERT & MARBERT: Deep Bidirectional Transformers for Arabic papers](https://aclanthology.org/2021.acl-long.551.pdf)\n"
      ]
    },
    {
      "cell_type": "code",
      "execution_count": null,
      "metadata": {
        "id": "aOvpHZI-nkg2"
      },
      "outputs": [],
      "source": [
        "MARBERT_model_huggingface_checkpoint='UBC-NLP/MARBERTv2'"
      ]
    },
    {
      "cell_type": "markdown",
      "metadata": {
        "id": "tslMndVhnkg3"
      },
      "source": [
        "#### MAR-BERT Subword Tokenization"
      ]
    },
    {
      "cell_type": "code",
      "execution_count": null,
      "metadata": {
        "colab": {
          "base_uri": "https://localhost:8080/",
          "height": 113,
          "referenced_widgets": [
            "202485195557452dbe9e0ef7884d6454",
            "118877587cdc4d6baf65121822f238c6",
            "7bd35813f1424d6f810465ce88426b58",
            "a76a68fc55c74040a7dda291cbe8a526",
            "bcadafa936ba4f04990fe78c4f9f4346",
            "fc41dcfff67d403b9b45c75e68730b55",
            "dc78beee0eca4133a090c6b9c504f8b9",
            "66a343f0542b439982b0e397b07c51a4",
            "4ac2385882974342b2f4dcb1981686eb",
            "7ae6ed2c69fb44d2810a1bd307afd51e",
            "d39649c689da41559ccb0c1337c78ea4",
            "2c074462a35542f58f63e50a6721432b",
            "5248d8b17bd54186961c95601c6babb0",
            "19593a1b751f4f8d840df3ede43f9bbd",
            "df695d3ed1604954993a3e7744172377",
            "991b9cd00cae4636871c9e2798ec71d7",
            "b77bf03c842146668b93dcc2f6f44a5e",
            "ac2e4753c2944c08bc6d8aa208355720",
            "c403358b032642dc9a3c8a9fff3466e2",
            "6968bc20a2474efbaa9900f659448ca2",
            "5ec303e489e54e1f99abaf8f31c6eef2",
            "9eb76e8d734a484686522264e24fea44",
            "c0b861142b86484aa7fef32f9b80b4ab",
            "1bdba25a1fe440be9c6e584be92fa5de",
            "f0a46e75f8fc4084be782adc7e37d0a1",
            "0c3428ff8f0b4089868ef2d31b7093da",
            "1b1d96415dc2448d83908be8ed2930f0",
            "42a967ad54984dd8ad245b357c58cac5",
            "67e4259658ad40e38be41907a4dc533a",
            "eb44aaebcc074776b7bd9c4825edfc15",
            "94ccb49141594aee9d2fa741e499a6c5",
            "c3b63c8f68a74f2d9105df32f4af6b46",
            "964eb2819e4e4a03819d8dce9334e9df"
          ]
        },
        "id": "827Hi1J2nkg3",
        "outputId": "7f0fed5c-d57e-4c08-d004-af3f681ac3e6"
      },
      "outputs": [
        {
          "output_type": "display_data",
          "data": {
            "text/plain": [
              "tokenizer_config.json:   0%|          | 0.00/439 [00:00<?, ?B/s]"
            ],
            "application/vnd.jupyter.widget-view+json": {
              "version_major": 2,
              "version_minor": 0,
              "model_id": "202485195557452dbe9e0ef7884d6454"
            }
          },
          "metadata": {}
        },
        {
          "output_type": "display_data",
          "data": {
            "text/plain": [
              "vocab.txt:   0%|          | 0.00/1.10M [00:00<?, ?B/s]"
            ],
            "application/vnd.jupyter.widget-view+json": {
              "version_major": 2,
              "version_minor": 0,
              "model_id": "2c074462a35542f58f63e50a6721432b"
            }
          },
          "metadata": {}
        },
        {
          "output_type": "display_data",
          "data": {
            "text/plain": [
              "special_tokens_map.json:   0%|          | 0.00/112 [00:00<?, ?B/s]"
            ],
            "application/vnd.jupyter.widget-view+json": {
              "version_major": 2,
              "version_minor": 0,
              "model_id": "c0b861142b86484aa7fef32f9b80b4ab"
            }
          },
          "metadata": {}
        }
      ],
      "source": [
        "tokenizer = AutoTokenizer.from_pretrained(MARBERT_model_huggingface_checkpoint)"
      ]
    },
    {
      "cell_type": "code",
      "execution_count": null,
      "metadata": {
        "colab": {
          "base_uri": "https://localhost:8080/",
          "height": 113,
          "referenced_widgets": [
            "ed8373559c074f66913996db98b383f1",
            "9ddf0dc98fa4456793d15d77163463d5",
            "05bf7c429d23435aaac64f54255b4a64",
            "2829b5ea28974f6d86f8d273660a32db",
            "434c4d0ba5154a14b3c14a4a5e14c2d6",
            "1c81901dbe04421ba19af7800b764a44",
            "99bc2e5a7a2749f6a2817f2eeb711c04",
            "e320ff96252b45db99ddb2b6cdef94af",
            "74e3e1e3d74c4ae7a8ec9d7aa213a40f",
            "a93369f676664c2e9fbd3f7a2cc8dd75",
            "8bf39bdcc43b49a5844616a828a3ceb4",
            "98e19786cda446e2ab47587fe86de046",
            "087ec94503f04603a003f8a7c05df37f",
            "e32175794a8542749e926ab51f35d338",
            "e42e0b67d24240c0b8d5ab7919423b37",
            "74f12438c72d49ee9edc04bff28fb8d6",
            "3a9392f4405640dd833b953a6b9d93e6",
            "502ea1530f35472598d5e05963c48eb6",
            "e8772efd5e1940379d3406946b751728",
            "8141ba9ea78840698df28d6d737e62ee",
            "13154f0b8de043629b93d829e8d367f7",
            "942b5591f0bd475baf71293b3b3ff141",
            "82b318556a024e4d85cc6c51fb2b17b5",
            "5fd2b6c356b54216a81775982ed167f2",
            "923b6f57055a462e8a038df7a5541897",
            "feb90e4dfb344492bb9050ee1a24d52b",
            "c9ad8b04666f4c9ab6133b41f0e341e0",
            "85bc166f9ca2422b9b2338cce2aa7f8e",
            "88d6ac312f1642818bc7dc88fb573d32",
            "3dec12b11bf544a6935f16b5bd296a5e",
            "f59495e099f84702b4b7b4d9c38bf520",
            "8cebec990fb640d5b0dd94057a3427ce",
            "b38cbaac38dc4513b45b0fdabce12d19"
          ]
        },
        "id": "U5wkTrdBnkg4",
        "outputId": "a3fa6544-33f6-4acd-9fc6-41cf872a0b69"
      },
      "outputs": [
        {
          "output_type": "display_data",
          "data": {
            "text/plain": [
              "  0%|          | 0/15714 [00:00<?, ?it/s]"
            ],
            "application/vnd.jupyter.widget-view+json": {
              "version_major": 2,
              "version_minor": 0,
              "model_id": "ed8373559c074f66913996db98b383f1"
            }
          },
          "metadata": {}
        },
        {
          "output_type": "display_data",
          "data": {
            "text/plain": [
              "  0%|          | 0/5238 [00:00<?, ?it/s]"
            ],
            "application/vnd.jupyter.widget-view+json": {
              "version_major": 2,
              "version_minor": 0,
              "model_id": "98e19786cda446e2ab47587fe86de046"
            }
          },
          "metadata": {}
        },
        {
          "output_type": "display_data",
          "data": {
            "text/plain": [
              "  0%|          | 0/5239 [00:00<?, ?it/s]"
            ],
            "application/vnd.jupyter.widget-view+json": {
              "version_major": 2,
              "version_minor": 0,
              "model_id": "82b318556a024e4d85cc6c51fb2b17b5"
            }
          },
          "metadata": {}
        }
      ],
      "source": [
        "PY_DATA_COLLATOR = DataCollatorWithPadding(tokenizer = tokenizer)\n",
        "train_dataloader , eval_dataloader ,test_dataloader  = data_loader(dataset,tokenizer)"
      ]
    },
    {
      "cell_type": "markdown",
      "metadata": {
        "id": "toBU9w8hnkg5"
      },
      "source": [
        "#### Training"
      ]
    },
    {
      "cell_type": "code",
      "execution_count": null,
      "metadata": {
        "colab": {
          "base_uri": "https://localhost:8080/"
        },
        "id": "ntKJ2uLSnkg5",
        "outputId": "3669a838-e016-4ec1-e2ec-95138bbb985a"
      },
      "outputs": [
        {
          "output_type": "stream",
          "name": "stdout",
          "text": [
            "-rw------- 1 root root 1952410453 Jun 22 06:15 /content/drive/MyDrive/Master1/Sentiment/custom_models/marbert/py/model/model_2/checkpoint-epoch-4.pt\n",
            "-rw------- 1 root root 1952410453 Jun 22 06:15 /content/drive/MyDrive/Master1/Sentiment/custom_models/marbert/py/model/model_2/checkpoint-epoch-3.pt\n",
            "-rw------- 1 root root 1952410453 Jun 22 06:15 /content/drive/MyDrive/Master1/Sentiment/custom_models/marbert/py/model/model_2/checkpoint-epoch-2.pt\n",
            "-rw------- 1 root root 1952410453 Jun 22 06:14 /content/drive/MyDrive/Master1/Sentiment/custom_models/marbert/py/model/model_2/checkpoint-epoch-1.pt\n"
          ]
        }
      ],
      "source": [
        "# The most recent checkpoint file will be listed at the top.\n",
        "!ls -lt {PY_CUSTOM_MARBERT_MODEL_DIR}checkpoint-*"
      ]
    },
    {
      "cell_type": "code",
      "execution_count": null,
      "metadata": {
        "colab": {
          "base_uri": "https://localhost:8080/",
          "height": 478,
          "referenced_widgets": [
            "4a21b253d0b64601b9727bd608544d41",
            "fe58d7b1403544ac88eca1891abed0fe",
            "2161ccd1b5ed4a04ad1ed6c6d69be9cf",
            "26567259f51341c09b236e0d4e6b3be8",
            "23db9a7971124c4ea99c514c6a5e75ab",
            "36634be93ab143aba64f1ea5639cfffc",
            "651d598116da49e7b2bd5b7e55df74eb",
            "66347ad44b6c4f06976eef3a2371aad2",
            "94c5ef04231c48e4afc01fbbf7a55cbe",
            "82875a9eccef4fb8a3ebd7c4df3a065e",
            "94d3f3c52ab74904b76ea5abdfe6fe79",
            "d1e29ae43b3d47938f2f8ef6c63b224f",
            "1bf1ed0cc86e454bab6419fa85abda86",
            "714b4f61de0e4020a70dca2f05a24a75",
            "9e122c795f584a46a053c669796c6135",
            "b337cd65609043bf8eb32e59440d9de9",
            "6c33872ad84c4219b1a99d1bc4832e48",
            "caf0eda0cc904447a76aa1fb8dda49c9",
            "f80853b405964679b0f207a79dd8c1fb",
            "497f2326e29144038f5ceddc9ea2d9f1",
            "3f413d81986f411cb60f367a56bfc7fb",
            "f30c50ac48d24b569bec4ac2ea33f40f",
            "adace337acd349af99c3e7d903351950",
            "56d00a0f1dca47999d2842db223a2ace",
            "cadce2e2e3f84b48852ac59383b6339c",
            "9922c3b68683411bb85fcb8477aaab75",
            "4b293b177a734a02aba57af58c66406f",
            "d0069b736bba45a1a74fda5f243c830d",
            "8f2e7858d1ae42bfbd4de976100ba3f9",
            "48a0e06577f4492195ecedc70add2445",
            "49f4cc4841e94ccb956c422cd2b2bb53",
            "4515e930318241b1b4504900d9ccdb79",
            "d03eab031dbb438cbeef0cc41332349d"
          ]
        },
        "id": "PHH5F1X4nkg6",
        "outputId": "2cdb4161-8fef-4f00-a441-6acdffdb466b"
      },
      "outputs": [
        {
          "output_type": "display_data",
          "data": {
            "text/plain": [
              "config.json:   0%|          | 0.00/757 [00:00<?, ?B/s]"
            ],
            "application/vnd.jupyter.widget-view+json": {
              "version_major": 2,
              "version_minor": 0,
              "model_id": "4a21b253d0b64601b9727bd608544d41"
            }
          },
          "metadata": {}
        },
        {
          "output_type": "display_data",
          "data": {
            "text/plain": [
              "pytorch_model.bin:   0%|          | 0.00/654M [00:00<?, ?B/s]"
            ],
            "application/vnd.jupyter.widget-view+json": {
              "version_major": 2,
              "version_minor": 0,
              "model_id": "d1e29ae43b3d47938f2f8ef6c63b224f"
            }
          },
          "metadata": {}
        },
        {
          "output_type": "stream",
          "name": "stdout",
          "text": [
            "There are 1 GPU(s) available.\n",
            "We will use the GPU: NVIDIA L4\n",
            "Mon Jun 23 10:48:03 2025       \n",
            "+-----------------------------------------------------------------------------------------+\n",
            "| NVIDIA-SMI 550.54.15              Driver Version: 550.54.15      CUDA Version: 12.4     |\n",
            "|-----------------------------------------+------------------------+----------------------+\n",
            "| GPU  Name                 Persistence-M | Bus-Id          Disp.A | Volatile Uncorr. ECC |\n",
            "| Fan  Temp   Perf          Pwr:Usage/Cap |           Memory-Usage | GPU-Util  Compute M. |\n",
            "|                                         |                        |               MIG M. |\n",
            "|=========================================+========================+======================|\n",
            "|   0  NVIDIA L4                      Off |   00000000:00:03.0 Off |                    0 |\n",
            "| N/A   62C    P0             30W /   72W |    4943MiB /  23034MiB |      0%      Default |\n",
            "|                                         |                        |                  N/A |\n",
            "+-----------------------------------------+------------------------+----------------------+\n",
            "                                                                                         \n",
            "+-----------------------------------------------------------------------------------------+\n",
            "| Processes:                                                                              |\n",
            "|  GPU   GI   CI        PID   Type   Process name                              GPU Memory |\n",
            "|        ID   ID                                                               Usage      |\n",
            "|=========================================================================================|\n",
            "+-----------------------------------------------------------------------------------------+\n"
          ]
        },
        {
          "output_type": "display_data",
          "data": {
            "text/plain": [
              "model.safetensors:   0%|          | 0.00/654M [00:00<?, ?B/s]"
            ],
            "application/vnd.jupyter.widget-view+json": {
              "version_major": 2,
              "version_minor": 0,
              "model_id": "adace337acd349af99c3e7d903351950"
            }
          },
          "metadata": {}
        }
      ],
      "source": [
        "set_seed(RANDOM_STATE)\n",
        "model , device = initialize_model(model_name = MARBERT_model_huggingface_checkpoint ,save_dir=PY_CUSTOM_MARBERT_MODEL_DIR)"
      ]
    },
    {
      "cell_type": "code",
      "execution_count": null,
      "metadata": {
        "colab": {
          "base_uri": "https://localhost:8080/",
          "height": 1000,
          "referenced_widgets": [
            "7892c86d5d1f4bb4917aa83b646a67da",
            "74fefdaecb8847daa3511708cf2690c5",
            "47fcd5749fc04211b6f51e6060ab8a9c",
            "e1ce2d3b99d94d61afb7ff0eec3937ef",
            "f46ef32314794be3b5ffd94289f2d495",
            "2f4e8874bd87422e8f1365c5255f140a",
            "ce910847934e420fb6c8c4afdb3eed87",
            "b8b240b7f3504ecc925f9b5f5c46e99f",
            "458edcfacbdf46eb8a09912e25a078dc",
            "be69d8c8bd7348a0b67a5554da75f446",
            "336630aff4e94c71b5009cae5ecbd2f4"
          ]
        },
        "id": "ILP38U5fnkg7",
        "outputId": "7b29b957-7d39-48af-965c-10efbc91b05d"
      },
      "outputs": [
        {
          "metadata": {
            "tags": null
          },
          "name": "stdout",
          "output_type": "stream",
          "text": [
            "total steps = 491 batches * 10 epochs = 4910 \t Batch Size 32\n"
          ]
        },
        {
          "data": {
            "application/vnd.jupyter.widget-view+json": {
              "model_id": "7892c86d5d1f4bb4917aa83b646a67da",
              "version_major": 2,
              "version_minor": 0
            },
            "text/plain": [
              "  0%|          | 0/4910 [00:00<?, ?it/s]"
            ]
          },
          "metadata": {},
          "output_type": "display_data"
        },
        {
          "output_type": "stream",
          "name": "stdout",
          "text": [
            "Start training...\n",
            "\n",
            " Epoch  |  Batch  |  Train Loss  |  Val Loss  |  Val Acc  |  Elapsed \n",
            "----------------------------------------------------------------------\n",
            "   1    |   490   |   0.572644   |     -      |     -     |  109.79  \n",
            "----------------------------------------------------------------------\n",
            "   epoch  avg_train_loss  val_loss  val_accuracy  val_f1_weighted  \\\n",
            "0      0        0.572644  0.467262      0.814752         0.815283   \n",
            "\n",
            "   val_f1_macro  val_precision  val_recall  time elapsed  \n",
            "0      0.806143       0.832034    0.814752    120.772897  \n",
            "----------------------------------------------------------------------\n",
            "\n",
            "\n",
            " Epoch  |  Batch  |  Train Loss  |  Val Loss  |  Val Acc  |  Elapsed \n",
            "----------------------------------------------------------------------\n",
            "   2    |   490   |   0.337783   |     -      |     -     |  110.41  \n",
            "----------------------------------------------------------------------\n",
            "   epoch  avg_train_loss  val_loss  val_accuracy  val_f1_weighted  \\\n",
            "0      0        0.572644  0.467262      0.814752         0.815283   \n",
            "1      1        0.337783  0.553301      0.811703         0.811021   \n",
            "\n",
            "   val_f1_macro  val_precision  val_recall  time elapsed  \n",
            "0      0.806143       0.832034    0.814752    120.772897  \n",
            "1      0.801240       0.826186    0.811703    121.467794  \n",
            "----------------------------------------------------------------------\n",
            "\n",
            "\n",
            " Epoch  |  Batch  |  Train Loss  |  Val Loss  |  Val Acc  |  Elapsed \n",
            "----------------------------------------------------------------------\n",
            "   3    |   490   |   0.202228   |     -      |     -     |  110.49  \n",
            "----------------------------------------------------------------------\n",
            "   epoch  avg_train_loss  val_loss  val_accuracy  val_f1_weighted  \\\n",
            "0      0        0.572644  0.467262      0.814752         0.815283   \n",
            "1      1        0.337783  0.553301      0.811703         0.811021   \n",
            "2      2        0.202228  0.650414      0.817887         0.817578   \n",
            "\n",
            "   val_f1_macro  val_precision  val_recall  time elapsed  \n",
            "0      0.806143       0.832034    0.814752    120.772897  \n",
            "1      0.801240       0.826186    0.811703    121.467794  \n",
            "2      0.807911       0.832045    0.817887    121.567376  \n",
            "----------------------------------------------------------------------\n",
            "\n",
            "\n",
            " Epoch  |  Batch  |  Train Loss  |  Val Loss  |  Val Acc  |  Elapsed \n",
            "----------------------------------------------------------------------\n",
            "   4    |   490   |   0.129290   |     -      |     -     |  110.48  \n",
            "----------------------------------------------------------------------\n",
            "   epoch  avg_train_loss  val_loss  val_accuracy  val_f1_weighted  \\\n",
            "0      0        0.572644  0.467262      0.814752         0.815283   \n",
            "1      1        0.337783  0.553301      0.811703         0.811021   \n",
            "2      2        0.202228  0.650414      0.817887         0.817578   \n",
            "3      3        0.129290  0.822684      0.811409         0.810210   \n",
            "\n",
            "   val_f1_macro  val_precision  val_recall  time elapsed  \n",
            "0      0.806143       0.832034    0.814752    120.772897  \n",
            "1      0.801240       0.826186    0.811703    121.467794  \n",
            "2      0.807911       0.832045    0.817887    121.567376  \n",
            "3      0.800157       0.827412    0.811409    121.529984  \n",
            "----------------------------------------------------------------------\n",
            "\n",
            "\n",
            " Epoch  |  Batch  |  Train Loss  |  Val Loss  |  Val Acc  |  Elapsed \n",
            "----------------------------------------------------------------------\n",
            "   5    |   490   |   0.092805   |     -      |     -     |  110.45  \n",
            "----------------------------------------------------------------------\n",
            "   epoch  avg_train_loss  val_loss  val_accuracy  val_f1_weighted  \\\n",
            "0      0        0.572644  0.467262      0.814752         0.815283   \n",
            "1      1        0.337783  0.553301      0.811703         0.811021   \n",
            "2      2        0.202228  0.650414      0.817887         0.817578   \n",
            "3      3        0.129290  0.822684      0.811409         0.810210   \n",
            "4      4        0.092805  0.936963      0.808845         0.807210   \n",
            "\n",
            "   val_f1_macro  val_precision  val_recall  time elapsed  \n",
            "0      0.806143       0.832034    0.814752    120.772897  \n",
            "1      0.801240       0.826186    0.811703    121.467794  \n",
            "2      0.807911       0.832045    0.817887    121.567376  \n",
            "3      0.800157       0.827412    0.811409    121.529984  \n",
            "4      0.797219       0.824004    0.808845    121.517315  \n",
            "----------------------------------------------------------------------\n",
            "\n",
            "\n",
            " Epoch  |  Batch  |  Train Loss  |  Val Loss  |  Val Acc  |  Elapsed \n",
            "----------------------------------------------------------------------\n",
            "   6    |   490   |   0.071482   |     -      |     -     |  110.59  \n",
            "----------------------------------------------------------------------\n",
            "   epoch  avg_train_loss  val_loss  val_accuracy  val_f1_weighted  \\\n",
            "0      0        0.572644  0.467262      0.814752         0.815283   \n",
            "1      1        0.337783  0.553301      0.811703         0.811021   \n",
            "2      2        0.202228  0.650414      0.817887         0.817578   \n",
            "3      3        0.129290  0.822684      0.811409         0.810210   \n",
            "4      4        0.092805  0.936963      0.808845         0.807210   \n",
            "5      5        0.071482  0.911341      0.808464         0.807937   \n",
            "\n",
            "   val_f1_macro  val_precision  val_recall  time elapsed  \n",
            "0      0.806143       0.832034    0.814752    120.772897  \n",
            "1      0.801240       0.826186    0.811703    121.467794  \n",
            "2      0.807911       0.832045    0.817887    121.567376  \n",
            "3      0.800157       0.827412    0.811409    121.529984  \n",
            "4      0.797219       0.824004    0.808845    121.517315  \n",
            "5      0.797135       0.822184    0.808464    121.601891  \n",
            "----------------------------------------------------------------------\n",
            "\n",
            "\n",
            " Epoch  |  Batch  |  Train Loss  |  Val Loss  |  Val Acc  |  Elapsed \n",
            "----------------------------------------------------------------------\n",
            "   7    |   490   |   0.052241   |     -      |     -     |  110.57  \n",
            "----------------------------------------------------------------------\n",
            "   epoch  avg_train_loss  val_loss  val_accuracy  val_f1_weighted  \\\n",
            "0      0        0.572644  0.467262      0.814752         0.815283   \n",
            "1      1        0.337783  0.553301      0.811703         0.811021   \n",
            "2      2        0.202228  0.650414      0.817887         0.817578   \n",
            "3      3        0.129290  0.822684      0.811409         0.810210   \n",
            "4      4        0.092805  0.936963      0.808845         0.807210   \n",
            "5      5        0.071482  0.911341      0.808464         0.807937   \n",
            "6      6        0.052241  0.975959      0.812275         0.811680   \n",
            "\n",
            "   val_f1_macro  val_precision  val_recall  time elapsed  \n",
            "0      0.806143       0.832034    0.814752    120.772897  \n",
            "1      0.801240       0.826186    0.811703    121.467794  \n",
            "2      0.807911       0.832045    0.817887    121.567376  \n",
            "3      0.800157       0.827412    0.811409    121.529984  \n",
            "4      0.797219       0.824004    0.808845    121.517315  \n",
            "5      0.797135       0.822184    0.808464    121.601891  \n",
            "6      0.801229       0.828481    0.812275    121.553437  \n",
            "----------------------------------------------------------------------\n",
            "\n",
            "\n",
            "Early stopping at epoch 6 best epoch is 2\n",
            "Training complete!\n",
            "loading the best model of epoch 3 based on it's best accuracy 0.8178873337028826\n",
            "   epoch  avg_train_loss  val_loss  val_accuracy  val_f1_weighted  \\\n",
            "0      0        0.572644  0.467262      0.814752         0.815283   \n",
            "1      1        0.337783  0.553301      0.811703         0.811021   \n",
            "2      2        0.202228  0.650414      0.817887         0.817578   \n",
            "3      3        0.129290  0.822684      0.811409         0.810210   \n",
            "4      4        0.092805  0.936963      0.808845         0.807210   \n",
            "5      5        0.071482  0.911341      0.808464         0.807937   \n",
            "6      6        0.052241  0.975959      0.812275         0.811680   \n",
            "\n",
            "   val_f1_macro  val_precision  val_recall  time elapsed  \n",
            "0      0.806143       0.832034    0.814752    120.772897  \n",
            "1      0.801240       0.826186    0.811703    121.467794  \n",
            "2      0.807911       0.832045    0.817887    121.567376  \n",
            "3      0.800157       0.827412    0.811409    121.529984  \n",
            "4      0.797219       0.824004    0.808845    121.517315  \n",
            "5      0.797135       0.822184    0.808464    121.601891  \n",
            "6      0.801229       0.828481    0.812275    121.553437  \n"
          ]
        }
      ],
      "source": [
        "train(model= model,\n",
        "      train_dataloader = train_dataloader,\n",
        "      eval_dataloader = eval_dataloader,\n",
        "      save_dir = PY_CUSTOM_MARBERT_MODEL_DIR,\n",
        "      device = device,\n",
        "      epochs = EPOCHS,\n",
        "      checkpoint = None,\n",
        "      evaluation = True\n",
        "      )"
      ]
    },
    {
      "cell_type": "code",
      "execution_count": null,
      "metadata": {
        "colab": {
          "base_uri": "https://localhost:8080/",
          "height": 49,
          "referenced_widgets": [
            "eb54dd1c366349ef846f3a23230bd7cb",
            "8dc577a6a8004b7d846c2ed6e72e6e72",
            "9e77ca539d0c4478949e675e11b57f6f",
            "2f3b230dd9cf47898dce6798e4f41f79",
            "0b43bc18efa045b49e2ca5b564e3f9b5",
            "1bd5207e99bc426b91bbc5e0c71c35c1",
            "a5f6fe4d2dfc43a5a1ff4acb63f90d15",
            "0ca6ffe794254dbda4e827e36516b04e",
            "f92b7ad537e548de80bb84ca5b2a7b27",
            "2f36ebd91ad04983a1f7a902912e2dc4",
            "6d8c0bf58fd447e88699685591d970c8"
          ]
        },
        "id": "GHENseRF8FOW",
        "outputId": "64f07492-3311-4bbb-e874-aecd1838b80b"
      },
      "outputs": [
        {
          "output_type": "display_data",
          "data": {
            "text/plain": [
              "  0%|          | 0/164 [00:00<?, ?it/s]"
            ],
            "application/vnd.jupyter.widget-view+json": {
              "version_major": 2,
              "version_minor": 0,
              "model_id": "eb54dd1c366349ef846f3a23230bd7cb"
            }
          },
          "metadata": {}
        }
      ],
      "source": [
        "tensor , ytest = bert_predict(model, test_dataloader,device)\n"
      ]
    },
    {
      "cell_type": "code",
      "execution_count": null,
      "metadata": {
        "colab": {
          "base_uri": "https://localhost:8080/",
          "height": 709
        },
        "id": "yxLpMNkn8PI4",
        "outputId": "2c37a018-f633-403d-bb38-9a5eb2395a8f"
      },
      "outputs": [
        {
          "output_type": "display_data",
          "data": {
            "text/plain": [
              "<Figure size 800x500 with 2 Axes>"
            ],
            "image/png": "[encoded data removed]"
          },
          "metadata": {}
        },
        {
          "output_type": "stream",
          "name": "stdout",
          "text": [
            "              precision    recall  f1-score   support\n",
            "\n",
            "    positive       0.86      0.82      0.84      1800\n",
            "    negative       0.80      0.85      0.83      1800\n",
            "     neutral       0.79      0.77      0.78      1639\n",
            "\n",
            "    accuracy                           0.82      5239\n",
            "   macro avg       0.82      0.82      0.82      5239\n",
            "weighted avg       0.82      0.82      0.82      5239\n",
            "\n"
          ]
        }
      ],
      "source": [
        "print_classification_report(ytest, PY_CUSTOM_MARBERT_MODEL_DIR, 'Marbert_classification_report')"
      ]
    },
    {
      "cell_type": "code",
      "execution_count": null,
      "metadata": {
        "id": "d0-k2tob8qtZ"
      },
      "outputs": [],
      "source": [
        "show_confusion_matrix(ytest,title = 'confusion matrix - MarBERT',save_dir=PY_CUSTOM_MARBERT_MODEL_DIR)"
      ]
    },
    {
      "cell_type": "code",
      "source": [
        "# prompt: now, write the code for print the output result of our model camelbert-da (accuracy, precision, f1score, recall)\n",
        "\n",
        "# Evaluate the model on the test set and get the performance metrics\n",
        "results_df = evaluate_test(model, test_dataloader, PY_CUSTOM_MARBERT_MODEL_DIR, device)\n",
        "\n",
        "# Print the results\n",
        "print(\"\\nPerformance Metrics for MARBERTv2 Model:\")\n",
        "results_df\n"
      ],
      "metadata": {
        "colab": {
          "base_uri": "https://localhost:8080/"
        },
        "id": "ebkfb4GIVluu",
        "outputId": "5ac3cf7b-8ab3-4fa1-9f93-225f12dd2641"
      },
      "execution_count": null,
      "outputs": [
        {
          "output_type": "stream",
          "name": "stdout",
          "text": [
            "       loss  accuracy  f1_weighted  f1_macro  precision    recall\n",
            "0  0.978129  0.816849     0.816499  0.808441   0.831231  0.816849\n",
            "\n",
            "Performance Metrics for MARBERTv2 Model:\n"
          ]
        },
        {
          "output_type": "execute_result",
          "data": {
            "text/plain": [
              "[{'loss': np.float64(0.978128689454823),\n",
              "  'accuracy': np.float64(0.8168494830328739),\n",
              "  'f1_weighted': np.float64(0.8164992623529767),\n",
              "  'f1_macro': np.float64(0.8084409767635076),\n",
              "  'precision': np.float64(0.8312314085515811),\n",
              "  'recall': np.float64(0.8168494830328739)}]"
            ]
          },
          "metadata": {},
          "execution_count": 121
        }
      ]
    },
    {
      "cell_type": "code",
      "execution_count": null,
      "metadata": {
        "collapsed": true,
        "id": "Ggb-VRu0nkg9"
      },
      "outputs": [],
      "source": [
        "# # plot the training and validation loss/metrics over epochs\n",
        "# import matplotlib.pyplot as plt\n",
        "\n",
        "\n",
        "# train_history = model.state.log_history\n",
        "\n",
        "# # `train_history` is a list of dictionaries containing the training history\n",
        "# # including the loss and other metrics\n",
        "# train_loss = [x['loss'] for x in train_history if 'loss' in x and 'eval_loss' in x]\n",
        "# eval_accuracy = [x['eval_accuracy'] for x in train_history if 'eval_accuracy' in x]\n",
        "# eval_loss = [x['eval_loss'] for x in train_history if 'eval_loss' in x]\n",
        "\n",
        "\n",
        "\n",
        "# # Plot the loss curves\n",
        "# plt.plot(eval_loss, label='Validation loss')\n",
        "\n",
        "# plt.plot(eval_accuracy, label='Validation accuracy')\n",
        "# plt.xlabel('Epoch')\n",
        "# plt.ylabel('Loss')\n",
        "# plt.legend()\n",
        "# plt.show()\n"
      ]
    },
    {
      "cell_type": "code",
      "execution_count": null,
      "metadata": {
        "id": "kvVRpEBSnkg9"
      },
      "outputs": [],
      "source": [
        "# evaluate the model on the test dataset\n",
        "# if trainer.state.epochs:\n",
        "#   result = trainer.evaluate(tokenized_datasets['test'])\n",
        "#   print(f'evaulatuin loss : {result[\"eval_loss\"]}  , evaluation accuracy:{result[\"eval_accuracy\"]}')"
      ]
    },
    {
      "cell_type": "markdown",
      "metadata": {
        "id": "rDpgh3otJzDx"
      },
      "source": [
        "# Ensemble Method"
      ]
    },
    {
      "cell_type": "code",
      "execution_count": null,
      "metadata": {
        "id": "yI0KkuUANiF5"
      },
      "outputs": [],
      "source": [
        "CAMEL_DA_model_huggingface_checkpoint='CAMeL-Lab/bert-base-arabic-camelbert-da-sentiment'\n",
        "#ARABERT_model_huggingface_checkpoint='Yousefmd/arabert-sentiment-analysis'\n",
        "MARBERT_model_huggingface_checkpoint='UBC-NLP/MARBERTv2'\n",
        "CAMEL_MIX_model_huggingface_checkpoint='CAMeL-Lab/bert-base-arabic-camelbert-mix-sentiment'\n",
        "ALANZI_model_huggingface_checkpoint='ALANZI/imamu_arabic_sentimentAnalysis'\n",
        "#qarib_model_huggingface_checkpoint = 'ahmedabdelali/bert-base-qarib'\n",
        "#Giga_bert_model_huggingface_checkpoint ='lanwuwei/GigaBERT-v3-Arabic-and-English'\n",
        "\n"
      ]
    },
    {
      "cell_type": "markdown",
      "metadata": {
        "id": "KK4mX-GkTVST"
      },
      "source": [
        "#### CAMEL-BERT-MIX Subword Tokenization"
      ]
    },
    {
      "cell_type": "code",
      "execution_count": null,
      "metadata": {
        "id": "NGDaHZsNTVSU"
      },
      "outputs": [],
      "source": [
        "tokenizer = AutoTokenizer.from_pretrained(CAMEL_MIX_model_huggingface_checkpoint)"
      ]
    },
    {
      "cell_type": "code",
      "execution_count": null,
      "metadata": {
        "id": "TB_bI1SGTVSV"
      },
      "outputs": [],
      "source": [
        "train_dataloader , eval_dataloader ,test_dataloader  = data_loader(dataset,tokenizer)"
      ]
    },
    {
      "cell_type": "markdown",
      "metadata": {
        "id": "rs_wutl2TZZg"
      },
      "source": [
        "### Models"
      ]
    },
    {
      "cell_type": "code",
      "execution_count": null,
      "metadata": {
        "id": "c1vP85mTMAmc"
      },
      "outputs": [],
      "source": [
        "set_seed(RANDOM_STATE)\n",
        "from transformers import AutoTokenizer, AutoModelForSequenceClassification\n",
        "\n",
        "CAMEL_MIX_model,device = initialize_model(save_dir = PY_CUSTOM_CAMEL_MIX_MODEL_DIR,model_name = CAMEL_MIX_model_huggingface_checkpoint )\n",
        "CAMEL_DA_model , _ = initialize_model(save_dir = PY_CUSTOM_CAMEL_MODEL_DIR,model_name = CAMEL_DA_model_huggingface_checkpoint )\n",
        "MARBERT_model ,_ =initialize_model(save_dir = PY_CUSTOM_MARBERT_MODEL_DIR,model_name = MARBERT_model_huggingface_checkpoint )\n",
        "ALANZI_model ,_=initialize_model(save_dir = PY_CUSTOM_ALANZI_MODEL_DIR,model_name = ALANZI_model_huggingface_checkpoint )\n",
        "#Qarib_model ,_=initialize_model(save_dir = PY_CUSTOM_Qarib_MODEL_DIR,model_name = qarib_model_huggingface_checkpoint )\n",
        "#Giga_model ,_=initialize_model(save_dir = PY_CUSTOM_Giga_bert_MODEL_DIR,model_name = Giga_bert_model_huggingface_checkpoint )"
      ]
    },
    {
      "cell_type": "code",
      "execution_count": null,
      "metadata": {
        "id": "NXuRlqRnJ2lT"
      },
      "outputs": [],
      "source": [
        "best_model_path = \"best_model.pth\"\n",
        "CAMEL_MIX_model = load_model_from_checkpoint(CAMEL_MIX_model,save_dir = PY_CUSTOM_CAMEL_MIX_MODEL_DIR,checkpoint=best_model_path)\n",
        "CAMEL_DA_model =  load_model_from_checkpoint(CAMEL_DA_model,save_dir = PY_CUSTOM_CAMEL_MODEL_DIR,checkpoint=best_model_path)\n",
        "MARBERT_model = load_model_from_checkpoint(MARBERT_model,save_dir = PY_CUSTOM_MARBERT_MODEL_DIR,checkpoint=best_model_path)\n",
        "ALANZI_model = load_model_from_checkpoint(ALANZI_model,save_dir = PY_CUSTOM_ALANZI3_MODEL_DIR,checkpoint=best_model_path)\n",
        "#Qarib_model = load_model_from_checkpoint(Qarib_model,save_dir = PY_CUSTOM_Qarib_MODEL_DIR,checkpoint=best_model_path)\n",
        "#Giga_model = load_model_from_checkpoint(Giga_model,save_dir = PY_CUSTOM_Giga_bert_MODEL_DIR,checkpoint=best_model_path)\n",
        "\n"
      ]
    },
    {
      "cell_type": "markdown",
      "metadata": {
        "id": "9TulrHD-VsLn"
      },
      "source": [
        "#### Evaluating"
      ]
    },
    {
      "cell_type": "code",
      "execution_count": null,
      "metadata": {
        "id": "tkWY-sPBT4jr"
      },
      "outputs": [],
      "source": [
        "ensemble_models = [\n",
        "                   #ARABERT_model,\n",
        "                   CAMEL_MIX_model,\n",
        "                   CAMEL_DA_model,\n",
        "                   MARBERT_model,\n",
        "                   ALANZI_model,\n",
        "                   #Qarib_model\n",
        "\n",
        "                   ]\n"
      ]
    },
    {
      "cell_type": "code",
      "execution_count": null,
      "metadata": {
        "id": "WLz7mFtsr-E4"
      },
      "outputs": [],
      "source": [
        "for model in ensemble_models:\n",
        "  print(model.model_name)\n",
        "  df = evaluate_test(model, test_dataloader ,save_dir=PY_ENSEMBLE_MODEL_DIR1,device=device)\n"
      ]
    },
    {
      "cell_type": "code",
      "execution_count": null,
      "metadata": {
        "id": "myhrDQvvsACh"
      },
      "outputs": [],
      "source": [
        "tensor , y_pred,df,contribution_percentages = ensemble_bert_predict(ensemble_models, test_dataloader, device,save_dir=PY_ENSEMBLE_MODEL_DIR1 ,is_accuracy=True)\n",
        "df.head(len(ensemble_models))"
      ]
    },
    {
      "cell_type": "code",
      "execution_count": null,
      "metadata": {
        "id": "IUa6FR5MVsLo"
      },
      "outputs": [],
      "source": [
        "print_classification_report(y_pred,save_dir=PY_ENSEMBLE_MODEL_DIR1,title='Classification Report - Ensemble Model')"
      ]
    },
    {
      "cell_type": "code",
      "execution_count": null,
      "metadata": {
        "id": "Y4QqHwODVsLp"
      },
      "outputs": [],
      "source": [
        "show_confusion_matrix(y_pred,title = 'Confusion Matrix - Ensemble Model',save_dir = PY_ENSEMBLE_MODEL_DIR1)"
      ]
    },
    {
      "cell_type": "markdown",
      "source": [
        "##unweighted Average"
      ],
      "metadata": {
        "id": "tRzJ6LydTmFY"
      }
    },
    {
      "cell_type": "code",
      "source": [
        "def ensemble_bert_predict_unweighted(models: List[nn.Module],\n",
        "                                     test_dataloader: DataLoader,\n",
        "                                     device,\n",
        "                                     save_dir: str,\n",
        "                                     is_accuracy: Optional[bool] = True\n",
        "                                    ) -> Tuple[List[float], List[float], pd.DataFrame, List[float]]:\n",
        "    \"\"\"\n",
        "    Perform an unweighted ensemble (equal contribution) of multiple BERT models.\n",
        "    Args:\n",
        "        models: list of trained BERT models\n",
        "        test_dataloader: DataLoader for test set\n",
        "        device: torch device ('cpu' or 'cuda')\n",
        "        save_dir: path to save results\n",
        "        is_accuracy: if True, calculates accuracy per model (but does not affect weighting)\n",
        "    Returns:\n",
        "        tensor: ensembled predicted probabilities\n",
        "        ytest: predicted labels\n",
        "        df: DataFrame with model names and equal contribution percentages\n",
        "        contribution_percentages: list of equal weights for all models\n",
        "    \"\"\"\n",
        "    # Equal contribution\n",
        "    contribution_percentages = [round(1/len(models), 2)] * len(models)\n",
        "\n",
        "    # Optional: calculate each model's accuracy (just for info)\n",
        "    accuracies = []\n",
        "    if is_accuracy:\n",
        "        print(\"Calculating individual model accuracies (not used for weighting)...\")\n",
        "        for model in models:\n",
        "            model.eval()\n",
        "            correct, total = 0, 0\n",
        "            progress_bar = ProgressBar(range(len(test_dataloader)))\n",
        "            for batch in test_dataloader:\n",
        "                b_input_ids, b_attn_mask = tuple(sample.to(device) for sample in batch)[:2]\n",
        "                with torch.no_grad():\n",
        "                    logits = model(b_input_ids, b_attn_mask)\n",
        "                if model.model_name == 'AraBERT':\n",
        "                    predicted = torch.argmax(logits.logits, dim=1)\n",
        "                else:\n",
        "                    _, predicted = torch.max(logits.data, 1)\n",
        "                total += b_input_ids.size(0)\n",
        "                correct += (predicted == batch[-1].to(device)).sum().item()\n",
        "                progress_bar.update(1)\n",
        "            accuracies.append(correct / total)\n",
        "\n",
        "    # Save model info\n",
        "    df_path = os.path.join(save_dir, \"Models'_Accuracies.csv\")\n",
        "    data = []\n",
        "    for i in range(len(models)):\n",
        "        data.append({\n",
        "            'name': models[i].model_name,\n",
        "            'contribution_percentage': contribution_percentages[i],\n",
        "            'accuracy': accuracies[i] if is_accuracy else contribution_percentages[i]\n",
        "        })\n",
        "    df = pd.DataFrame(data)\n",
        "    df.to_csv(df_path, index=False)\n",
        "    print(f\"Saved Models' Accuracies in {df_path}\")\n",
        "\n",
        "    # Inference - Equal averaging\n",
        "    for model in models:\n",
        "        model.eval()\n",
        "\n",
        "    all_logits = []\n",
        "    progress_bar = ProgressBar(range(len(test_dataloader)))\n",
        "    print('Computing logits (unweighted average)...')\n",
        "\n",
        "    for batch in test_dataloader:\n",
        "        b_input_ids, b_attn_mask = tuple(sample.to(device) for sample in batch)[:2]\n",
        "        batch_logits = []\n",
        "        for model in models:\n",
        "            with torch.no_grad():\n",
        "                logits = model(b_input_ids, b_attn_mask)\n",
        "                if model.model_name == 'AraBERT':\n",
        "                    logits = logits.logits\n",
        "            batch_logits.append(logits)  # No weights applied\n",
        "        avg_logits = sum(batch_logits) / len(models)  # Equal average\n",
        "        all_logits.append(avg_logits)\n",
        "        progress_bar.update(1)\n",
        "\n",
        "    all_logits = torch.cat(all_logits, dim=0)\n",
        "    probs = F.softmax(all_logits, dim=1).cpu().numpy()\n",
        "    tensor = torch.from_numpy(probs)\n",
        "    ytest = torch.max(tensor, dim=1)\n",
        "\n",
        "    return tensor, ytest, df, contribution_percentages\n"
      ],
      "metadata": {
        "id": "Ol63yg2xIi-u"
      },
      "execution_count": null,
      "outputs": []
    },
    {
      "cell_type": "code",
      "source": [
        "tensor , y_pred,df,contribution_percentages = ensemble_bert_predict_unweighted(ensemble_models, test_dataloader, device,save_dir=PY_ENSEMBLE_MODEL_DIR1 ,is_accuracy=True)\n"
      ],
      "metadata": {
        "id": "Kw-7IrucTpam"
      },
      "execution_count": null,
      "outputs": []
    },
    {
      "cell_type": "code",
      "source": [
        "print_classification_report(y_pred,save_dir=PY_ENSEMBLE_MODEL_DIR1,title='Classification Report - Ensemble Model')"
      ],
      "metadata": {
        "id": "shVlo7SuUdLq"
      },
      "execution_count": null,
      "outputs": []
    },
    {
      "cell_type": "code",
      "source": [
        "show_confusion_matrix(y_pred,title = 'Confusion Matrix - Ensemble Model',save_dir = PY_ENSEMBLE_MODEL_DIR1)"
      ],
      "metadata": {
        "id": "iGoSKI1vUfVA"
      },
      "execution_count": null,
      "outputs": []
    }
  ],
  "metadata": {
    "accelerator": "GPU",
    "colab": {
      "collapsed_sections": [
        "RMXPLeRuMpd3",
        "b9JLrEECf60N",
        "CqyzSmBXp-Wb",
        "bmHXoCZSITw_",
        "ikHQBnVdfub_",
        "lbEfkWjQoot7",
        "LxmOpxKUdcKJ",
        "86RcmAILabTs",
        "1tXKFO_y9_bS",
        "xSNujt8YE6IN",
        "C9pGQrzYcqnj",
        "XusZn9lKcqnl",
        "9hemuWBW7HZo",
        "yZhjja1uMayD",
        "1zAuDdxGfRLb",
        "MhvyUQlLjqKD",
        "TvGvBo6xFXpf"
      ],
      "gpuType": "A100",
      "provenance": []
    },
    "kernelspec": {
      "display_name": "Python 3",
      "name": "python3"
    },
    "language_info": {
      "name": "python"
    }
  },
  "nbformat": 4,
  "nbformat_minor": 0
}